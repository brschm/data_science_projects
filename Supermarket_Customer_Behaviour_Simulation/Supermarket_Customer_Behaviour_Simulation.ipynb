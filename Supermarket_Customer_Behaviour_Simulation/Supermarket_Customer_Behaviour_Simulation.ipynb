{
 "cells": [
  {
   "cell_type": "markdown",
   "id": "c5464544",
   "metadata": {},
   "source": [
    "# Object-Oriented Programming Project: \n",
    "#  Markov Simulation for Customer Behaviour in a Supermarket.\n",
    "\n",
    "In this project, we aim at understanding customer's behaviour in a supermarket better in order to optimize its respective layout, staffing and service. The goals could be: \n",
    "- Understanding customers' behaviour\n",
    "- Optimize staffing based on e.g., rush hours\n",
    "- explain and visualize customers' behaviour to non-data staff.\n",
    "\n",
    "The considered supermarket has six areas that are called *entrance, fruit, spices, dairy, drinks, and checkout*. \n",
    "\n",
    "\n",
    "\n",
    "The project consists of the following steps: \n",
    "- Exploratory data analysis on data from one day at the supermarket\n",
    "- Calculate the transition probabilites that we need to model a customer's movement by means of a markov simulation\n",
    "- Implement two classes: *Customer Class* and *Supermarket Class*\n",
    "- Running the Markov simulation and store everything in a dataframe. "
   ]
  },
  {
   "cell_type": "code",
   "execution_count": 1,
   "id": "bb09c5e3",
   "metadata": {},
   "outputs": [],
   "source": [
    "import pandas as pd\n",
    "import matplotlib.pyplot as plt\n",
    "import seaborn as sns\n",
    "import numpy as np\n",
    "import random\n",
    "from datetime import datetime, date, timedelta\n",
    "import datetime as dt\n",
    "\n",
    "plt.rcParams['figure.figsize'] = (14,6)"
   ]
  },
  {
   "cell_type": "markdown",
   "id": "47a807ce",
   "metadata": {
    "heading_collapsed": true
   },
   "source": [
    "# 1) Load, Explore and Engineer Data"
   ]
  },
  {
   "cell_type": "code",
   "execution_count": 6,
   "id": "a9ebf78d",
   "metadata": {
    "hidden": true
   },
   "outputs": [],
   "source": [
    "#load csv to dataframe\n",
    "mondf=pd.read_csv('monday.csv', sep=';', index_col=0, parse_dates=True)"
   ]
  },
  {
   "cell_type": "code",
   "execution_count": 7,
   "id": "ec21675e",
   "metadata": {
    "hidden": true
   },
   "outputs": [
    {
     "data": {
      "text/html": [
       "<div>\n",
       "<style scoped>\n",
       "    .dataframe tbody tr th:only-of-type {\n",
       "        vertical-align: middle;\n",
       "    }\n",
       "\n",
       "    .dataframe tbody tr th {\n",
       "        vertical-align: top;\n",
       "    }\n",
       "\n",
       "    .dataframe thead th {\n",
       "        text-align: right;\n",
       "    }\n",
       "</style>\n",
       "<table border=\"1\" class=\"dataframe\">\n",
       "  <thead>\n",
       "    <tr style=\"text-align: right;\">\n",
       "      <th></th>\n",
       "      <th>customer_no</th>\n",
       "      <th>location</th>\n",
       "    </tr>\n",
       "    <tr>\n",
       "      <th>timestamp</th>\n",
       "      <th></th>\n",
       "      <th></th>\n",
       "    </tr>\n",
       "  </thead>\n",
       "  <tbody>\n",
       "    <tr>\n",
       "      <th>2019-09-02 07:03:00</th>\n",
       "      <td>1</td>\n",
       "      <td>dairy</td>\n",
       "    </tr>\n",
       "    <tr>\n",
       "      <th>2019-09-02 07:03:00</th>\n",
       "      <td>2</td>\n",
       "      <td>dairy</td>\n",
       "    </tr>\n",
       "    <tr>\n",
       "      <th>2019-09-02 07:04:00</th>\n",
       "      <td>3</td>\n",
       "      <td>dairy</td>\n",
       "    </tr>\n",
       "    <tr>\n",
       "      <th>2019-09-02 07:04:00</th>\n",
       "      <td>4</td>\n",
       "      <td>dairy</td>\n",
       "    </tr>\n",
       "    <tr>\n",
       "      <th>2019-09-02 07:04:00</th>\n",
       "      <td>5</td>\n",
       "      <td>spices</td>\n",
       "    </tr>\n",
       "  </tbody>\n",
       "</table>\n",
       "</div>"
      ],
      "text/plain": [
       "                     customer_no location\n",
       "timestamp                                \n",
       "2019-09-02 07:03:00            1    dairy\n",
       "2019-09-02 07:03:00            2    dairy\n",
       "2019-09-02 07:04:00            3    dairy\n",
       "2019-09-02 07:04:00            4    dairy\n",
       "2019-09-02 07:04:00            5   spices"
      ]
     },
     "execution_count": 7,
     "metadata": {},
     "output_type": "execute_result"
    }
   ],
   "source": [
    "#get overview on data\n",
    "mondf.head()"
   ]
  },
  {
   "cell_type": "markdown",
   "id": "d1911b89",
   "metadata": {
    "heading_collapsed": true,
    "hidden": true
   },
   "source": [
    "## Get some insights to data"
   ]
  },
  {
   "cell_type": "markdown",
   "id": "74ad4581",
   "metadata": {
    "hidden": true
   },
   "source": [
    "**Get info on how many customers are tracked in the dataframe.** "
   ]
  },
  {
   "cell_type": "code",
   "execution_count": 106,
   "id": "198630de",
   "metadata": {
    "hidden": true
   },
   "outputs": [
    {
     "data": {
      "text/plain": [
       "'We have data of 1443 customers in the dataframe.'"
      ]
     },
     "execution_count": 106,
     "metadata": {},
     "output_type": "execute_result"
    }
   ],
   "source": [
    "numcust = mondf['customer_no'].nunique()\n",
    "f\"We have data of {numcust} customers in the dataframe.\""
   ]
  },
  {
   "cell_type": "markdown",
   "id": "f07d7e58",
   "metadata": {
    "hidden": true
   },
   "source": [
    "**Get info on the mean of the number of locations a customer visits during his/her stay.**"
   ]
  },
  {
   "cell_type": "code",
   "execution_count": 56,
   "id": "7f50ba9c",
   "metadata": {
    "hidden": true
   },
   "outputs": [
    {
     "name": "stdout",
     "output_type": "stream",
     "text": [
      "On average, a customer visits 2.9279279279279278 different areas during a stay in the supermarket.\n"
     ]
    }
   ],
   "source": [
    "count_areas=pd.DataFrame(mondf.groupby(['customer_no'])['location'].nunique())\n",
    "ca_mean=count_areas['location'].mean()\n",
    "print(f\"On average, a customer visits {ca_mean} different areas during a stay in the supermarket.\")"
   ]
  },
  {
   "cell_type": "markdown",
   "id": "c70a3194",
   "metadata": {
    "hidden": true
   },
   "source": [
    "**Get info on the different locations contained in the dataframe.**"
   ]
  },
  {
   "cell_type": "code",
   "execution_count": 83,
   "id": "3bc6c549",
   "metadata": {
    "hidden": true
   },
   "outputs": [
    {
     "data": {
      "text/plain": [
       "array(['dairy', 'spices', 'fruit', 'checkout', 'drinks'], dtype=object)"
      ]
     },
     "execution_count": 83,
     "metadata": {},
     "output_type": "execute_result"
    }
   ],
   "source": [
    "locations = mondf['location'].unique()\n",
    "locations"
   ]
  },
  {
   "cell_type": "markdown",
   "id": "ebe288f2",
   "metadata": {
    "hidden": true
   },
   "source": [
    "**Plot number of customers in the supermarket per opening hour.**"
   ]
  },
  {
   "cell_type": "code",
   "execution_count": 122,
   "id": "fe5bc6c0",
   "metadata": {
    "hidden": true
   },
   "outputs": [
    {
     "data": {
      "image/png": "[encoded data removed]",
      "text/plain": [
       "<Figure size 1400x600 with 1 Axes>"
      ]
     },
     "metadata": {},
     "output_type": "display_data"
    }
   ],
   "source": [
    "mondf.groupby(mondf.index.hour)['customer_no'].nunique().plot();\n",
    "plt.title('Number of customers in the supermarket');\n",
    "plt.xlabel('hour');\n",
    "plt.ylabel('Number of customers');"
   ]
  },
  {
   "cell_type": "markdown",
   "id": "50ba7860",
   "metadata": {
    "hidden": true
   },
   "source": [
    "**Let's plot the number of customers in all areas during every hour of the opening hours.**"
   ]
  },
  {
   "cell_type": "code",
   "execution_count": 100,
   "id": "ad16ecd8",
   "metadata": {
    "hidden": true
   },
   "outputs": [
    {
     "data": {
      "image/png": "[encoded data removed]",
      "text/plain": [
       "<Figure size 1400x600 with 5 Axes>"
      ]
     },
     "metadata": {},
     "output_type": "display_data"
    }
   ],
   "source": [
    "for idx, loc in enumerate(locations):\n",
    "    plt.subplot(3, 2, idx+1)\n",
    "    plt.subplots_adjust(hspace=0.8, wspace=0.125)\n",
    "    ax=sns.countplot(data=mondf[mondf['location']==loc], x=mondf[mondf['location']==loc].index.hour, palette='pastel')\n",
    "    ax.set(xlabel='hour', ylabel='# customers', title=(loc))"
   ]
  },
  {
   "cell_type": "markdown",
   "id": "58b4d7a0",
   "metadata": {
    "heading_collapsed": true,
    "hidden": true
   },
   "source": [
    "## Now let's engineer the data"
   ]
  },
  {
   "cell_type": "markdown",
   "id": "eb3dbddd",
   "metadata": {
    "hidden": true
   },
   "source": [
    "To simulate area transitions, insert new column and indicate the area in which the customer will move after leaving the current location. Whenever a customer is located at checkout, s/he cannot move to another location, but will stay at checkout, indicating that s/he leaves the supermarket. \n",
    "\n",
    "Note that not every minute of a customer's stay in the supermarket is tracked. Instead, whenever the customer does not change the location, the respective minute is not tracked. This issue will be tackled in what follows."
   ]
  },
  {
   "cell_type": "code",
   "execution_count": 8,
   "id": "80f59622",
   "metadata": {
    "hidden": true
   },
   "outputs": [],
   "source": [
    "mondf['after'] = mondf.groupby('customer_no')['location'].shift(-1).replace(np.nan,'checkout')"
   ]
  },
  {
   "cell_type": "code",
   "execution_count": 9,
   "id": "d4061239",
   "metadata": {
    "hidden": true
   },
   "outputs": [
    {
     "data": {
      "text/html": [
       "<div>\n",
       "<style scoped>\n",
       "    .dataframe tbody tr th:only-of-type {\n",
       "        vertical-align: middle;\n",
       "    }\n",
       "\n",
       "    .dataframe tbody tr th {\n",
       "        vertical-align: top;\n",
       "    }\n",
       "\n",
       "    .dataframe thead th {\n",
       "        text-align: right;\n",
       "    }\n",
       "</style>\n",
       "<table border=\"1\" class=\"dataframe\">\n",
       "  <thead>\n",
       "    <tr style=\"text-align: right;\">\n",
       "      <th></th>\n",
       "      <th>customer_no</th>\n",
       "      <th>location</th>\n",
       "      <th>after</th>\n",
       "    </tr>\n",
       "    <tr>\n",
       "      <th>timestamp</th>\n",
       "      <th></th>\n",
       "      <th></th>\n",
       "      <th></th>\n",
       "    </tr>\n",
       "  </thead>\n",
       "  <tbody>\n",
       "    <tr>\n",
       "      <th>2019-09-02 07:03:00</th>\n",
       "      <td>1</td>\n",
       "      <td>dairy</td>\n",
       "      <td>checkout</td>\n",
       "    </tr>\n",
       "    <tr>\n",
       "      <th>2019-09-02 07:03:00</th>\n",
       "      <td>2</td>\n",
       "      <td>dairy</td>\n",
       "      <td>checkout</td>\n",
       "    </tr>\n",
       "    <tr>\n",
       "      <th>2019-09-02 07:04:00</th>\n",
       "      <td>3</td>\n",
       "      <td>dairy</td>\n",
       "      <td>checkout</td>\n",
       "    </tr>\n",
       "    <tr>\n",
       "      <th>2019-09-02 07:04:00</th>\n",
       "      <td>4</td>\n",
       "      <td>dairy</td>\n",
       "      <td>checkout</td>\n",
       "    </tr>\n",
       "    <tr>\n",
       "      <th>2019-09-02 07:04:00</th>\n",
       "      <td>5</td>\n",
       "      <td>spices</td>\n",
       "      <td>checkout</td>\n",
       "    </tr>\n",
       "    <tr>\n",
       "      <th>2019-09-02 07:04:00</th>\n",
       "      <td>6</td>\n",
       "      <td>spices</td>\n",
       "      <td>dairy</td>\n",
       "    </tr>\n",
       "    <tr>\n",
       "      <th>2019-09-02 07:04:00</th>\n",
       "      <td>7</td>\n",
       "      <td>spices</td>\n",
       "      <td>drinks</td>\n",
       "    </tr>\n",
       "    <tr>\n",
       "      <th>2019-09-02 07:04:00</th>\n",
       "      <td>8</td>\n",
       "      <td>fruit</td>\n",
       "      <td>checkout</td>\n",
       "    </tr>\n",
       "    <tr>\n",
       "      <th>2019-09-02 07:05:00</th>\n",
       "      <td>1</td>\n",
       "      <td>checkout</td>\n",
       "      <td>checkout</td>\n",
       "    </tr>\n",
       "    <tr>\n",
       "      <th>2019-09-02 07:05:00</th>\n",
       "      <td>5</td>\n",
       "      <td>checkout</td>\n",
       "      <td>checkout</td>\n",
       "    </tr>\n",
       "  </tbody>\n",
       "</table>\n",
       "</div>"
      ],
      "text/plain": [
       "                     customer_no  location     after\n",
       "timestamp                                           \n",
       "2019-09-02 07:03:00            1     dairy  checkout\n",
       "2019-09-02 07:03:00            2     dairy  checkout\n",
       "2019-09-02 07:04:00            3     dairy  checkout\n",
       "2019-09-02 07:04:00            4     dairy  checkout\n",
       "2019-09-02 07:04:00            5    spices  checkout\n",
       "2019-09-02 07:04:00            6    spices     dairy\n",
       "2019-09-02 07:04:00            7    spices    drinks\n",
       "2019-09-02 07:04:00            8     fruit  checkout\n",
       "2019-09-02 07:05:00            1  checkout  checkout\n",
       "2019-09-02 07:05:00            5  checkout  checkout"
      ]
     },
     "execution_count": 9,
     "metadata": {},
     "output_type": "execute_result"
    }
   ],
   "source": [
    "mondf.head(10)"
   ]
  },
  {
   "cell_type": "markdown",
   "id": "d31c63c2",
   "metadata": {
    "hidden": true
   },
   "source": [
    "**Get preliminary transition probability matrix for Markov Simulation**\n",
    "\n",
    "Note that this matrix does not include the probabilty of transition to the same location, that is staying in the same location for a longer time (e.g., several minutes)."
   ]
  },
  {
   "cell_type": "code",
   "execution_count": 10,
   "id": "01567d24",
   "metadata": {
    "hidden": true
   },
   "outputs": [
    {
     "data": {
      "text/html": [
       "<div>\n",
       "<style scoped>\n",
       "    .dataframe tbody tr th:only-of-type {\n",
       "        vertical-align: middle;\n",
       "    }\n",
       "\n",
       "    .dataframe tbody tr th {\n",
       "        vertical-align: top;\n",
       "    }\n",
       "\n",
       "    .dataframe thead th {\n",
       "        text-align: right;\n",
       "    }\n",
       "</style>\n",
       "<table border=\"1\" class=\"dataframe\">\n",
       "  <thead>\n",
       "    <tr style=\"text-align: right;\">\n",
       "      <th>after</th>\n",
       "      <th>checkout</th>\n",
       "      <th>dairy</th>\n",
       "      <th>drinks</th>\n",
       "      <th>fruit</th>\n",
       "      <th>spices</th>\n",
       "    </tr>\n",
       "    <tr>\n",
       "      <th>location</th>\n",
       "      <th></th>\n",
       "      <th></th>\n",
       "      <th></th>\n",
       "      <th></th>\n",
       "      <th></th>\n",
       "    </tr>\n",
       "  </thead>\n",
       "  <tbody>\n",
       "    <tr>\n",
       "      <th>checkout</th>\n",
       "      <td>1437</td>\n",
       "      <td>0</td>\n",
       "      <td>0</td>\n",
       "      <td>0</td>\n",
       "      <td>0</td>\n",
       "    </tr>\n",
       "    <tr>\n",
       "      <th>dairy</th>\n",
       "      <td>314</td>\n",
       "      <td>0</td>\n",
       "      <td>218</td>\n",
       "      <td>180</td>\n",
       "      <td>183</td>\n",
       "    </tr>\n",
       "    <tr>\n",
       "      <th>drinks</th>\n",
       "      <td>426</td>\n",
       "      <td>23</td>\n",
       "      <td>0</td>\n",
       "      <td>186</td>\n",
       "      <td>162</td>\n",
       "    </tr>\n",
       "    <tr>\n",
       "      <th>fruit</th>\n",
       "      <td>528</td>\n",
       "      <td>225</td>\n",
       "      <td>130</td>\n",
       "      <td>0</td>\n",
       "      <td>122</td>\n",
       "    </tr>\n",
       "    <tr>\n",
       "      <th>spices</th>\n",
       "      <td>179</td>\n",
       "      <td>235</td>\n",
       "      <td>217</td>\n",
       "      <td>119</td>\n",
       "      <td>0</td>\n",
       "    </tr>\n",
       "  </tbody>\n",
       "</table>\n",
       "</div>"
      ],
      "text/plain": [
       "after     checkout  dairy  drinks  fruit  spices\n",
       "location                                        \n",
       "checkout      1437      0       0      0       0\n",
       "dairy          314      0     218    180     183\n",
       "drinks         426     23       0    186     162\n",
       "fruit          528    225     130      0     122\n",
       "spices         179    235     217    119       0"
      ]
     },
     "execution_count": 10,
     "metadata": {},
     "output_type": "execute_result"
    }
   ],
   "source": [
    "pd.crosstab(mondf['location'], mondf['after'])"
   ]
  },
  {
   "cell_type": "markdown",
   "id": "f2633507",
   "metadata": {
    "hidden": true
   },
   "source": [
    "**Aquire information on when customer leaves location**"
   ]
  },
  {
   "cell_type": "markdown",
   "id": "ba40a015",
   "metadata": {
    "hidden": true
   },
   "source": [
    "The aim is to get the information on how long each customer stays in every location."
   ]
  },
  {
   "cell_type": "code",
   "execution_count": 11,
   "id": "07d6662d",
   "metadata": {
    "hidden": true
   },
   "outputs": [],
   "source": [
    "mondf.reset_index(inplace=True)\n",
    "mondf['timestamp_leave'] = mondf.groupby('customer_no')['timestamp'].shift(-1) "
   ]
  },
  {
   "cell_type": "code",
   "execution_count": 12,
   "id": "e4ab6cbd",
   "metadata": {
    "hidden": true
   },
   "outputs": [],
   "source": [
    "#assume that every customer spends 2 minutes at checkout\n",
    "mondf['timestamp_leave'] = mondf['timestamp_leave'].fillna((mondf['timestamp']+timedelta(minutes=2)))"
   ]
  },
  {
   "cell_type": "code",
   "execution_count": 13,
   "id": "a502b74e",
   "metadata": {
    "hidden": true
   },
   "outputs": [
    {
     "data": {
      "text/html": [
       "<div>\n",
       "<style scoped>\n",
       "    .dataframe tbody tr th:only-of-type {\n",
       "        vertical-align: middle;\n",
       "    }\n",
       "\n",
       "    .dataframe tbody tr th {\n",
       "        vertical-align: top;\n",
       "    }\n",
       "\n",
       "    .dataframe thead th {\n",
       "        text-align: right;\n",
       "    }\n",
       "</style>\n",
       "<table border=\"1\" class=\"dataframe\">\n",
       "  <thead>\n",
       "    <tr style=\"text-align: right;\">\n",
       "      <th></th>\n",
       "      <th>timestamp</th>\n",
       "      <th>customer_no</th>\n",
       "      <th>location</th>\n",
       "      <th>after</th>\n",
       "      <th>timestamp_leave</th>\n",
       "    </tr>\n",
       "  </thead>\n",
       "  <tbody>\n",
       "    <tr>\n",
       "      <th>0</th>\n",
       "      <td>2019-09-02 07:03:00</td>\n",
       "      <td>1</td>\n",
       "      <td>dairy</td>\n",
       "      <td>checkout</td>\n",
       "      <td>2019-09-02 07:05:00</td>\n",
       "    </tr>\n",
       "    <tr>\n",
       "      <th>1</th>\n",
       "      <td>2019-09-02 07:03:00</td>\n",
       "      <td>2</td>\n",
       "      <td>dairy</td>\n",
       "      <td>checkout</td>\n",
       "      <td>2019-09-02 07:06:00</td>\n",
       "    </tr>\n",
       "    <tr>\n",
       "      <th>2</th>\n",
       "      <td>2019-09-02 07:04:00</td>\n",
       "      <td>3</td>\n",
       "      <td>dairy</td>\n",
       "      <td>checkout</td>\n",
       "      <td>2019-09-02 07:06:00</td>\n",
       "    </tr>\n",
       "    <tr>\n",
       "      <th>3</th>\n",
       "      <td>2019-09-02 07:04:00</td>\n",
       "      <td>4</td>\n",
       "      <td>dairy</td>\n",
       "      <td>checkout</td>\n",
       "      <td>2019-09-02 07:08:00</td>\n",
       "    </tr>\n",
       "    <tr>\n",
       "      <th>4</th>\n",
       "      <td>2019-09-02 07:04:00</td>\n",
       "      <td>5</td>\n",
       "      <td>spices</td>\n",
       "      <td>checkout</td>\n",
       "      <td>2019-09-02 07:05:00</td>\n",
       "    </tr>\n",
       "    <tr>\n",
       "      <th>5</th>\n",
       "      <td>2019-09-02 07:04:00</td>\n",
       "      <td>6</td>\n",
       "      <td>spices</td>\n",
       "      <td>dairy</td>\n",
       "      <td>2019-09-02 07:05:00</td>\n",
       "    </tr>\n",
       "    <tr>\n",
       "      <th>6</th>\n",
       "      <td>2019-09-02 07:04:00</td>\n",
       "      <td>7</td>\n",
       "      <td>spices</td>\n",
       "      <td>drinks</td>\n",
       "      <td>2019-09-02 07:05:00</td>\n",
       "    </tr>\n",
       "    <tr>\n",
       "      <th>7</th>\n",
       "      <td>2019-09-02 07:04:00</td>\n",
       "      <td>8</td>\n",
       "      <td>fruit</td>\n",
       "      <td>checkout</td>\n",
       "      <td>2019-09-02 07:07:00</td>\n",
       "    </tr>\n",
       "    <tr>\n",
       "      <th>8</th>\n",
       "      <td>2019-09-02 07:05:00</td>\n",
       "      <td>1</td>\n",
       "      <td>checkout</td>\n",
       "      <td>checkout</td>\n",
       "      <td>2019-09-02 07:07:00</td>\n",
       "    </tr>\n",
       "    <tr>\n",
       "      <th>9</th>\n",
       "      <td>2019-09-02 07:05:00</td>\n",
       "      <td>5</td>\n",
       "      <td>checkout</td>\n",
       "      <td>checkout</td>\n",
       "      <td>2019-09-02 07:07:00</td>\n",
       "    </tr>\n",
       "  </tbody>\n",
       "</table>\n",
       "</div>"
      ],
      "text/plain": [
       "            timestamp  customer_no  location     after     timestamp_leave\n",
       "0 2019-09-02 07:03:00            1     dairy  checkout 2019-09-02 07:05:00\n",
       "1 2019-09-02 07:03:00            2     dairy  checkout 2019-09-02 07:06:00\n",
       "2 2019-09-02 07:04:00            3     dairy  checkout 2019-09-02 07:06:00\n",
       "3 2019-09-02 07:04:00            4     dairy  checkout 2019-09-02 07:08:00\n",
       "4 2019-09-02 07:04:00            5    spices  checkout 2019-09-02 07:05:00\n",
       "5 2019-09-02 07:04:00            6    spices     dairy 2019-09-02 07:05:00\n",
       "6 2019-09-02 07:04:00            7    spices    drinks 2019-09-02 07:05:00\n",
       "7 2019-09-02 07:04:00            8     fruit  checkout 2019-09-02 07:07:00\n",
       "8 2019-09-02 07:05:00            1  checkout  checkout 2019-09-02 07:07:00\n",
       "9 2019-09-02 07:05:00            5  checkout  checkout 2019-09-02 07:07:00"
      ]
     },
     "execution_count": 13,
     "metadata": {},
     "output_type": "execute_result"
    }
   ],
   "source": [
    "mondf.head(10)"
   ]
  },
  {
   "cell_type": "code",
   "execution_count": 14,
   "id": "73d1169f",
   "metadata": {
    "hidden": true
   },
   "outputs": [],
   "source": [
    "#reset index to timestamp\n",
    "mondf.set_index('timestamp',inplace=True)"
   ]
  },
  {
   "cell_type": "code",
   "execution_count": 15,
   "id": "5dffc4d4",
   "metadata": {
    "hidden": true
   },
   "outputs": [
    {
     "data": {
      "text/html": [
       "<div>\n",
       "<style scoped>\n",
       "    .dataframe tbody tr th:only-of-type {\n",
       "        vertical-align: middle;\n",
       "    }\n",
       "\n",
       "    .dataframe tbody tr th {\n",
       "        vertical-align: top;\n",
       "    }\n",
       "\n",
       "    .dataframe thead th {\n",
       "        text-align: right;\n",
       "    }\n",
       "</style>\n",
       "<table border=\"1\" class=\"dataframe\">\n",
       "  <thead>\n",
       "    <tr style=\"text-align: right;\">\n",
       "      <th></th>\n",
       "      <th>customer_no</th>\n",
       "      <th>location</th>\n",
       "      <th>after</th>\n",
       "      <th>timestamp_leave</th>\n",
       "    </tr>\n",
       "    <tr>\n",
       "      <th>timestamp</th>\n",
       "      <th></th>\n",
       "      <th></th>\n",
       "      <th></th>\n",
       "      <th></th>\n",
       "    </tr>\n",
       "  </thead>\n",
       "  <tbody>\n",
       "    <tr>\n",
       "      <th>2019-09-02 07:03:00</th>\n",
       "      <td>1</td>\n",
       "      <td>dairy</td>\n",
       "      <td>checkout</td>\n",
       "      <td>2019-09-02 07:05:00</td>\n",
       "    </tr>\n",
       "    <tr>\n",
       "      <th>2019-09-02 07:03:00</th>\n",
       "      <td>2</td>\n",
       "      <td>dairy</td>\n",
       "      <td>checkout</td>\n",
       "      <td>2019-09-02 07:06:00</td>\n",
       "    </tr>\n",
       "    <tr>\n",
       "      <th>2019-09-02 07:04:00</th>\n",
       "      <td>3</td>\n",
       "      <td>dairy</td>\n",
       "      <td>checkout</td>\n",
       "      <td>2019-09-02 07:06:00</td>\n",
       "    </tr>\n",
       "    <tr>\n",
       "      <th>2019-09-02 07:04:00</th>\n",
       "      <td>4</td>\n",
       "      <td>dairy</td>\n",
       "      <td>checkout</td>\n",
       "      <td>2019-09-02 07:08:00</td>\n",
       "    </tr>\n",
       "    <tr>\n",
       "      <th>2019-09-02 07:04:00</th>\n",
       "      <td>5</td>\n",
       "      <td>spices</td>\n",
       "      <td>checkout</td>\n",
       "      <td>2019-09-02 07:05:00</td>\n",
       "    </tr>\n",
       "  </tbody>\n",
       "</table>\n",
       "</div>"
      ],
      "text/plain": [
       "                     customer_no location     after     timestamp_leave\n",
       "timestamp                                                              \n",
       "2019-09-02 07:03:00            1    dairy  checkout 2019-09-02 07:05:00\n",
       "2019-09-02 07:03:00            2    dairy  checkout 2019-09-02 07:06:00\n",
       "2019-09-02 07:04:00            3    dairy  checkout 2019-09-02 07:06:00\n",
       "2019-09-02 07:04:00            4    dairy  checkout 2019-09-02 07:08:00\n",
       "2019-09-02 07:04:00            5   spices  checkout 2019-09-02 07:05:00"
      ]
     },
     "execution_count": 15,
     "metadata": {},
     "output_type": "execute_result"
    }
   ],
   "source": [
    "mondf.head()"
   ]
  },
  {
   "cell_type": "markdown",
   "id": "3086cdca",
   "metadata": {
    "hidden": true
   },
   "source": [
    "**Delete cases where only one location is visited.**\n",
    "\n",
    "The reason is that people who enter the supermarket right before closing time, never reach checkout according to the dataframe. Therefore, we drop the respective entries (after inspecting the number of customers for whom that applies). "
   ]
  },
  {
   "cell_type": "code",
   "execution_count": 21,
   "id": "e486ee8d",
   "metadata": {
    "hidden": true
   },
   "outputs": [],
   "source": [
    "#get overview of number of locations each customer visits during his/her stay\n",
    "vis_areas = pd.DataFrame(mondf.groupby('customer_no')['location'].count())"
   ]
  },
  {
   "cell_type": "code",
   "execution_count": 18,
   "id": "84886182",
   "metadata": {
    "hidden": true
   },
   "outputs": [
    {
     "data": {
      "text/html": [
       "<div>\n",
       "<style scoped>\n",
       "    .dataframe tbody tr th:only-of-type {\n",
       "        vertical-align: middle;\n",
       "    }\n",
       "\n",
       "    .dataframe tbody tr th {\n",
       "        vertical-align: top;\n",
       "    }\n",
       "\n",
       "    .dataframe thead th {\n",
       "        text-align: right;\n",
       "    }\n",
       "</style>\n",
       "<table border=\"1\" class=\"dataframe\">\n",
       "  <thead>\n",
       "    <tr style=\"text-align: right;\">\n",
       "      <th></th>\n",
       "      <th>location</th>\n",
       "    </tr>\n",
       "    <tr>\n",
       "      <th>customer_no</th>\n",
       "      <th></th>\n",
       "    </tr>\n",
       "  </thead>\n",
       "  <tbody>\n",
       "    <tr>\n",
       "      <th>1</th>\n",
       "      <td>2</td>\n",
       "    </tr>\n",
       "    <tr>\n",
       "      <th>2</th>\n",
       "      <td>2</td>\n",
       "    </tr>\n",
       "    <tr>\n",
       "      <th>3</th>\n",
       "      <td>2</td>\n",
       "    </tr>\n",
       "    <tr>\n",
       "      <th>4</th>\n",
       "      <td>2</td>\n",
       "    </tr>\n",
       "    <tr>\n",
       "      <th>5</th>\n",
       "      <td>2</td>\n",
       "    </tr>\n",
       "  </tbody>\n",
       "</table>\n",
       "</div>"
      ],
      "text/plain": [
       "             location\n",
       "customer_no          \n",
       "1                   2\n",
       "2                   2\n",
       "3                   2\n",
       "4                   2\n",
       "5                   2"
      ]
     },
     "execution_count": 18,
     "metadata": {},
     "output_type": "execute_result"
    }
   ],
   "source": [
    "vis_areas.head()"
   ]
  },
  {
   "cell_type": "code",
   "execution_count": 19,
   "id": "266e49c1",
   "metadata": {
    "hidden": true
   },
   "outputs": [],
   "source": [
    "def filter_rows_by_values(df, col, values):\n",
    "    return df[~df[col].isin(values)]"
   ]
  },
  {
   "cell_type": "code",
   "execution_count": 20,
   "id": "7b2b4fc7",
   "metadata": {
    "hidden": true
   },
   "outputs": [
    {
     "name": "stdout",
     "output_type": "stream",
     "text": [
      "[1439, 1445, 1446, 1447]\n"
     ]
    }
   ],
   "source": [
    "#get customer numbers of those who never reach checkout\n",
    "idx_list=[]\n",
    "for l in range(vis_areas[vis_areas['location']==1].shape[0]):\n",
    "    idx_list.append(vis_areas[vis_areas['location']==1].index[l])\n",
    "print(idx_list)"
   ]
  },
  {
   "cell_type": "code",
   "execution_count": 22,
   "id": "e3400246",
   "metadata": {
    "hidden": true
   },
   "outputs": [],
   "source": [
    "#remove above filtered customer ids\n",
    "mondf = filter_rows_by_values(mondf, 'customer_no', idx_list)"
   ]
  },
  {
   "cell_type": "markdown",
   "id": "e8df83f2",
   "metadata": {
    "hidden": true
   },
   "source": [
    "**Use upsampling to get every minute in the timeframe**\n",
    "\n",
    "To implement the Markov simulation, we need information on every minute of a customer's stay in the supermarket, including the information wheather a customer stays in the same location or moves to another one. Therefore, we extend the dataframe such that every minute of a customer's stay is tracked."
   ]
  },
  {
   "cell_type": "code",
   "execution_count": 23,
   "id": "fb8f1974",
   "metadata": {
    "hidden": true
   },
   "outputs": [],
   "source": [
    "mondfres = mondf.groupby('customer_no',as_index=False).resample('1min').ffill()\n",
    "mondfres.reset_index(inplace=True)\n",
    "mondfres.drop(columns=['level_0'],inplace=True)\n",
    "mondfres['time'] = mondfres['timestamp'].dt.time"
   ]
  },
  {
   "cell_type": "code",
   "execution_count": 24,
   "id": "fc8ef4f0",
   "metadata": {
    "hidden": true
   },
   "outputs": [],
   "source": [
    "mondfres['after'] = mondfres.groupby('customer_no')['location'].shift(-1)\n",
    "mondfres['after'] = mondfres['after'].replace(np.nan,'checkout')"
   ]
  },
  {
   "cell_type": "code",
   "execution_count": 25,
   "id": "2e7b3d8c",
   "metadata": {
    "hidden": true
   },
   "outputs": [
    {
     "data": {
      "text/html": [
       "<div>\n",
       "<style scoped>\n",
       "    .dataframe tbody tr th:only-of-type {\n",
       "        vertical-align: middle;\n",
       "    }\n",
       "\n",
       "    .dataframe tbody tr th {\n",
       "        vertical-align: top;\n",
       "    }\n",
       "\n",
       "    .dataframe thead th {\n",
       "        text-align: right;\n",
       "    }\n",
       "</style>\n",
       "<table border=\"1\" class=\"dataframe\">\n",
       "  <thead>\n",
       "    <tr style=\"text-align: right;\">\n",
       "      <th></th>\n",
       "      <th>timestamp</th>\n",
       "      <th>customer_no</th>\n",
       "      <th>location</th>\n",
       "      <th>after</th>\n",
       "      <th>timestamp_leave</th>\n",
       "      <th>time</th>\n",
       "    </tr>\n",
       "  </thead>\n",
       "  <tbody>\n",
       "    <tr>\n",
       "      <th>0</th>\n",
       "      <td>2019-09-02 07:03:00</td>\n",
       "      <td>1</td>\n",
       "      <td>dairy</td>\n",
       "      <td>dairy</td>\n",
       "      <td>2019-09-02 07:05:00</td>\n",
       "      <td>07:03:00</td>\n",
       "    </tr>\n",
       "    <tr>\n",
       "      <th>1</th>\n",
       "      <td>2019-09-02 07:04:00</td>\n",
       "      <td>1</td>\n",
       "      <td>dairy</td>\n",
       "      <td>checkout</td>\n",
       "      <td>2019-09-02 07:05:00</td>\n",
       "      <td>07:04:00</td>\n",
       "    </tr>\n",
       "    <tr>\n",
       "      <th>2</th>\n",
       "      <td>2019-09-02 07:05:00</td>\n",
       "      <td>1</td>\n",
       "      <td>checkout</td>\n",
       "      <td>checkout</td>\n",
       "      <td>2019-09-02 07:07:00</td>\n",
       "      <td>07:05:00</td>\n",
       "    </tr>\n",
       "    <tr>\n",
       "      <th>3</th>\n",
       "      <td>2019-09-02 07:03:00</td>\n",
       "      <td>2</td>\n",
       "      <td>dairy</td>\n",
       "      <td>dairy</td>\n",
       "      <td>2019-09-02 07:06:00</td>\n",
       "      <td>07:03:00</td>\n",
       "    </tr>\n",
       "    <tr>\n",
       "      <th>4</th>\n",
       "      <td>2019-09-02 07:04:00</td>\n",
       "      <td>2</td>\n",
       "      <td>dairy</td>\n",
       "      <td>dairy</td>\n",
       "      <td>2019-09-02 07:06:00</td>\n",
       "      <td>07:04:00</td>\n",
       "    </tr>\n",
       "    <tr>\n",
       "      <th>5</th>\n",
       "      <td>2019-09-02 07:05:00</td>\n",
       "      <td>2</td>\n",
       "      <td>dairy</td>\n",
       "      <td>checkout</td>\n",
       "      <td>2019-09-02 07:06:00</td>\n",
       "      <td>07:05:00</td>\n",
       "    </tr>\n",
       "    <tr>\n",
       "      <th>6</th>\n",
       "      <td>2019-09-02 07:06:00</td>\n",
       "      <td>2</td>\n",
       "      <td>checkout</td>\n",
       "      <td>checkout</td>\n",
       "      <td>2019-09-02 07:08:00</td>\n",
       "      <td>07:06:00</td>\n",
       "    </tr>\n",
       "    <tr>\n",
       "      <th>7</th>\n",
       "      <td>2019-09-02 07:04:00</td>\n",
       "      <td>3</td>\n",
       "      <td>dairy</td>\n",
       "      <td>dairy</td>\n",
       "      <td>2019-09-02 07:06:00</td>\n",
       "      <td>07:04:00</td>\n",
       "    </tr>\n",
       "    <tr>\n",
       "      <th>8</th>\n",
       "      <td>2019-09-02 07:05:00</td>\n",
       "      <td>3</td>\n",
       "      <td>dairy</td>\n",
       "      <td>checkout</td>\n",
       "      <td>2019-09-02 07:06:00</td>\n",
       "      <td>07:05:00</td>\n",
       "    </tr>\n",
       "    <tr>\n",
       "      <th>9</th>\n",
       "      <td>2019-09-02 07:06:00</td>\n",
       "      <td>3</td>\n",
       "      <td>checkout</td>\n",
       "      <td>checkout</td>\n",
       "      <td>2019-09-02 07:08:00</td>\n",
       "      <td>07:06:00</td>\n",
       "    </tr>\n",
       "  </tbody>\n",
       "</table>\n",
       "</div>"
      ],
      "text/plain": [
       "            timestamp  customer_no  location     after     timestamp_leave  \\\n",
       "0 2019-09-02 07:03:00            1     dairy     dairy 2019-09-02 07:05:00   \n",
       "1 2019-09-02 07:04:00            1     dairy  checkout 2019-09-02 07:05:00   \n",
       "2 2019-09-02 07:05:00            1  checkout  checkout 2019-09-02 07:07:00   \n",
       "3 2019-09-02 07:03:00            2     dairy     dairy 2019-09-02 07:06:00   \n",
       "4 2019-09-02 07:04:00            2     dairy     dairy 2019-09-02 07:06:00   \n",
       "5 2019-09-02 07:05:00            2     dairy  checkout 2019-09-02 07:06:00   \n",
       "6 2019-09-02 07:06:00            2  checkout  checkout 2019-09-02 07:08:00   \n",
       "7 2019-09-02 07:04:00            3     dairy     dairy 2019-09-02 07:06:00   \n",
       "8 2019-09-02 07:05:00            3     dairy  checkout 2019-09-02 07:06:00   \n",
       "9 2019-09-02 07:06:00            3  checkout  checkout 2019-09-02 07:08:00   \n",
       "\n",
       "       time  \n",
       "0  07:03:00  \n",
       "1  07:04:00  \n",
       "2  07:05:00  \n",
       "3  07:03:00  \n",
       "4  07:04:00  \n",
       "5  07:05:00  \n",
       "6  07:06:00  \n",
       "7  07:04:00  \n",
       "8  07:05:00  \n",
       "9  07:06:00  "
      ]
     },
     "execution_count": 25,
     "metadata": {},
     "output_type": "execute_result"
    }
   ],
   "source": [
    "mondfres.head(10)"
   ]
  },
  {
   "cell_type": "markdown",
   "id": "5388ec30",
   "metadata": {
    "hidden": true
   },
   "source": [
    "**Get final transition probability matrix**\n",
    "\n",
    "Includes now the probability for every customer to stay in current location."
   ]
  },
  {
   "cell_type": "code",
   "execution_count": 26,
   "id": "40bf3a24",
   "metadata": {
    "hidden": true
   },
   "outputs": [
    {
     "data": {
      "text/html": [
       "<div>\n",
       "<style scoped>\n",
       "    .dataframe tbody tr th:only-of-type {\n",
       "        vertical-align: middle;\n",
       "    }\n",
       "\n",
       "    .dataframe tbody tr th {\n",
       "        vertical-align: top;\n",
       "    }\n",
       "\n",
       "    .dataframe thead th {\n",
       "        text-align: right;\n",
       "    }\n",
       "</style>\n",
       "<table border=\"1\" class=\"dataframe\">\n",
       "  <thead>\n",
       "    <tr style=\"text-align: right;\">\n",
       "      <th>after</th>\n",
       "      <th>checkout</th>\n",
       "      <th>dairy</th>\n",
       "      <th>drinks</th>\n",
       "      <th>fruit</th>\n",
       "      <th>spices</th>\n",
       "    </tr>\n",
       "    <tr>\n",
       "      <th>location</th>\n",
       "      <th></th>\n",
       "      <th></th>\n",
       "      <th></th>\n",
       "      <th></th>\n",
       "      <th></th>\n",
       "    </tr>\n",
       "  </thead>\n",
       "  <tbody>\n",
       "    <tr>\n",
       "      <th>checkout</th>\n",
       "      <td>1437</td>\n",
       "      <td>0</td>\n",
       "      <td>0</td>\n",
       "      <td>0</td>\n",
       "      <td>0</td>\n",
       "    </tr>\n",
       "    <tr>\n",
       "      <th>dairy</th>\n",
       "      <td>312</td>\n",
       "      <td>2600</td>\n",
       "      <td>218</td>\n",
       "      <td>180</td>\n",
       "      <td>183</td>\n",
       "    </tr>\n",
       "    <tr>\n",
       "      <th>drinks</th>\n",
       "      <td>426</td>\n",
       "      <td>23</td>\n",
       "      <td>1250</td>\n",
       "      <td>186</td>\n",
       "      <td>162</td>\n",
       "    </tr>\n",
       "    <tr>\n",
       "      <th>fruit</th>\n",
       "      <td>526</td>\n",
       "      <td>225</td>\n",
       "      <td>130</td>\n",
       "      <td>1553</td>\n",
       "      <td>122</td>\n",
       "    </tr>\n",
       "    <tr>\n",
       "      <th>spices</th>\n",
       "      <td>179</td>\n",
       "      <td>235</td>\n",
       "      <td>217</td>\n",
       "      <td>119</td>\n",
       "      <td>478</td>\n",
       "    </tr>\n",
       "  </tbody>\n",
       "</table>\n",
       "</div>"
      ],
      "text/plain": [
       "after     checkout  dairy  drinks  fruit  spices\n",
       "location                                        \n",
       "checkout      1437      0       0      0       0\n",
       "dairy          312   2600     218    180     183\n",
       "drinks         426     23    1250    186     162\n",
       "fruit          526    225     130   1553     122\n",
       "spices         179    235     217    119     478"
      ]
     },
     "execution_count": 26,
     "metadata": {},
     "output_type": "execute_result"
    }
   ],
   "source": [
    "pd.crosstab(mondfres['location'], mondfres['after'])"
   ]
  },
  {
   "cell_type": "code",
   "execution_count": 27,
   "id": "ed78b911",
   "metadata": {
    "hidden": true
   },
   "outputs": [],
   "source": [
    "#Normalize transition matrix in order to get probabilites for stay/change behaviour of customer.\n",
    "trans_prob = pd.crosstab(mondfres['location'], mondfres['after'], normalize=0)"
   ]
  },
  {
   "cell_type": "code",
   "execution_count": 28,
   "id": "2a82def7",
   "metadata": {
    "hidden": true
   },
   "outputs": [
    {
     "data": {
      "text/html": [
       "<div>\n",
       "<style scoped>\n",
       "    .dataframe tbody tr th:only-of-type {\n",
       "        vertical-align: middle;\n",
       "    }\n",
       "\n",
       "    .dataframe tbody tr th {\n",
       "        vertical-align: top;\n",
       "    }\n",
       "\n",
       "    .dataframe thead th {\n",
       "        text-align: right;\n",
       "    }\n",
       "</style>\n",
       "<table border=\"1\" class=\"dataframe\">\n",
       "  <thead>\n",
       "    <tr style=\"text-align: right;\">\n",
       "      <th>after</th>\n",
       "      <th>checkout</th>\n",
       "      <th>dairy</th>\n",
       "      <th>drinks</th>\n",
       "      <th>fruit</th>\n",
       "      <th>spices</th>\n",
       "    </tr>\n",
       "    <tr>\n",
       "      <th>location</th>\n",
       "      <th></th>\n",
       "      <th></th>\n",
       "      <th></th>\n",
       "      <th></th>\n",
       "      <th></th>\n",
       "    </tr>\n",
       "  </thead>\n",
       "  <tbody>\n",
       "    <tr>\n",
       "      <th>checkout</th>\n",
       "      <td>1.000000</td>\n",
       "      <td>0.000000</td>\n",
       "      <td>0.000000</td>\n",
       "      <td>0.000000</td>\n",
       "      <td>0.000000</td>\n",
       "    </tr>\n",
       "    <tr>\n",
       "      <th>dairy</th>\n",
       "      <td>0.089322</td>\n",
       "      <td>0.744346</td>\n",
       "      <td>0.062411</td>\n",
       "      <td>0.051532</td>\n",
       "      <td>0.052390</td>\n",
       "    </tr>\n",
       "    <tr>\n",
       "      <th>drinks</th>\n",
       "      <td>0.208109</td>\n",
       "      <td>0.011236</td>\n",
       "      <td>0.610650</td>\n",
       "      <td>0.090865</td>\n",
       "      <td>0.079140</td>\n",
       "    </tr>\n",
       "    <tr>\n",
       "      <th>fruit</th>\n",
       "      <td>0.205790</td>\n",
       "      <td>0.088028</td>\n",
       "      <td>0.050861</td>\n",
       "      <td>0.607590</td>\n",
       "      <td>0.047731</td>\n",
       "    </tr>\n",
       "    <tr>\n",
       "      <th>spices</th>\n",
       "      <td>0.145765</td>\n",
       "      <td>0.191368</td>\n",
       "      <td>0.176710</td>\n",
       "      <td>0.096906</td>\n",
       "      <td>0.389251</td>\n",
       "    </tr>\n",
       "  </tbody>\n",
       "</table>\n",
       "</div>"
      ],
      "text/plain": [
       "after     checkout     dairy    drinks     fruit    spices\n",
       "location                                                  \n",
       "checkout  1.000000  0.000000  0.000000  0.000000  0.000000\n",
       "dairy     0.089322  0.744346  0.062411  0.051532  0.052390\n",
       "drinks    0.208109  0.011236  0.610650  0.090865  0.079140\n",
       "fruit     0.205790  0.088028  0.050861  0.607590  0.047731\n",
       "spices    0.145765  0.191368  0.176710  0.096906  0.389251"
      ]
     },
     "execution_count": 28,
     "metadata": {},
     "output_type": "execute_result"
    }
   ],
   "source": [
    "trans_prob"
   ]
  },
  {
   "cell_type": "markdown",
   "id": "ca2e064e",
   "metadata": {
    "heading_collapsed": true
   },
   "source": [
    "# 2) Create Customer Class\n",
    "In order to model a customer's behaviour in the super market efficiently and extend it to several customers, we define a customer class.\n",
    "\n"
   ]
  },
  {
   "cell_type": "markdown",
   "id": "c0bab3f9",
   "metadata": {
    "hidden": true
   },
   "source": [
    "## Skeleton Code "
   ]
  },
  {
   "cell_type": "code",
   "execution_count": 23,
   "id": "28ea0ee0",
   "metadata": {
    "hidden": true
   },
   "outputs": [],
   "source": [
    "class Customer():\n",
    "    \"\"\"\n",
    "    A class to model customer movement in the doodl supermarket via MCMC simulation\n",
    "    \"\"\"\n",
    "    def __init__(self, cust_no=9999):\n",
    "        self.customer_no = cust_no\n",
    "        \n",
    "    def __repr__(self):\n",
    "        return f\"Customer with the customer number {self.customer_no}\"\n",
    "    \n",
    "    def change_location(self):\n",
    "        print('Change loc placeholder')"
   ]
  },
  {
   "cell_type": "markdown",
   "id": "aef9cc4f",
   "metadata": {
    "hidden": true
   },
   "source": [
    "**Let's check whether everything worked**"
   ]
  },
  {
   "cell_type": "code",
   "execution_count": 24,
   "id": "ba986911",
   "metadata": {
    "hidden": true
   },
   "outputs": [
    {
     "name": "stdout",
     "output_type": "stream",
     "text": [
      "9999\n",
      "300\n"
     ]
    }
   ],
   "source": [
    "cust1 = Customer()\n",
    "cust2 = Customer(300)\n",
    "print(cust1.customer_no) #prints default customer number\n",
    "print(cust2.customer_no) #prints customer number I attached to it"
   ]
  },
  {
   "cell_type": "code",
   "execution_count": 25,
   "id": "45648a93",
   "metadata": {
    "hidden": true
   },
   "outputs": [
    {
     "name": "stdout",
     "output_type": "stream",
     "text": [
      "Customer with the customer number 9999\n",
      "Customer with the customer number 300\n"
     ]
    }
   ],
   "source": [
    "print(cust1)\n",
    "print(cust2)"
   ]
  },
  {
   "cell_type": "code",
   "execution_count": 26,
   "id": "e83aede0",
   "metadata": {
    "hidden": true
   },
   "outputs": [
    {
     "name": "stdout",
     "output_type": "stream",
     "text": [
      "Change loc placeholder\n",
      "None\n",
      "Change loc placeholder\n",
      "None\n"
     ]
    }
   ],
   "source": [
    "print(cust1.change_location())\n",
    "print(cust2.change_location())"
   ]
  },
  {
   "cell_type": "markdown",
   "id": "51eba195",
   "metadata": {
    "hidden": true
   },
   "source": [
    "## Set up Customer Class"
   ]
  },
  {
   "cell_type": "code",
   "execution_count": 29,
   "id": "07d78b9f",
   "metadata": {
    "hidden": true
   },
   "outputs": [],
   "source": [
    "class Customer():\n",
    "    \"\"\"\n",
    "    A class to model customer movement in the supermarket via MCMC simulation\n",
    "    \"\"\"\n",
    "    \n",
    "    def __init__(self, name='random customer', location='entry', budget=100):\n",
    "        self.cust_name=name\n",
    "        self.cust_location=location\n",
    "        self.cust_budget=budget\n",
    "        self.active=True\n",
    "        \n",
    "    def __repr__(self):\n",
    "        return f\"Customer with the customer id {self.cust_name}, located at {self.cust_location} with a budget of {self.cust_budget}\"\n",
    "    \n",
    "    def is_active(self):\n",
    "        \"\"\"\n",
    "        Returns True if customer has not reached checkout yet\n",
    "        \"\"\"\n",
    "        if self.cust_location!='checkout':\n",
    "            return True\n",
    "        else: \n",
    "            return False\n",
    "    \n",
    "    def change_location(self,transition_probs):\n",
    "        \"\"\"\n",
    "        Propagates the customer to next loaction. \n",
    "        Returns nothing.\n",
    "        \"\"\"\n",
    "        if self.cust_location=='entry':\n",
    "            self.cust_location=random.choices(['dairy', 'drinks', 'fruit', 'spices'])[0]\n",
    "            return f\"Customer {self.cust_name} just moved from entry area to the location {self.cust_location}.\"\n",
    "        elif self.cust_location=='checkout':\n",
    "            self.is_active()\n",
    "            return f\"Customer {self.cust_name} arrived checkout and thus is now turned inactive.\"\n",
    "        else: \n",
    "            self.cust_location= random.choices(['checkout','dairy','drinks','fruit','spices'], np.array(transition_probs.loc[self.cust_location,:]))[0]\n",
    "            return f\"Customer {self.cust_name} just moved to the location {self.cust_location}.\"\n"
   ]
  },
  {
   "cell_type": "markdown",
   "id": "0cdb9095",
   "metadata": {
    "heading_collapsed": true
   },
   "source": [
    "# 3) Create Supermarket Class\n",
    "\n",
    "In order to model multiple customers' behaviours in the supermarket, we additionally set up a supermarket class. "
   ]
  },
  {
   "cell_type": "code",
   "execution_count": 40,
   "id": "96ab0376",
   "metadata": {
    "hidden": true
   },
   "outputs": [],
   "source": [
    "class Supermarket:\n",
    "    \"\"\"\n",
    "    Manages multiple Customer instances that are currently in the market.\n",
    "    \"\"\"\n",
    "\n",
    "    def __init__(self):        \n",
    "        self.customers = []\n",
    "        self.minutes = 0\n",
    "        self.last_id = 0\n",
    "        self.num_exit = 0\n",
    "        self.time = pd.to_datetime('07:00')\n",
    "        self.df = pd.DataFrame({'timestamp': [], 'customer_id': [], 'location': []})\n",
    "\n",
    "    def __repr__(self):\n",
    "        return f'This is a simulation of a supermarket which has ran for {self.minutes} minutes and up to now, there have been {self.last_id} customers in the shop'\n",
    "\n",
    "    def get_time(self):\n",
    "        \"\"\"\n",
    "        Current time in HH:MM format,\n",
    "        \"\"\"\n",
    "        return f\"The current time at the supermarket is {(self.time + timedelta(minutes=self.minutes)).time()}. The supermarket has been open for {self.minutes} minutes.\"\n",
    "\n",
    "    def present_simulation(self):\n",
    "        \"\"\"\n",
    "        Print all customers with the current time and id to output.\n",
    "        \"\"\"\n",
    "        supermarket_df = self.df\n",
    "        print(f\"\"\"\n",
    "        Here we go, let's have a look at our customer's behaviour in the Supermarket simulation!\n",
    "        In total, the supermarket has been visited by {self.last_id} customers and was open for {self.minutes} minutes - from {self.df.iloc[0,0]} to {self.df.iloc[-1,0]}.\n",
    "        Now, let's consider every customer's behaviour:\n",
    "        \"\"\")\n",
    "        for cust_id in range(self.last_id):\n",
    "            time_spent=get_time_spent(cust_id,supermarket_df)\n",
    "            number_of_areas=get_number_of_areas(cust_id, supermarket_df)\n",
    "            print(f\"\"\"\n",
    "            Let's have a look at the supermarket behaviour of customer {cust_id}:\n",
    "            First, he spent {time_spent} minutes in the supermarket!\n",
    "            In total, he visited {number_of_areas} different areas of the supermarket so far, that is the areas {get_areas_visited(cust_id,supermarket.df)}. \n",
    "            \"\"\")\n",
    "        print(f\"\"\" \n",
    "        Nice! This output has been generated based on the following dataframe:\n",
    "        \"\"\")\n",
    "        print(self.df)\n",
    "\n",
    "    def next_minute(self,trans_prob):\n",
    "        \"\"\"\n",
    "        propagates all customers to the next state. writes data to dataframe. \n",
    "        \"\"\"\n",
    "        for cust in self.customers:\n",
    "            cust.change_location(trans_prob)\n",
    "            self.df = pd.concat([self.df, pd.DataFrame({'timestamp': [(self.time + timedelta(minutes=self.minutes)).time()], 'customer_id': [int(cust.cust_name)], 'location': [cust.cust_location]})], ignore_index=True)  \n",
    "            if not cust.is_active():\n",
    "                self.customers.remove(cust)\n",
    "                self.num_exit+=1\n",
    "        self.minutes+=1\n",
    "        return f\"The supermarket has been open for {self.minutes} minutes now.\"\n",
    "    \n",
    "    def add_new_customers(self,last_id):\n",
    "        \"\"\"\n",
    "        randomly creates new customers.\n",
    "        \"\"\"\n",
    "        new_cust=Customer(name=str(last_id), location='entry', budget=100)\n",
    "        self.customers.append(new_cust)\n",
    "        self.last_id+=1\n",
    "        return f\"Customer {new_cust} has entered the Supermarket. Now there are {len(self.customers)} customers in the supermarket.\"\n",
    "\n",
    "    def remove_exiting_customers(self):\n",
    "        \"\"\"\n",
    "        removes every customer that is not active any more.\n",
    "        \"\"\"\n",
    "        num_exit=0\n",
    "        for cust in self.customers:\n",
    "            if not cust.is_active():\n",
    "                self.customers.remove(cust)\n",
    "                num_exit+=1\n",
    "        return f\"{num_exit} customers have exited the supermarket.\""
   ]
  },
  {
   "cell_type": "markdown",
   "id": "1e8cb32f",
   "metadata": {
    "heading_collapsed": true
   },
   "source": [
    "# 4) Define useful functions for simulation"
   ]
  },
  {
   "cell_type": "code",
   "execution_count": 41,
   "id": "306c26d5",
   "metadata": {
    "hidden": true
   },
   "outputs": [],
   "source": [
    "def get_time_spent(cust_id, supermarket_df):\n",
    "    \"\"\"\n",
    "    Get information on how many minutes a customer spent in the supermarket.\n",
    "    \"\"\"\n",
    "    entry=supermarket_df[supermarket_df['customer_id']==(cust_id)].iloc[0,0]\n",
    "    exitt=supermarket_df[supermarket_df['customer_id']==(cust_id)].iloc[-1,0]\n",
    "    entry=pd.to_datetime(entry, format='%H:%M:%S')\n",
    "    exitt=pd.to_datetime(exitt, format='%H:%M:%S')\n",
    "    time_spent=(exitt-entry)/pd.Timedelta(minutes=1) \n",
    "    return time_spent"
   ]
  },
  {
   "cell_type": "code",
   "execution_count": 42,
   "id": "5cac1263",
   "metadata": {
    "hidden": true
   },
   "outputs": [],
   "source": [
    "def get_number_of_areas(cust_id, supermarket_df):\n",
    "    \"\"\"\n",
    "    Returns the number of different areas a customer visited during his/her stay in the supermarket.\n",
    "    \"\"\"\n",
    "    numb_of_areas = pd.DataFrame(supermarket_df.groupby(['customer_id'])['location'].nunique()).iloc[int(cust_id),0]\n",
    "    return numb_of_areas"
   ]
  },
  {
   "cell_type": "code",
   "execution_count": 43,
   "id": "12345ee5",
   "metadata": {
    "hidden": true
   },
   "outputs": [],
   "source": [
    "def get_areas_visited(cust_id, supermarket_df):\n",
    "    \"\"\"\n",
    "    Returns list of different areas a customer visited during his/her stay in the supermarket.\n",
    "    \"\"\"\n",
    "    areas=supermarket.df.groupby(['customer_id'])['location'].unique()[cust_id]    \n",
    "    return areas"
   ]
  },
  {
   "cell_type": "code",
   "execution_count": 44,
   "id": "304cee84",
   "metadata": {
    "hidden": true
   },
   "outputs": [],
   "source": [
    "def simulate_supermarket(trans_prob, minutes=10, max_number_of_custs=10):\n",
    "    \"\"\"\n",
    "    Simulates supermarket based on a given transition probability matrix \"trans_prob\". The supermarket is simulated \n",
    "    for 10 minutes by default based on \"minutes\", and the maximum number of entering customers \"max_number_of_custs\" is 10.\n",
    "    The entry time for each customer is randomly chosen within the time range the supermarket is open. Only one customer enters\n",
    "    at a time. The supermarket opens at 10:00 a.m.. \n",
    "    \"\"\"\n",
    "    S = Supermarket()\n",
    "    entry_minutes = random.sample(range(minutes),random.choices([*range(1,max_number_of_custs)])[0])\n",
    "    for minute in range(minutes):\n",
    "        if minute in entry_minutes:\n",
    "            S.add_new_customers(S.last_id)\n",
    "        S.next_minute(trans_prob)        \n",
    "    return S"
   ]
  },
  {
   "cell_type": "markdown",
   "id": "c805ac98",
   "metadata": {
    "heading_collapsed": true
   },
   "source": [
    "# 5) Go for simulations! "
   ]
  },
  {
   "cell_type": "markdown",
   "id": "2e9fb7c8",
   "metadata": {
    "hidden": true
   },
   "source": [
    "We simulate a supermarket that is open for 30 minutes, with a maximum of 10 customers entering in that 30 minutes. The simulation is based on the transition probability matrix that we set up based on the data we got for our exemplary supermarket, saved in the dataframe *mondf*."
   ]
  },
  {
   "cell_type": "code",
   "execution_count": 46,
   "id": "17ca0b27",
   "metadata": {
    "hidden": true
   },
   "outputs": [],
   "source": [
    "supermarket = simulate_supermarket(trans_prob, minutes=30, max_number_of_custs=10)"
   ]
  },
  {
   "cell_type": "code",
   "execution_count": 47,
   "id": "9517c71d",
   "metadata": {
    "hidden": true
   },
   "outputs": [
    {
     "name": "stdout",
     "output_type": "stream",
     "text": [
      "\n",
      "        Here we go, let's have a look at our customer's behaviour in the Supermarket simulation!\n",
      "        In total, the supermarket has been visited by 9 customers and was open for 30 minutes - from 07:05:00 to 07:29:00.\n",
      "        Now, let's consider every customer's behaviour:\n",
      "        \n",
      "\n",
      "            Let's have a look at the supermarket behaviour of customer 0:\n",
      "            First, he spent 2.0 minutes in the supermarket!\n",
      "            In total, he visited 2 different areas of the supermarket so far, that is the areas ['dairy' 'checkout']. \n",
      "            \n",
      "\n",
      "            Let's have a look at the supermarket behaviour of customer 1:\n",
      "            First, he spent 1.0 minutes in the supermarket!\n",
      "            In total, he visited 2 different areas of the supermarket so far, that is the areas ['dairy' 'checkout']. \n",
      "            \n",
      "\n",
      "            Let's have a look at the supermarket behaviour of customer 2:\n",
      "            First, he spent 1.0 minutes in the supermarket!\n",
      "            In total, he visited 2 different areas of the supermarket so far, that is the areas ['drinks' 'checkout']. \n",
      "            \n",
      "\n",
      "            Let's have a look at the supermarket behaviour of customer 3:\n",
      "            First, he spent 7.0 minutes in the supermarket!\n",
      "            In total, he visited 4 different areas of the supermarket so far, that is the areas ['dairy' 'drinks' 'fruit' 'checkout']. \n",
      "            \n",
      "\n",
      "            Let's have a look at the supermarket behaviour of customer 4:\n",
      "            First, he spent 4.0 minutes in the supermarket!\n",
      "            In total, he visited 2 different areas of the supermarket so far, that is the areas ['drinks' 'checkout']. \n",
      "            \n",
      "\n",
      "            Let's have a look at the supermarket behaviour of customer 5:\n",
      "            First, he spent 14.0 minutes in the supermarket!\n",
      "            In total, he visited 2 different areas of the supermarket so far, that is the areas ['fruit' 'dairy']. \n",
      "            \n",
      "\n",
      "            Let's have a look at the supermarket behaviour of customer 6:\n",
      "            First, he spent 1.0 minutes in the supermarket!\n",
      "            In total, he visited 2 different areas of the supermarket so far, that is the areas ['fruit' 'checkout']. \n",
      "            \n",
      "\n",
      "            Let's have a look at the supermarket behaviour of customer 7:\n",
      "            First, he spent 4.0 minutes in the supermarket!\n",
      "            In total, he visited 3 different areas of the supermarket so far, that is the areas ['drinks' 'fruit' 'checkout']. \n",
      "            \n",
      "\n",
      "            Let's have a look at the supermarket behaviour of customer 8:\n",
      "            First, he spent 3.0 minutes in the supermarket!\n",
      "            In total, he visited 1 different areas of the supermarket so far, that is the areas ['fruit']. \n",
      "            \n",
      " \n",
      "        Nice! This output has been generated based on the following dataframe:\n",
      "        \n",
      "   timestamp  customer_id  location\n",
      "0   07:05:00          0.0     dairy\n",
      "1   07:06:00          0.0     dairy\n",
      "2   07:07:00          0.0  checkout\n",
      "3   07:08:00          1.0     dairy\n",
      "4   07:09:00          1.0  checkout\n",
      "5   07:10:00          2.0    drinks\n",
      "6   07:11:00          2.0  checkout\n",
      "7   07:12:00          3.0     dairy\n",
      "8   07:13:00          3.0     dairy\n",
      "9   07:13:00          4.0    drinks\n",
      "10  07:14:00          3.0    drinks\n",
      "11  07:14:00          4.0    drinks\n",
      "12  07:15:00          3.0    drinks\n",
      "13  07:15:00          4.0    drinks\n",
      "14  07:15:00          5.0     fruit\n",
      "15  07:16:00          3.0     fruit\n",
      "16  07:16:00          4.0    drinks\n",
      "17  07:16:00          5.0     fruit\n",
      "18  07:16:00          6.0     fruit\n",
      "19  07:17:00          3.0     fruit\n",
      "20  07:17:00          4.0  checkout\n",
      "21  07:17:00          6.0  checkout\n",
      "22  07:18:00          3.0     fruit\n",
      "23  07:18:00          5.0     dairy\n",
      "24  07:19:00          3.0  checkout\n",
      "25  07:20:00          5.0     dairy\n",
      "26  07:21:00          5.0     dairy\n",
      "27  07:21:00          7.0    drinks\n",
      "28  07:22:00          5.0     dairy\n",
      "29  07:22:00          7.0    drinks\n",
      "30  07:23:00          5.0     dairy\n",
      "31  07:23:00          7.0     fruit\n",
      "32  07:24:00          5.0     dairy\n",
      "33  07:24:00          7.0    drinks\n",
      "34  07:25:00          5.0     dairy\n",
      "35  07:25:00          7.0  checkout\n",
      "36  07:26:00          5.0     dairy\n",
      "37  07:26:00          8.0     fruit\n",
      "38  07:27:00          5.0     dairy\n",
      "39  07:27:00          8.0     fruit\n",
      "40  07:28:00          5.0     dairy\n",
      "41  07:28:00          8.0     fruit\n",
      "42  07:29:00          5.0     dairy\n",
      "43  07:29:00          8.0     fruit\n"
     ]
    }
   ],
   "source": [
    "supermarket.present_simulation()"
   ]
  },
  {
   "cell_type": "markdown",
   "id": "72431e1d",
   "metadata": {
    "hidden": true
   },
   "source": [
    "Let's have a look at the simulation's dataframe, which is of the same format as our inital dataframe *mondf*."
   ]
  },
  {
   "cell_type": "code",
   "execution_count": 48,
   "id": "315aab1c",
   "metadata": {
    "hidden": true
   },
   "outputs": [
    {
     "data": {
      "text/html": [
       "<div>\n",
       "<style scoped>\n",
       "    .dataframe tbody tr th:only-of-type {\n",
       "        vertical-align: middle;\n",
       "    }\n",
       "\n",
       "    .dataframe tbody tr th {\n",
       "        vertical-align: top;\n",
       "    }\n",
       "\n",
       "    .dataframe thead th {\n",
       "        text-align: right;\n",
       "    }\n",
       "</style>\n",
       "<table border=\"1\" class=\"dataframe\">\n",
       "  <thead>\n",
       "    <tr style=\"text-align: right;\">\n",
       "      <th></th>\n",
       "      <th>timestamp</th>\n",
       "      <th>customer_id</th>\n",
       "      <th>location</th>\n",
       "    </tr>\n",
       "  </thead>\n",
       "  <tbody>\n",
       "    <tr>\n",
       "      <th>0</th>\n",
       "      <td>07:05:00</td>\n",
       "      <td>0.0</td>\n",
       "      <td>dairy</td>\n",
       "    </tr>\n",
       "    <tr>\n",
       "      <th>1</th>\n",
       "      <td>07:06:00</td>\n",
       "      <td>0.0</td>\n",
       "      <td>dairy</td>\n",
       "    </tr>\n",
       "    <tr>\n",
       "      <th>2</th>\n",
       "      <td>07:07:00</td>\n",
       "      <td>0.0</td>\n",
       "      <td>checkout</td>\n",
       "    </tr>\n",
       "    <tr>\n",
       "      <th>3</th>\n",
       "      <td>07:08:00</td>\n",
       "      <td>1.0</td>\n",
       "      <td>dairy</td>\n",
       "    </tr>\n",
       "    <tr>\n",
       "      <th>4</th>\n",
       "      <td>07:09:00</td>\n",
       "      <td>1.0</td>\n",
       "      <td>checkout</td>\n",
       "    </tr>\n",
       "    <tr>\n",
       "      <th>5</th>\n",
       "      <td>07:10:00</td>\n",
       "      <td>2.0</td>\n",
       "      <td>drinks</td>\n",
       "    </tr>\n",
       "    <tr>\n",
       "      <th>6</th>\n",
       "      <td>07:11:00</td>\n",
       "      <td>2.0</td>\n",
       "      <td>checkout</td>\n",
       "    </tr>\n",
       "    <tr>\n",
       "      <th>7</th>\n",
       "      <td>07:12:00</td>\n",
       "      <td>3.0</td>\n",
       "      <td>dairy</td>\n",
       "    </tr>\n",
       "    <tr>\n",
       "      <th>8</th>\n",
       "      <td>07:13:00</td>\n",
       "      <td>3.0</td>\n",
       "      <td>dairy</td>\n",
       "    </tr>\n",
       "    <tr>\n",
       "      <th>9</th>\n",
       "      <td>07:13:00</td>\n",
       "      <td>4.0</td>\n",
       "      <td>drinks</td>\n",
       "    </tr>\n",
       "    <tr>\n",
       "      <th>10</th>\n",
       "      <td>07:14:00</td>\n",
       "      <td>3.0</td>\n",
       "      <td>drinks</td>\n",
       "    </tr>\n",
       "    <tr>\n",
       "      <th>11</th>\n",
       "      <td>07:14:00</td>\n",
       "      <td>4.0</td>\n",
       "      <td>drinks</td>\n",
       "    </tr>\n",
       "    <tr>\n",
       "      <th>12</th>\n",
       "      <td>07:15:00</td>\n",
       "      <td>3.0</td>\n",
       "      <td>drinks</td>\n",
       "    </tr>\n",
       "    <tr>\n",
       "      <th>13</th>\n",
       "      <td>07:15:00</td>\n",
       "      <td>4.0</td>\n",
       "      <td>drinks</td>\n",
       "    </tr>\n",
       "    <tr>\n",
       "      <th>14</th>\n",
       "      <td>07:15:00</td>\n",
       "      <td>5.0</td>\n",
       "      <td>fruit</td>\n",
       "    </tr>\n",
       "    <tr>\n",
       "      <th>15</th>\n",
       "      <td>07:16:00</td>\n",
       "      <td>3.0</td>\n",
       "      <td>fruit</td>\n",
       "    </tr>\n",
       "    <tr>\n",
       "      <th>16</th>\n",
       "      <td>07:16:00</td>\n",
       "      <td>4.0</td>\n",
       "      <td>drinks</td>\n",
       "    </tr>\n",
       "    <tr>\n",
       "      <th>17</th>\n",
       "      <td>07:16:00</td>\n",
       "      <td>5.0</td>\n",
       "      <td>fruit</td>\n",
       "    </tr>\n",
       "    <tr>\n",
       "      <th>18</th>\n",
       "      <td>07:16:00</td>\n",
       "      <td>6.0</td>\n",
       "      <td>fruit</td>\n",
       "    </tr>\n",
       "    <tr>\n",
       "      <th>19</th>\n",
       "      <td>07:17:00</td>\n",
       "      <td>3.0</td>\n",
       "      <td>fruit</td>\n",
       "    </tr>\n",
       "    <tr>\n",
       "      <th>20</th>\n",
       "      <td>07:17:00</td>\n",
       "      <td>4.0</td>\n",
       "      <td>checkout</td>\n",
       "    </tr>\n",
       "    <tr>\n",
       "      <th>21</th>\n",
       "      <td>07:17:00</td>\n",
       "      <td>6.0</td>\n",
       "      <td>checkout</td>\n",
       "    </tr>\n",
       "    <tr>\n",
       "      <th>22</th>\n",
       "      <td>07:18:00</td>\n",
       "      <td>3.0</td>\n",
       "      <td>fruit</td>\n",
       "    </tr>\n",
       "    <tr>\n",
       "      <th>23</th>\n",
       "      <td>07:18:00</td>\n",
       "      <td>5.0</td>\n",
       "      <td>dairy</td>\n",
       "    </tr>\n",
       "    <tr>\n",
       "      <th>24</th>\n",
       "      <td>07:19:00</td>\n",
       "      <td>3.0</td>\n",
       "      <td>checkout</td>\n",
       "    </tr>\n",
       "    <tr>\n",
       "      <th>25</th>\n",
       "      <td>07:20:00</td>\n",
       "      <td>5.0</td>\n",
       "      <td>dairy</td>\n",
       "    </tr>\n",
       "    <tr>\n",
       "      <th>26</th>\n",
       "      <td>07:21:00</td>\n",
       "      <td>5.0</td>\n",
       "      <td>dairy</td>\n",
       "    </tr>\n",
       "    <tr>\n",
       "      <th>27</th>\n",
       "      <td>07:21:00</td>\n",
       "      <td>7.0</td>\n",
       "      <td>drinks</td>\n",
       "    </tr>\n",
       "    <tr>\n",
       "      <th>28</th>\n",
       "      <td>07:22:00</td>\n",
       "      <td>5.0</td>\n",
       "      <td>dairy</td>\n",
       "    </tr>\n",
       "    <tr>\n",
       "      <th>29</th>\n",
       "      <td>07:22:00</td>\n",
       "      <td>7.0</td>\n",
       "      <td>drinks</td>\n",
       "    </tr>\n",
       "    <tr>\n",
       "      <th>30</th>\n",
       "      <td>07:23:00</td>\n",
       "      <td>5.0</td>\n",
       "      <td>dairy</td>\n",
       "    </tr>\n",
       "    <tr>\n",
       "      <th>31</th>\n",
       "      <td>07:23:00</td>\n",
       "      <td>7.0</td>\n",
       "      <td>fruit</td>\n",
       "    </tr>\n",
       "    <tr>\n",
       "      <th>32</th>\n",
       "      <td>07:24:00</td>\n",
       "      <td>5.0</td>\n",
       "      <td>dairy</td>\n",
       "    </tr>\n",
       "    <tr>\n",
       "      <th>33</th>\n",
       "      <td>07:24:00</td>\n",
       "      <td>7.0</td>\n",
       "      <td>drinks</td>\n",
       "    </tr>\n",
       "    <tr>\n",
       "      <th>34</th>\n",
       "      <td>07:25:00</td>\n",
       "      <td>5.0</td>\n",
       "      <td>dairy</td>\n",
       "    </tr>\n",
       "    <tr>\n",
       "      <th>35</th>\n",
       "      <td>07:25:00</td>\n",
       "      <td>7.0</td>\n",
       "      <td>checkout</td>\n",
       "    </tr>\n",
       "    <tr>\n",
       "      <th>36</th>\n",
       "      <td>07:26:00</td>\n",
       "      <td>5.0</td>\n",
       "      <td>dairy</td>\n",
       "    </tr>\n",
       "    <tr>\n",
       "      <th>37</th>\n",
       "      <td>07:26:00</td>\n",
       "      <td>8.0</td>\n",
       "      <td>fruit</td>\n",
       "    </tr>\n",
       "    <tr>\n",
       "      <th>38</th>\n",
       "      <td>07:27:00</td>\n",
       "      <td>5.0</td>\n",
       "      <td>dairy</td>\n",
       "    </tr>\n",
       "    <tr>\n",
       "      <th>39</th>\n",
       "      <td>07:27:00</td>\n",
       "      <td>8.0</td>\n",
       "      <td>fruit</td>\n",
       "    </tr>\n",
       "    <tr>\n",
       "      <th>40</th>\n",
       "      <td>07:28:00</td>\n",
       "      <td>5.0</td>\n",
       "      <td>dairy</td>\n",
       "    </tr>\n",
       "    <tr>\n",
       "      <th>41</th>\n",
       "      <td>07:28:00</td>\n",
       "      <td>8.0</td>\n",
       "      <td>fruit</td>\n",
       "    </tr>\n",
       "    <tr>\n",
       "      <th>42</th>\n",
       "      <td>07:29:00</td>\n",
       "      <td>5.0</td>\n",
       "      <td>dairy</td>\n",
       "    </tr>\n",
       "    <tr>\n",
       "      <th>43</th>\n",
       "      <td>07:29:00</td>\n",
       "      <td>8.0</td>\n",
       "      <td>fruit</td>\n",
       "    </tr>\n",
       "  </tbody>\n",
       "</table>\n",
       "</div>"
      ],
      "text/plain": [
       "   timestamp  customer_id  location\n",
       "0   07:05:00          0.0     dairy\n",
       "1   07:06:00          0.0     dairy\n",
       "2   07:07:00          0.0  checkout\n",
       "3   07:08:00          1.0     dairy\n",
       "4   07:09:00          1.0  checkout\n",
       "5   07:10:00          2.0    drinks\n",
       "6   07:11:00          2.0  checkout\n",
       "7   07:12:00          3.0     dairy\n",
       "8   07:13:00          3.0     dairy\n",
       "9   07:13:00          4.0    drinks\n",
       "10  07:14:00          3.0    drinks\n",
       "11  07:14:00          4.0    drinks\n",
       "12  07:15:00          3.0    drinks\n",
       "13  07:15:00          4.0    drinks\n",
       "14  07:15:00          5.0     fruit\n",
       "15  07:16:00          3.0     fruit\n",
       "16  07:16:00          4.0    drinks\n",
       "17  07:16:00          5.0     fruit\n",
       "18  07:16:00          6.0     fruit\n",
       "19  07:17:00          3.0     fruit\n",
       "20  07:17:00          4.0  checkout\n",
       "21  07:17:00          6.0  checkout\n",
       "22  07:18:00          3.0     fruit\n",
       "23  07:18:00          5.0     dairy\n",
       "24  07:19:00          3.0  checkout\n",
       "25  07:20:00          5.0     dairy\n",
       "26  07:21:00          5.0     dairy\n",
       "27  07:21:00          7.0    drinks\n",
       "28  07:22:00          5.0     dairy\n",
       "29  07:22:00          7.0    drinks\n",
       "30  07:23:00          5.0     dairy\n",
       "31  07:23:00          7.0     fruit\n",
       "32  07:24:00          5.0     dairy\n",
       "33  07:24:00          7.0    drinks\n",
       "34  07:25:00          5.0     dairy\n",
       "35  07:25:00          7.0  checkout\n",
       "36  07:26:00          5.0     dairy\n",
       "37  07:26:00          8.0     fruit\n",
       "38  07:27:00          5.0     dairy\n",
       "39  07:27:00          8.0     fruit\n",
       "40  07:28:00          5.0     dairy\n",
       "41  07:28:00          8.0     fruit\n",
       "42  07:29:00          5.0     dairy\n",
       "43  07:29:00          8.0     fruit"
      ]
     },
     "execution_count": 48,
     "metadata": {},
     "output_type": "execute_result"
    }
   ],
   "source": [
    "supermarket.df"
   ]
  },
  {
   "cell_type": "code",
   "execution_count": null,
   "id": "26a070c2",
   "metadata": {
    "hidden": true
   },
   "outputs": [],
   "source": []
  }
 ],
 "metadata": {
  "kernelspec": {
   "display_name": "Python 3 (ipykernel)",
   "language": "python",
   "name": "python3"
  },
  "language_info": {
   "codemirror_mode": {
    "name": "ipython",
    "version": 3
   },
   "file_extension": ".py",
   "mimetype": "text/x-python",
   "name": "python",
   "nbconvert_exporter": "python",
   "pygments_lexer": "ipython3",
   "version": "3.9.13"
  }
 },
 "nbformat": 4,
 "nbformat_minor": 5
}
