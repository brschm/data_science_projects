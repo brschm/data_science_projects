{
 "cells": [
  {
   "cell_type": "markdown",
   "id": "3059ca16",
   "metadata": {
    "heading_collapsed": true
   },
   "source": [
    "# Project: Classification and Clustering of Recipes based on Ingredients \n",
    "Britta Schmitt - January 2023\n",
    "\n",
    "This project aims at the classification and clustering of the country origin of recipes based on the ingredients contained therein. The project is structured as follows: \n",
    "\n",
    "- Load data\n",
    "- Do exploratory data analysis\n",
    "- Build a clustering model: Analyze the similarity of recipes based on the ingredients contained therein. We use the k-modes algorithm.\n",
    "- Build a classification model: We choose the country cuisine as target variable. We use two models: Logistic Regression and Decision Tree."
   ]
  },
  {
   "cell_type": "code",
   "execution_count": 2,
   "id": "68f93292",
   "metadata": {
    "hidden": true
   },
   "outputs": [],
   "source": [
    "import numpy as np\n",
    "import pandas as pd\n",
    "import seaborn as sns\n",
    "import matplotlib.pyplot as plt"
   ]
  },
  {
   "cell_type": "markdown",
   "id": "55073899",
   "metadata": {
    "heading_collapsed": true
   },
   "source": [
    "# Load Data \n",
    "\n",
    "Load data and get a first overview on the format and completeness of the contained information.\n"
   ]
  },
  {
   "cell_type": "code",
   "execution_count": 3,
   "id": "26212a43",
   "metadata": {
    "hidden": true
   },
   "outputs": [],
   "source": [
    "df_01 = pd.read_csv(\"Rezepte/recipes.csv\")\n",
    "df_02 = pd.read_csv(\"Rezepte/ingredients.csv\")"
   ]
  },
  {
   "cell_type": "code",
   "execution_count": 4,
   "id": "2b48ac4a",
   "metadata": {
    "hidden": true,
    "scrolled": false
   },
   "outputs": [
    {
     "data": {
      "text/html": [
       "<div>\n",
       "<style scoped>\n",
       "    .dataframe tbody tr th:only-of-type {\n",
       "        vertical-align: middle;\n",
       "    }\n",
       "\n",
       "    .dataframe tbody tr th {\n",
       "        vertical-align: top;\n",
       "    }\n",
       "\n",
       "    .dataframe thead th {\n",
       "        text-align: right;\n",
       "    }\n",
       "</style>\n",
       "<table border=\"1\" class=\"dataframe\">\n",
       "  <thead>\n",
       "    <tr style=\"text-align: right;\">\n",
       "      <th></th>\n",
       "      <th>ID</th>\n",
       "      <th>cuisine</th>\n",
       "    </tr>\n",
       "  </thead>\n",
       "  <tbody>\n",
       "    <tr>\n",
       "      <th>0</th>\n",
       "      <td>10259</td>\n",
       "      <td>greek</td>\n",
       "    </tr>\n",
       "    <tr>\n",
       "      <th>1</th>\n",
       "      <td>25693</td>\n",
       "      <td>southern_us</td>\n",
       "    </tr>\n",
       "    <tr>\n",
       "      <th>2</th>\n",
       "      <td>20130</td>\n",
       "      <td>filipino</td>\n",
       "    </tr>\n",
       "    <tr>\n",
       "      <th>3</th>\n",
       "      <td>22213</td>\n",
       "      <td>indian</td>\n",
       "    </tr>\n",
       "    <tr>\n",
       "      <th>4</th>\n",
       "      <td>13162</td>\n",
       "      <td>indian</td>\n",
       "    </tr>\n",
       "  </tbody>\n",
       "</table>\n",
       "</div>"
      ],
      "text/plain": [
       "      ID      cuisine\n",
       "0  10259        greek\n",
       "1  25693  southern_us\n",
       "2  20130     filipino\n",
       "3  22213       indian\n",
       "4  13162       indian"
      ]
     },
     "execution_count": 4,
     "metadata": {},
     "output_type": "execute_result"
    }
   ],
   "source": [
    "df_01.head() "
   ]
  },
  {
   "cell_type": "code",
   "execution_count": 5,
   "id": "f0ccbe23",
   "metadata": {
    "hidden": true
   },
   "outputs": [
    {
     "name": "stdout",
     "output_type": "stream",
     "text": [
      "(39774, 2)\n"
     ]
    }
   ],
   "source": [
    "print(df_01.shape)  # get size of data set "
   ]
  },
  {
   "cell_type": "code",
   "execution_count": 6,
   "id": "670db2a2",
   "metadata": {
    "hidden": true
   },
   "outputs": [
    {
     "name": "stdout",
     "output_type": "stream",
     "text": [
      "ID         0\n",
      "cuisine    0\n",
      "dtype: int64\n"
     ]
    }
   ],
   "source": [
    "print(df_01.isnull().sum()) # check completeness of data"
   ]
  },
  {
   "cell_type": "code",
   "execution_count": 7,
   "id": "4bcfd7c3",
   "metadata": {
    "hidden": true
   },
   "outputs": [
    {
     "name": "stdout",
     "output_type": "stream",
     "text": [
      "ID          int64\n",
      "cuisine    object\n",
      "dtype: object\n"
     ]
    }
   ],
   "source": [
    "print(df_01.dtypes) # check data types"
   ]
  },
  {
   "cell_type": "markdown",
   "id": "8d2cf410",
   "metadata": {
    "hidden": true
   },
   "source": [
    " "
   ]
  },
  {
   "cell_type": "markdown",
   "id": "ad0443c1",
   "metadata": {
    "hidden": true
   },
   "source": [
    " "
   ]
  },
  {
   "cell_type": "code",
   "execution_count": 8,
   "id": "52a94dbe",
   "metadata": {
    "hidden": true,
    "scrolled": false
   },
   "outputs": [
    {
     "data": {
      "text/html": [
       "<div>\n",
       "<style scoped>\n",
       "    .dataframe tbody tr th:only-of-type {\n",
       "        vertical-align: middle;\n",
       "    }\n",
       "\n",
       "    .dataframe tbody tr th {\n",
       "        vertical-align: top;\n",
       "    }\n",
       "\n",
       "    .dataframe thead th {\n",
       "        text-align: right;\n",
       "    }\n",
       "</style>\n",
       "<table border=\"1\" class=\"dataframe\">\n",
       "  <thead>\n",
       "    <tr style=\"text-align: right;\">\n",
       "      <th></th>\n",
       "      <th>ID_recipe</th>\n",
       "      <th>ingredients</th>\n",
       "    </tr>\n",
       "  </thead>\n",
       "  <tbody>\n",
       "    <tr>\n",
       "      <th>0</th>\n",
       "      <td>10259</td>\n",
       "      <td>romaine lettuce</td>\n",
       "    </tr>\n",
       "    <tr>\n",
       "      <th>1</th>\n",
       "      <td>10259</td>\n",
       "      <td>black olives</td>\n",
       "    </tr>\n",
       "    <tr>\n",
       "      <th>2</th>\n",
       "      <td>10259</td>\n",
       "      <td>grape tomatoes</td>\n",
       "    </tr>\n",
       "    <tr>\n",
       "      <th>3</th>\n",
       "      <td>10259</td>\n",
       "      <td>garlic</td>\n",
       "    </tr>\n",
       "    <tr>\n",
       "      <th>4</th>\n",
       "      <td>10259</td>\n",
       "      <td>pepper</td>\n",
       "    </tr>\n",
       "  </tbody>\n",
       "</table>\n",
       "</div>"
      ],
      "text/plain": [
       "   ID_recipe      ingredients\n",
       "0      10259  romaine lettuce\n",
       "1      10259     black olives\n",
       "2      10259   grape tomatoes\n",
       "3      10259           garlic\n",
       "4      10259           pepper"
      ]
     },
     "execution_count": 8,
     "metadata": {},
     "output_type": "execute_result"
    }
   ],
   "source": [
    "df_02.head()"
   ]
  },
  {
   "cell_type": "code",
   "execution_count": 9,
   "id": "bc4a9a43",
   "metadata": {
    "hidden": true
   },
   "outputs": [
    {
     "name": "stdout",
     "output_type": "stream",
     "text": [
      "(428275, 2)\n"
     ]
    }
   ],
   "source": [
    "print(df_02.shape)  # check size of dataframe"
   ]
  },
  {
   "cell_type": "code",
   "execution_count": 10,
   "id": "ea865f89",
   "metadata": {
    "hidden": true
   },
   "outputs": [
    {
     "name": "stdout",
     "output_type": "stream",
     "text": [
      "ID_recipe      0\n",
      "ingredients    0\n",
      "dtype: int64\n"
     ]
    }
   ],
   "source": [
    "print(df_02.isnull().sum()) # check completeness of data"
   ]
  },
  {
   "cell_type": "code",
   "execution_count": 11,
   "id": "60c3d0b5",
   "metadata": {
    "hidden": true
   },
   "outputs": [
    {
     "name": "stdout",
     "output_type": "stream",
     "text": [
      "ID_recipe       int64\n",
      "ingredients    object\n",
      "dtype: object\n"
     ]
    }
   ],
   "source": [
    "print(df_02.dtypes) # check data types"
   ]
  },
  {
   "cell_type": "markdown",
   "id": "87664722",
   "metadata": {
    "hidden": true
   },
   "source": [
    " "
   ]
  },
  {
   "cell_type": "markdown",
   "id": "0d7f3fe0",
   "metadata": {
    "hidden": true
   },
   "source": [
    " "
   ]
  },
  {
   "cell_type": "markdown",
   "id": "ba641298",
   "metadata": {
    "hidden": true
   },
   "source": [
    "**Adapt column captions to easily merge dataframes.**"
   ]
  },
  {
   "cell_type": "code",
   "execution_count": 12,
   "id": "f8b9e5b7",
   "metadata": {
    "hidden": true
   },
   "outputs": [
    {
     "data": {
      "text/html": [
       "<div>\n",
       "<style scoped>\n",
       "    .dataframe tbody tr th:only-of-type {\n",
       "        vertical-align: middle;\n",
       "    }\n",
       "\n",
       "    .dataframe tbody tr th {\n",
       "        vertical-align: top;\n",
       "    }\n",
       "\n",
       "    .dataframe thead th {\n",
       "        text-align: right;\n",
       "    }\n",
       "</style>\n",
       "<table border=\"1\" class=\"dataframe\">\n",
       "  <thead>\n",
       "    <tr style=\"text-align: right;\">\n",
       "      <th></th>\n",
       "      <th>ID_recipe</th>\n",
       "      <th>cuisine</th>\n",
       "    </tr>\n",
       "  </thead>\n",
       "  <tbody>\n",
       "    <tr>\n",
       "      <th>0</th>\n",
       "      <td>10259</td>\n",
       "      <td>greek</td>\n",
       "    </tr>\n",
       "    <tr>\n",
       "      <th>1</th>\n",
       "      <td>25693</td>\n",
       "      <td>southern_us</td>\n",
       "    </tr>\n",
       "    <tr>\n",
       "      <th>2</th>\n",
       "      <td>20130</td>\n",
       "      <td>filipino</td>\n",
       "    </tr>\n",
       "    <tr>\n",
       "      <th>3</th>\n",
       "      <td>22213</td>\n",
       "      <td>indian</td>\n",
       "    </tr>\n",
       "    <tr>\n",
       "      <th>4</th>\n",
       "      <td>13162</td>\n",
       "      <td>indian</td>\n",
       "    </tr>\n",
       "  </tbody>\n",
       "</table>\n",
       "</div>"
      ],
      "text/plain": [
       "   ID_recipe      cuisine\n",
       "0      10259        greek\n",
       "1      25693  southern_us\n",
       "2      20130     filipino\n",
       "3      22213       indian\n",
       "4      13162       indian"
      ]
     },
     "execution_count": 12,
     "metadata": {},
     "output_type": "execute_result"
    }
   ],
   "source": [
    "df_01 = df_01.rename(columns={\"ID\":\"ID_recipe\"})\n",
    "df_01.head()"
   ]
  },
  {
   "cell_type": "markdown",
   "id": "e3874b5c",
   "metadata": {
    "hidden": true
   },
   "source": [
    " "
   ]
  },
  {
   "cell_type": "markdown",
   "id": "131f54ad",
   "metadata": {
    "hidden": true
   },
   "source": [
    "Create one dataframe that contains all the information:"
   ]
  },
  {
   "cell_type": "code",
   "execution_count": 13,
   "id": "433f5ad0",
   "metadata": {
    "hidden": true
   },
   "outputs": [
    {
     "name": "stdout",
     "output_type": "stream",
     "text": [
      "\n",
      "The new created dataframe looks as follows: \n",
      "\n",
      "   ID_recipe cuisine      ingredients\n",
      "0      10259   greek  romaine lettuce\n",
      "1      10259   greek     black olives\n",
      "2      10259   greek   grape tomatoes\n",
      "3      10259   greek           garlic\n",
      "4      10259   greek           pepper\n",
      "\n",
      "and has 428275 rows and 3 columns.\n"
     ]
    }
   ],
   "source": [
    "df = df_01.join(df_02.set_index('ID_recipe'), on = 'ID_recipe').reset_index(drop=True) #reset index to avoid all-zero index\n",
    "\n",
    "print('\\nThe new created dataframe looks as follows: \\n')\n",
    "print(df.head(), end=\"\\n\\n\")\n",
    "print(f'and has {df.shape[0]} rows and {df.shape[1]} columns.')"
   ]
  },
  {
   "cell_type": "markdown",
   "id": "6424723d",
   "metadata": {
    "hidden": true
   },
   "source": [
    " "
   ]
  },
  {
   "cell_type": "markdown",
   "id": "e7e3055a",
   "metadata": {
    "hidden": true
   },
   "source": [
    " "
   ]
  },
  {
   "cell_type": "markdown",
   "id": "79e621a0",
   "metadata": {
    "heading_collapsed": true
   },
   "source": [
    "# 1: Exploratory Data Analysis\n",
    "\n",
    "Examine data set for various metrics to develop understanding of included data. We consider:\n",
    "\n",
    "- Number of recipes\n",
    "- Number of country cuisines\n",
    "- Number of ingredients\n",
    "- Number of recipes per country cuisine\n",
    "- Ingredients by frequency\n",
    "- Total number of ingredients per recipe\n",
    "- Number of ingredients per recipe per country"
   ]
  },
  {
   "cell_type": "markdown",
   "id": "a76559f0",
   "metadata": {
    "hidden": true
   },
   "source": [
    " "
   ]
  },
  {
   "cell_type": "markdown",
   "id": "56b0cb94",
   "metadata": {
    "hidden": true
   },
   "source": [
    "**Number of Recipes**"
   ]
  },
  {
   "cell_type": "code",
   "execution_count": 14,
   "id": "4e142b3f",
   "metadata": {
    "hidden": true,
    "scrolled": true
   },
   "outputs": [
    {
     "name": "stdout",
     "output_type": "stream",
     "text": [
      "\n",
      "The dataset contains 39774 recipes.\n"
     ]
    }
   ],
   "source": [
    "count_recipes = df.ID_recipe.unique().size\n",
    "print(f'\\nThe dataset contains {count_recipes} recipes.')"
   ]
  },
  {
   "cell_type": "markdown",
   "id": "a73825f4",
   "metadata": {
    "hidden": true
   },
   "source": [
    " "
   ]
  },
  {
   "cell_type": "markdown",
   "id": "47b506bb",
   "metadata": {
    "hidden": true
   },
   "source": [
    "**Number of country cuisines**"
   ]
  },
  {
   "cell_type": "code",
   "execution_count": 15,
   "id": "d14dde0e",
   "metadata": {
    "hidden": true
   },
   "outputs": [
    {
     "name": "stdout",
     "output_type": "stream",
     "text": [
      "\n",
      "The recipes have 20 different country origins.\n"
     ]
    }
   ],
   "source": [
    "count_cuisines = df.cuisine.unique().size\n",
    "print(f'\\nThe recipes have {count_cuisines} different country origins.')"
   ]
  },
  {
   "cell_type": "markdown",
   "id": "17c444f2",
   "metadata": {
    "hidden": true
   },
   "source": [
    " "
   ]
  },
  {
   "cell_type": "markdown",
   "id": "337ebc13",
   "metadata": {
    "hidden": true
   },
   "source": [
    "**Number of ingredients**"
   ]
  },
  {
   "cell_type": "code",
   "execution_count": 16,
   "id": "6a945679",
   "metadata": {
    "hidden": true
   },
   "outputs": [
    {
     "name": "stdout",
     "output_type": "stream",
     "text": [
      "\n",
      "The dataset contains 6714 different ingredients.\n"
     ]
    }
   ],
   "source": [
    "count_ingredients = df.ingredients.unique().size\n",
    "print(f'\\nThe dataset contains {count_ingredients} different ingredients.')"
   ]
  },
  {
   "cell_type": "markdown",
   "id": "bd04510b",
   "metadata": {
    "hidden": true
   },
   "source": [
    " "
   ]
  },
  {
   "cell_type": "markdown",
   "id": "39026d85",
   "metadata": {
    "hidden": true
   },
   "source": [
    "**Number of recipes per country cuisine**"
   ]
  },
  {
   "cell_type": "markdown",
   "id": "d757c7ee",
   "metadata": {
    "hidden": true
   },
   "source": [
    "Group the ID info for each country cuisine and count the number of IDs. \n",
    "Then sort the list by descending ID count."
   ]
  },
  {
   "cell_type": "code",
   "execution_count": 17,
   "id": "40f47d61",
   "metadata": {
    "hidden": true
   },
   "outputs": [
    {
     "name": "stdout",
     "output_type": "stream",
     "text": [
      "             count\n",
      "cuisine           \n",
      "italian       7838\n",
      "mexican       6438\n",
      "southern_us   4320\n",
      "indian        3003\n",
      "chinese       2673\n",
      "\n",
      "Most of the recipes are recipes from the country cuisine italian. In this cuisine, there are 7838 recipes in the dataset. \n",
      "\n"
     ]
    }
   ],
   "source": [
    "recipes_per_cuisine = df_01.groupby('cuisine').agg(count=('cuisine',len))\n",
    "recipes_per_cuisine.sort_values(by=['count'], inplace=True, ascending=False)\n",
    "\n",
    "print(recipes_per_cuisine.head())\n",
    "print('\\nMost of the recipes are recipes from the country cuisine ' + str(recipes_per_cuisine.index.values[0]) + '. In this cuisine, there are ' + str(recipes_per_cuisine.loc[recipes_per_cuisine.index.values[0]]['count']) + ' recipes in the dataset. \\n')  "
   ]
  },
  {
   "cell_type": "code",
   "execution_count": 18,
   "id": "03b986bf",
   "metadata": {
    "hidden": true
   },
   "outputs": [
    {
     "name": "stdout",
     "output_type": "stream",
     "text": [
      "\n",
      "The distribution of recipes per country cuisine can be represented as follows.\n"
     ]
    },
    {
     "data": {
      "image/png": "[encoded data removed]",
      "text/plain": [
       "<Figure size 640x480 with 1 Axes>"
      ]
     },
     "metadata": {},
     "output_type": "display_data"
    }
   ],
   "source": [
    "print('\\nThe distribution of recipes per country cuisine can be represented as follows.')\n",
    "x_val = recipes_per_cuisine.index.values\n",
    "ax = sns.barplot(x=x_val, y=recipes_per_cuisine['count']);\n",
    "for item in ax.get_xticklabels():\n",
    "    item.set_rotation(90)\n",
    "plt.ylabel('Number of recipes') ;\n",
    "plt.title('Number of recipes per country cuisine');"
   ]
  },
  {
   "cell_type": "markdown",
   "id": "53efdcbd",
   "metadata": {
    "hidden": true
   },
   "source": [
    " "
   ]
  },
  {
   "cell_type": "markdown",
   "id": "4affda2d",
   "metadata": {
    "hidden": true
   },
   "source": [
    "**Ingredients by frequency**"
   ]
  },
  {
   "cell_type": "markdown",
   "id": "0180173a",
   "metadata": {
    "hidden": true
   },
   "source": [
    "First find out the frequency of all ingredients contained. Then sort in descending order and get an overview by means of some plot."
   ]
  },
  {
   "cell_type": "code",
   "execution_count": 19,
   "id": "1319501e",
   "metadata": {
    "hidden": true
   },
   "outputs": [
    {
     "name": "stdout",
     "output_type": "stream",
     "text": [
      "                     count\n",
      "ingredients               \n",
      "salt                 18049\n",
      "olive oil             7972\n",
      "onions                7972\n",
      "water                 7457\n",
      "garlic                7380\n",
      "sugar                 6434\n",
      "garlic cloves         6237\n",
      "butter                4848\n",
      "ground black pepper   4785\n",
      "all-purpose flour     4632\n",
      "pepper                4438\n",
      "vegetable oil         4385\n",
      "eggs                  3388\n",
      "soy sauce             3296\n",
      "kosher salt           3113\n",
      "green onions          3078\n",
      "tomatoes              3058\n",
      "large eggs            2948\n",
      "carrots               2814\n",
      "unsalted butter       2782\n",
      "\n",
      "The ingredient appearing most frequently in all recipes is salt and appears 18049 times in the dataset.\n",
      "\n"
     ]
    }
   ],
   "source": [
    "quantities_ingredients = df.groupby('ingredients').agg(count=('ingredients', len)) # Häufigkeiten der einzelnen Zutaten\n",
    "quantities_ingredients.sort_values(by=['count'], inplace=True, ascending=False) # use inplace to prevent copying whole dataset\n",
    "print(quantities_ingredients.head(20))\n",
    "\n",
    "first = quantities_ingredients.index.values[0]\n",
    "print('\\nThe ingredient appearing most frequently in all recipes is ' + str(quantities_ingredients.index.values[0]) + ' and appears ' + str(quantities_ingredients.loc[quantities_ingredients.index.values[0]]['count']) + ' times in the dataset.\\n')"
   ]
  },
  {
   "cell_type": "markdown",
   "id": "493b007f",
   "metadata": {
    "hidden": true
   },
   "source": [
    " "
   ]
  },
  {
   "cell_type": "markdown",
   "id": "2a9f5930",
   "metadata": {
    "hidden": true
   },
   "source": [
    "**General complexity of recipes**"
   ]
  },
  {
   "cell_type": "code",
   "execution_count": 20,
   "id": "812147a0",
   "metadata": {
    "hidden": true
   },
   "outputs": [
    {
     "name": "stdout",
     "output_type": "stream",
     "text": [
      "           count\n",
      "ID_recipe       \n",
      "0             11\n",
      "1             18\n",
      "2             18\n",
      "3             11\n",
      "4              4\n",
      "...          ...\n",
      "49712         10\n",
      "49713         15\n",
      "49714         13\n",
      "49716         22\n",
      "49717         20\n",
      "\n",
      "[39774 rows x 1 columns]\n"
     ]
    }
   ],
   "source": [
    "number_of_ing = df.groupby('ID_recipe').agg(count=('ID_recipe',len))\n",
    "print(number_of_ing)"
   ]
  },
  {
   "cell_type": "markdown",
   "id": "7043dac4",
   "metadata": {
    "hidden": true
   },
   "source": [
    " "
   ]
  },
  {
   "cell_type": "code",
   "execution_count": 21,
   "id": "52117c0c",
   "metadata": {
    "hidden": true
   },
   "outputs": [
    {
     "data": {
      "text/plain": [
       "Text(0.5, 1.0, 'Complexity distribution of recipes based on number of ingredients')"
      ]
     },
     "execution_count": 21,
     "metadata": {},
     "output_type": "execute_result"
    },
    {
     "data": {
      "image/png": "[encoded data removed]",
      "text/plain": [
       "<Figure size 640x480 with 1 Axes>"
      ]
     },
     "metadata": {},
     "output_type": "display_data"
    }
   ],
   "source": [
    "range_max = number_of_ing['count'].max()\n",
    "range_min = number_of_ing['count'].min()\n",
    "\n",
    "sns.histplot(data=number_of_ing, x=number_of_ing['count'], binwidth=0.5, binrange=(int(range_min),int(range_max)))\n",
    "plt.ylabel('Number of recipes')\n",
    "plt.xlabel('Number of ingredients')\n",
    "plt.title('Complexity distribution of recipes based on number of ingredients')"
   ]
  },
  {
   "cell_type": "code",
   "execution_count": 22,
   "id": "b59f2642",
   "metadata": {
    "hidden": true,
    "scrolled": true
   },
   "outputs": [
    {
     "name": "stdout",
     "output_type": "stream",
     "text": [
      "\n",
      "The average number of ingredients in all recipes is 10.77\n",
      "\n",
      "The median of all recipes is 10.0\n",
      "\n",
      "The standard deviation of the data is 4.43\n",
      "\n",
      "Die variance is 19.62\n"
     ]
    }
   ],
   "source": [
    "compl_mean = round(number_of_ing['count'].mean(),2) #mean\n",
    "compl_median = round(number_of_ing['count'].median(),2) #median\n",
    "compl_std = round(number_of_ing['count'].std(),2) #standard deviation\n",
    "compl_var = round(number_of_ing['count'].var(),2) \n",
    "\n",
    "print('\\nThe average number of ingredients in all recipes is ' + str(compl_mean))\n",
    "print('\\nThe median of all recipes is ' + str(compl_median)) #half of recipes consists of less then median ingredients\n",
    "print('\\nThe standard deviation of the data is ' + str(compl_std)) #Im Mittel weicht Anzahl Zutaten um 4.43 von 10 ab\n",
    "print('\\nDie variance is ' + str(compl_var)) "
   ]
  },
  {
   "cell_type": "markdown",
   "id": "48c82657",
   "metadata": {
    "hidden": true
   },
   "source": [
    " "
   ]
  },
  {
   "cell_type": "markdown",
   "id": "b27cdcec",
   "metadata": {
    "hidden": true
   },
   "source": [
    " "
   ]
  },
  {
   "cell_type": "markdown",
   "id": "c8602b3d",
   "metadata": {
    "hidden": true
   },
   "source": [
    "**Recipes complexity by country cuisine**"
   ]
  },
  {
   "cell_type": "code",
   "execution_count": 23,
   "id": "ca1cafd8",
   "metadata": {
    "hidden": true
   },
   "outputs": [
    {
     "data": {
      "text/html": [
       "<div>\n",
       "<style scoped>\n",
       "    .dataframe tbody tr th:only-of-type {\n",
       "        vertical-align: middle;\n",
       "    }\n",
       "\n",
       "    .dataframe tbody tr th {\n",
       "        vertical-align: top;\n",
       "    }\n",
       "\n",
       "    .dataframe thead th {\n",
       "        text-align: right;\n",
       "    }\n",
       "</style>\n",
       "<table border=\"1\" class=\"dataframe\">\n",
       "  <thead>\n",
       "    <tr style=\"text-align: right;\">\n",
       "      <th></th>\n",
       "      <th>ID_recipe</th>\n",
       "      <th>cuisine</th>\n",
       "      <th>ingredients</th>\n",
       "    </tr>\n",
       "  </thead>\n",
       "  <tbody>\n",
       "    <tr>\n",
       "      <th>0</th>\n",
       "      <td>0</td>\n",
       "      <td>spanish</td>\n",
       "      <td>11</td>\n",
       "    </tr>\n",
       "    <tr>\n",
       "      <th>1</th>\n",
       "      <td>1</td>\n",
       "      <td>mexican</td>\n",
       "      <td>18</td>\n",
       "    </tr>\n",
       "    <tr>\n",
       "      <th>2</th>\n",
       "      <td>2</td>\n",
       "      <td>french</td>\n",
       "      <td>18</td>\n",
       "    </tr>\n",
       "    <tr>\n",
       "      <th>3</th>\n",
       "      <td>3</td>\n",
       "      <td>chinese</td>\n",
       "      <td>11</td>\n",
       "    </tr>\n",
       "    <tr>\n",
       "      <th>4</th>\n",
       "      <td>4</td>\n",
       "      <td>italian</td>\n",
       "      <td>4</td>\n",
       "    </tr>\n",
       "  </tbody>\n",
       "</table>\n",
       "</div>"
      ],
      "text/plain": [
       "   ID_recipe  cuisine  ingredients\n",
       "0          0  spanish           11\n",
       "1          1  mexican           18\n",
       "2          2   french           18\n",
       "3          3  chinese           11\n",
       "4          4  italian            4"
      ]
     },
     "execution_count": 23,
     "metadata": {},
     "output_type": "execute_result"
    }
   ],
   "source": [
    "df_3 = df.groupby(['ID_recipe', 'cuisine']).count()\n",
    "df_3 = df_3.reset_index()\n",
    "df_3.head()"
   ]
  },
  {
   "cell_type": "markdown",
   "id": "42564e08",
   "metadata": {
    "hidden": true
   },
   "source": [
    "Do some visualization"
   ]
  },
  {
   "cell_type": "code",
   "execution_count": 24,
   "id": "2bd0d8fa",
   "metadata": {
    "hidden": true
   },
   "outputs": [
    {
     "data": {
      "image/png": "[encoded data removed]",
      "text/plain": [
       "<Figure size 600x600 with 3 Axes>"
      ]
     },
     "metadata": {},
     "output_type": "display_data"
    }
   ],
   "source": [
    "#via Jointplot:\n",
    "ax_1 = sns.jointplot(x=df_3['ingredients'], y=df_3['cuisine'])"
   ]
  },
  {
   "cell_type": "code",
   "execution_count": 25,
   "id": "821faa15",
   "metadata": {
    "hidden": true,
    "scrolled": false
   },
   "outputs": [
    {
     "data": {
      "image/png": "[encoded data removed]",
      "text/plain": [
       "<Figure size 640x480 with 1 Axes>"
      ]
     },
     "metadata": {},
     "output_type": "display_data"
    }
   ],
   "source": [
    "#via Boxplot:\n",
    "ax_2 = sns.boxplot(x=df_3['cuisine'],y=df_3['ingredients'])\n",
    "for item in ax_2.get_xticklabels():\n",
    "    item.set_rotation(90)"
   ]
  },
  {
   "cell_type": "markdown",
   "id": "7e53ec06",
   "metadata": {
    "hidden": true
   },
   "source": [
    " "
   ]
  },
  {
   "cell_type": "markdown",
   "id": "34089c25",
   "metadata": {
    "hidden": true
   },
   "source": [
    " "
   ]
  },
  {
   "cell_type": "markdown",
   "id": "57669ede",
   "metadata": {
    "hidden": true
   },
   "source": [
    " "
   ]
  },
  {
   "cell_type": "markdown",
   "id": "0f0ffad6",
   "metadata": {
    "hidden": true
   },
   "source": [
    " "
   ]
  },
  {
   "cell_type": "markdown",
   "id": "5b2ecc0c",
   "metadata": {
    "hidden": true
   },
   "source": [
    " "
   ]
  },
  {
   "cell_type": "markdown",
   "id": "327c8eaa",
   "metadata": {
    "hidden": true
   },
   "source": [
    " "
   ]
  },
  {
   "cell_type": "markdown",
   "id": "54462f2e",
   "metadata": {
    "heading_collapsed": true
   },
   "source": [
    "# 2: Quality of data\n",
    "\n",
    "Examine given data for quality. We choose the following aspects: \n",
    "\n",
    "- Completeness\n",
    "- Duplicates \n",
    "- Uniqueness of ingredient names"
   ]
  },
  {
   "cell_type": "markdown",
   "id": "988887db",
   "metadata": {
    "hidden": true
   },
   "source": [
    "**Completeness**"
   ]
  },
  {
   "cell_type": "markdown",
   "id": "fbfdc886",
   "metadata": {
    "hidden": true
   },
   "source": [
    "Check data for missing values (NaN):"
   ]
  },
  {
   "cell_type": "code",
   "execution_count": 26,
   "id": "7588064b",
   "metadata": {
    "hidden": true
   },
   "outputs": [
    {
     "name": "stdout",
     "output_type": "stream",
     "text": [
      "ID_recipe      0\n",
      "cuisine        0\n",
      "ingredients    0\n",
      "dtype: int64\n"
     ]
    }
   ],
   "source": [
    "print(df.isnull().sum())"
   ]
  },
  {
   "cell_type": "markdown",
   "id": "814d6e6f",
   "metadata": {
    "hidden": true
   },
   "source": [
    " "
   ]
  },
  {
   "cell_type": "markdown",
   "id": "8476673c",
   "metadata": {
    "hidden": true
   },
   "source": [
    "**Uniqueness**"
   ]
  },
  {
   "cell_type": "markdown",
   "id": "3ca20068",
   "metadata": {
    "hidden": true
   },
   "source": [
    "Check data for duplicates:"
   ]
  },
  {
   "cell_type": "code",
   "execution_count": 27,
   "id": "828f4a36",
   "metadata": {
    "hidden": true
   },
   "outputs": [
    {
     "data": {
      "text/html": [
       "<div>\n",
       "<style scoped>\n",
       "    .dataframe tbody tr th:only-of-type {\n",
       "        vertical-align: middle;\n",
       "    }\n",
       "\n",
       "    .dataframe tbody tr th {\n",
       "        vertical-align: top;\n",
       "    }\n",
       "\n",
       "    .dataframe thead th {\n",
       "        text-align: right;\n",
       "    }\n",
       "</style>\n",
       "<table border=\"1\" class=\"dataframe\">\n",
       "  <thead>\n",
       "    <tr style=\"text-align: right;\">\n",
       "      <th></th>\n",
       "      <th>ID_recipe</th>\n",
       "      <th>cuisine</th>\n",
       "      <th>ingredients</th>\n",
       "    </tr>\n",
       "  </thead>\n",
       "  <tbody>\n",
       "    <tr>\n",
       "      <th>0</th>\n",
       "      <td>10259</td>\n",
       "      <td>greek</td>\n",
       "      <td>romaine lettuce</td>\n",
       "    </tr>\n",
       "    <tr>\n",
       "      <th>1</th>\n",
       "      <td>10259</td>\n",
       "      <td>greek</td>\n",
       "      <td>black olives</td>\n",
       "    </tr>\n",
       "    <tr>\n",
       "      <th>2</th>\n",
       "      <td>10259</td>\n",
       "      <td>greek</td>\n",
       "      <td>grape tomatoes</td>\n",
       "    </tr>\n",
       "    <tr>\n",
       "      <th>3</th>\n",
       "      <td>10259</td>\n",
       "      <td>greek</td>\n",
       "      <td>garlic</td>\n",
       "    </tr>\n",
       "    <tr>\n",
       "      <th>4</th>\n",
       "      <td>10259</td>\n",
       "      <td>greek</td>\n",
       "      <td>pepper</td>\n",
       "    </tr>\n",
       "  </tbody>\n",
       "</table>\n",
       "</div>"
      ],
      "text/plain": [
       "   ID_recipe cuisine      ingredients\n",
       "0      10259   greek  romaine lettuce\n",
       "1      10259   greek     black olives\n",
       "2      10259   greek   grape tomatoes\n",
       "3      10259   greek           garlic\n",
       "4      10259   greek           pepper"
      ]
     },
     "execution_count": 27,
     "metadata": {},
     "output_type": "execute_result"
    }
   ],
   "source": [
    "df.head()"
   ]
  },
  {
   "cell_type": "code",
   "execution_count": 28,
   "id": "b6b827d0",
   "metadata": {
    "hidden": true
   },
   "outputs": [
    {
     "name": "stdout",
     "output_type": "stream",
     "text": [
      "\n",
      "There are 26 duplicates in the data.\n",
      "\n"
     ]
    }
   ],
   "source": [
    "num_dupl = df.duplicated().sum()\n",
    "print(f'\\nThere are {num_dupl} duplicates in the data.\\n')"
   ]
  },
  {
   "cell_type": "markdown",
   "id": "e18b411a",
   "metadata": {
    "hidden": true
   },
   "source": [
    "Consequence: We decide to exclude the duplicates from the data. Here we keep the line that appears first in each case."
   ]
  },
  {
   "cell_type": "code",
   "execution_count": 29,
   "id": "e916f8cb",
   "metadata": {
    "hidden": true
   },
   "outputs": [
    {
     "name": "stdout",
     "output_type": "stream",
     "text": [
      "Now there are 0 duplicates contained in the data.\n"
     ]
    }
   ],
   "source": [
    "df = df.drop_duplicates(keep='first')\n",
    "print(f'Now there are {df.duplicated().sum()} duplicates contained in the data.')"
   ]
  },
  {
   "cell_type": "markdown",
   "id": "77b363c0",
   "metadata": {
    "hidden": true
   },
   "source": [
    "Check data for uniqueness of ingredient names"
   ]
  },
  {
   "cell_type": "code",
   "execution_count": 30,
   "id": "70734fdc",
   "metadata": {
    "hidden": true
   },
   "outputs": [],
   "source": [
    "for ingr_name in quantities_ingredients.head(1500).index: \n",
    "    df.loc[df['ingredients'].str.contains(ingr_name), 'ingredients'] = ingr_name "
   ]
  },
  {
   "cell_type": "markdown",
   "id": "5e4d0759",
   "metadata": {
    "hidden": true
   },
   "source": [
    "Compare the ingredient frequency before and after the double designation search:"
   ]
  },
  {
   "cell_type": "code",
   "execution_count": 31,
   "id": "43944ce4",
   "metadata": {
    "hidden": true
   },
   "outputs": [
    {
     "data": {
      "text/html": [
       "<div>\n",
       "<style scoped>\n",
       "    .dataframe tbody tr th:only-of-type {\n",
       "        vertical-align: middle;\n",
       "    }\n",
       "\n",
       "    .dataframe tbody tr th {\n",
       "        vertical-align: top;\n",
       "    }\n",
       "\n",
       "    .dataframe thead th {\n",
       "        text-align: right;\n",
       "    }\n",
       "</style>\n",
       "<table border=\"1\" class=\"dataframe\">\n",
       "  <thead>\n",
       "    <tr style=\"text-align: right;\">\n",
       "      <th></th>\n",
       "      <th>count</th>\n",
       "    </tr>\n",
       "    <tr>\n",
       "      <th>ingredients</th>\n",
       "      <th></th>\n",
       "    </tr>\n",
       "  </thead>\n",
       "  <tbody>\n",
       "    <tr>\n",
       "      <th>salt</th>\n",
       "      <td>18049</td>\n",
       "    </tr>\n",
       "    <tr>\n",
       "      <th>olive oil</th>\n",
       "      <td>7972</td>\n",
       "    </tr>\n",
       "    <tr>\n",
       "      <th>onions</th>\n",
       "      <td>7972</td>\n",
       "    </tr>\n",
       "    <tr>\n",
       "      <th>water</th>\n",
       "      <td>7457</td>\n",
       "    </tr>\n",
       "    <tr>\n",
       "      <th>garlic</th>\n",
       "      <td>7380</td>\n",
       "    </tr>\n",
       "    <tr>\n",
       "      <th>sugar</th>\n",
       "      <td>6434</td>\n",
       "    </tr>\n",
       "    <tr>\n",
       "      <th>garlic cloves</th>\n",
       "      <td>6237</td>\n",
       "    </tr>\n",
       "    <tr>\n",
       "      <th>butter</th>\n",
       "      <td>4848</td>\n",
       "    </tr>\n",
       "    <tr>\n",
       "      <th>ground black pepper</th>\n",
       "      <td>4785</td>\n",
       "    </tr>\n",
       "    <tr>\n",
       "      <th>all-purpose flour</th>\n",
       "      <td>4632</td>\n",
       "    </tr>\n",
       "    <tr>\n",
       "      <th>pepper</th>\n",
       "      <td>4438</td>\n",
       "    </tr>\n",
       "    <tr>\n",
       "      <th>vegetable oil</th>\n",
       "      <td>4385</td>\n",
       "    </tr>\n",
       "    <tr>\n",
       "      <th>eggs</th>\n",
       "      <td>3388</td>\n",
       "    </tr>\n",
       "    <tr>\n",
       "      <th>soy sauce</th>\n",
       "      <td>3296</td>\n",
       "    </tr>\n",
       "    <tr>\n",
       "      <th>kosher salt</th>\n",
       "      <td>3113</td>\n",
       "    </tr>\n",
       "  </tbody>\n",
       "</table>\n",
       "</div>"
      ],
      "text/plain": [
       "                     count\n",
       "ingredients               \n",
       "salt                 18049\n",
       "olive oil             7972\n",
       "onions                7972\n",
       "water                 7457\n",
       "garlic                7380\n",
       "sugar                 6434\n",
       "garlic cloves         6237\n",
       "butter                4848\n",
       "ground black pepper   4785\n",
       "all-purpose flour     4632\n",
       "pepper                4438\n",
       "vegetable oil         4385\n",
       "eggs                  3388\n",
       "soy sauce             3296\n",
       "kosher salt           3113"
      ]
     },
     "execution_count": 31,
     "metadata": {},
     "output_type": "execute_result"
    }
   ],
   "source": [
    "quantities_ingredients_old = quantities_ingredients\n",
    "\n",
    "quantities_ingredients = df.groupby('ingredients').agg(count=('ingredients', len)) # quantites of single ingredients\n",
    "quantities_ingredients.sort_values(by=['count'], inplace=True, ascending=False) # use inplace to prevent copying whole dataset\n",
    "\n",
    "quantities_ingredients_old.head(15)"
   ]
  },
  {
   "cell_type": "code",
   "execution_count": 32,
   "id": "561bbd64",
   "metadata": {
    "hidden": true
   },
   "outputs": [
    {
     "data": {
      "text/html": [
       "<div>\n",
       "<style scoped>\n",
       "    .dataframe tbody tr th:only-of-type {\n",
       "        vertical-align: middle;\n",
       "    }\n",
       "\n",
       "    .dataframe tbody tr th {\n",
       "        vertical-align: top;\n",
       "    }\n",
       "\n",
       "    .dataframe thead th {\n",
       "        text-align: right;\n",
       "    }\n",
       "</style>\n",
       "<table border=\"1\" class=\"dataframe\">\n",
       "  <thead>\n",
       "    <tr style=\"text-align: right;\">\n",
       "      <th></th>\n",
       "      <th>count</th>\n",
       "    </tr>\n",
       "    <tr>\n",
       "      <th>ingredients</th>\n",
       "      <th></th>\n",
       "    </tr>\n",
       "  </thead>\n",
       "  <tbody>\n",
       "    <tr>\n",
       "      <th>pepper</th>\n",
       "      <td>27704</td>\n",
       "    </tr>\n",
       "    <tr>\n",
       "      <th>salt</th>\n",
       "      <td>27640</td>\n",
       "    </tr>\n",
       "    <tr>\n",
       "      <th>oil</th>\n",
       "      <td>23517</td>\n",
       "    </tr>\n",
       "    <tr>\n",
       "      <th>garlic</th>\n",
       "      <td>18706</td>\n",
       "    </tr>\n",
       "    <tr>\n",
       "      <th>sugar</th>\n",
       "      <td>12494</td>\n",
       "    </tr>\n",
       "    <tr>\n",
       "      <th>sauce</th>\n",
       "      <td>12402</td>\n",
       "    </tr>\n",
       "    <tr>\n",
       "      <th>onions</th>\n",
       "      <td>12341</td>\n",
       "    </tr>\n",
       "    <tr>\n",
       "      <th>cheese</th>\n",
       "      <td>11603</td>\n",
       "    </tr>\n",
       "    <tr>\n",
       "      <th>chicken</th>\n",
       "      <td>11100</td>\n",
       "    </tr>\n",
       "    <tr>\n",
       "      <th>water</th>\n",
       "      <td>9947</td>\n",
       "    </tr>\n",
       "    <tr>\n",
       "      <th>flour</th>\n",
       "      <td>8936</td>\n",
       "    </tr>\n",
       "    <tr>\n",
       "      <th>tomatoes</th>\n",
       "      <td>8562</td>\n",
       "    </tr>\n",
       "    <tr>\n",
       "      <th>ice</th>\n",
       "      <td>8297</td>\n",
       "    </tr>\n",
       "    <tr>\n",
       "      <th>butter</th>\n",
       "      <td>6949</td>\n",
       "    </tr>\n",
       "    <tr>\n",
       "      <th>eggs</th>\n",
       "      <td>6502</td>\n",
       "    </tr>\n",
       "  </tbody>\n",
       "</table>\n",
       "</div>"
      ],
      "text/plain": [
       "             count\n",
       "ingredients       \n",
       "pepper       27704\n",
       "salt         27640\n",
       "oil          23517\n",
       "garlic       18706\n",
       "sugar        12494\n",
       "sauce        12402\n",
       "onions       12341\n",
       "cheese       11603\n",
       "chicken      11100\n",
       "water         9947\n",
       "flour         8936\n",
       "tomatoes      8562\n",
       "ice           8297\n",
       "butter        6949\n",
       "eggs          6502"
      ]
     },
     "execution_count": 32,
     "metadata": {},
     "output_type": "execute_result"
    }
   ],
   "source": [
    "quantities_ingredients.head(15)"
   ]
  },
  {
   "cell_type": "code",
   "execution_count": 33,
   "id": "57e0728d",
   "metadata": {
    "hidden": true
   },
   "outputs": [
    {
     "name": "stdout",
     "output_type": "stream",
     "text": [
      "\n",
      "In the original data frame there are 6714 different ingredients.\n",
      "\n",
      "After getting rid of double designations, there are 2273 different ingredients contained in the dataset.\n"
     ]
    }
   ],
   "source": [
    "count_ingredients_old = count_ingredients\n",
    "count_ingredients = df.ingredients.unique().size\n",
    "print(f'\\nIn the original data frame there are {count_ingredients_old} different ingredients.')\n",
    "print(f'\\nAfter getting rid of double designations, there are {count_ingredients} different ingredients contained in the dataset.')"
   ]
  },
  {
   "cell_type": "markdown",
   "id": "921073e8",
   "metadata": {
    "hidden": true
   },
   "source": [
    " "
   ]
  },
  {
   "cell_type": "markdown",
   "id": "8b057287",
   "metadata": {
    "hidden": true
   },
   "source": [
    " "
   ]
  },
  {
   "cell_type": "markdown",
   "id": "55ec3d65",
   "metadata": {
    "hidden": true
   },
   "source": [
    "Perform a full duplicate search again:\n"
   ]
  },
  {
   "cell_type": "code",
   "execution_count": 34,
   "id": "5d3d1ed7",
   "metadata": {
    "hidden": true,
    "scrolled": true
   },
   "outputs": [
    {
     "name": "stdout",
     "output_type": "stream",
     "text": [
      "\n",
      "Now there are 32611 duplicates contained in the dataset.\n",
      "\n"
     ]
    }
   ],
   "source": [
    "num_dupl_2 = df.duplicated().sum()\n",
    "print(f'\\nNow there are {num_dupl_2} duplicates contained in the dataset.\\n')"
   ]
  },
  {
   "cell_type": "code",
   "execution_count": 35,
   "id": "48a71a3b",
   "metadata": {
    "hidden": true
   },
   "outputs": [
    {
     "name": "stdout",
     "output_type": "stream",
     "text": [
      "Now there are 0 cuplicates contained in the dataset.\n"
     ]
    }
   ],
   "source": [
    "df = df.drop_duplicates(keep='first')\n",
    "print(f'Now there are {df.duplicated().sum()} cuplicates contained in the dataset.')"
   ]
  },
  {
   "cell_type": "markdown",
   "id": "d3ab8f5d",
   "metadata": {
    "hidden": true
   },
   "source": [
    " "
   ]
  },
  {
   "cell_type": "markdown",
   "id": "3603fa62",
   "metadata": {
    "hidden": true
   },
   "source": [
    "Do comparison:"
   ]
  },
  {
   "cell_type": "code",
   "execution_count": 36,
   "id": "5f996536",
   "metadata": {
    "hidden": true
   },
   "outputs": [
    {
     "name": "stdout",
     "output_type": "stream",
     "text": [
      "Original number of ingredients: 6714\n",
      "Original number of recipes: 39774\n",
      "Original number of country cuisines: 20\n"
     ]
    }
   ],
   "source": [
    "print(f'Original number of ingredients: {count_ingredients_old}')\n",
    "print(f'Original number of recipes: {count_recipes}')\n",
    "print(f'Original number of country cuisines: {count_cuisines}')"
   ]
  },
  {
   "cell_type": "code",
   "execution_count": 37,
   "id": "6adf5c7e",
   "metadata": {
    "hidden": true
   },
   "outputs": [
    {
     "name": "stdout",
     "output_type": "stream",
     "text": [
      "Number of ingredients after adjustment: 2273\n",
      "Number of recipes after adjustment: 39774\n",
      "Number of country cuisines after adjustment: 20\n"
     ]
    }
   ],
   "source": [
    "count_recipes_new = df.ID_recipe.unique().size\n",
    "count_cuisines_new = df.cuisine.unique().size\n",
    "print(f'Number of ingredients after adjustment: {count_ingredients}')\n",
    "print(f'Number of recipes after adjustment: {count_recipes_new}')\n",
    "print(f'Number of country cuisines after adjustment: {count_cuisines_new}')"
   ]
  },
  {
   "cell_type": "markdown",
   "id": "20365aec",
   "metadata": {
    "hidden": true
   },
   "source": [
    " "
   ]
  },
  {
   "cell_type": "markdown",
   "id": "09e2df78",
   "metadata": {
    "hidden": true
   },
   "source": [
    "**Additional aspects**"
   ]
  },
  {
   "cell_type": "markdown",
   "id": "57ba38d8",
   "metadata": {
    "hidden": true
   },
   "source": [
    "Treatment or removal of outlier data could further improve data quality. For this purpose, we investigate how many prescriptions are eligible for removal based on the plots above. "
   ]
  },
  {
   "cell_type": "code",
   "execution_count": 38,
   "id": "1387dcb3",
   "metadata": {
    "hidden": true
   },
   "outputs": [
    {
     "name": "stdout",
     "output_type": "stream",
     "text": [
      "645\n",
      "309\n"
     ]
    }
   ],
   "source": [
    "print(df_3[df_3['ingredients'] <= 2].size)\n",
    "print(df_3[df_3['ingredients'] > 27].size)"
   ]
  },
  {
   "cell_type": "markdown",
   "id": "ad28abca",
   "metadata": {
    "hidden": true
   },
   "source": [
    " "
   ]
  },
  {
   "cell_type": "markdown",
   "id": "b3decc25",
   "metadata": {
    "hidden": true
   },
   "source": [
    " "
   ]
  },
  {
   "cell_type": "markdown",
   "id": "3a14d6a0",
   "metadata": {
    "hidden": true
   },
   "source": [
    " "
   ]
  },
  {
   "cell_type": "markdown",
   "id": "413c91f0",
   "metadata": {
    "hidden": true
   },
   "source": [
    " "
   ]
  },
  {
   "cell_type": "markdown",
   "id": "634c20fd",
   "metadata": {
    "hidden": true
   },
   "source": [
    " "
   ]
  },
  {
   "cell_type": "markdown",
   "id": "3614234c",
   "metadata": {
    "heading_collapsed": true
   },
   "source": [
    "# 3: Clustering - Similarity of recipes based on the ingredients\n",
    "\n",
    "In this section, we are interested in the information contained in the columns \"Recipe ID\" and \"Ingredients\".\n",
    "\n",
    "To spot similarities, we take the following steps:\n",
    "\n",
    "- Preparation of the data: Insert dummy variables, create an array.\n",
    "- Run Kmodes algorithm and view/evaluate results\n",
    "- Run DBSCAN algorithm and view / evaluate results\n",
    "- Extract information and learning effects from the results\n",
    "\n",
    "Basically, we are confronted with categorical data in our data frame, which cannot be evaluated numerically (without further ado). As a consequence, we start by introducing dummy variables to get information about the contained ingredients per recipe in binary form. We use the concept of \"one-hot-encoding\". "
   ]
  },
  {
   "cell_type": "code",
   "execution_count": 39,
   "id": "fb96990f",
   "metadata": {
    "hidden": true
   },
   "outputs": [
    {
     "data": {
      "text/html": [
       "<div>\n",
       "<style scoped>\n",
       "    .dataframe tbody tr th:only-of-type {\n",
       "        vertical-align: middle;\n",
       "    }\n",
       "\n",
       "    .dataframe tbody tr th {\n",
       "        vertical-align: top;\n",
       "    }\n",
       "\n",
       "    .dataframe thead th {\n",
       "        text-align: right;\n",
       "    }\n",
       "</style>\n",
       "<table border=\"1\" class=\"dataframe\">\n",
       "  <thead>\n",
       "    <tr style=\"text-align: right;\">\n",
       "      <th></th>\n",
       "      <th>ID_recipe</th>\n",
       "      <th>ingredients</th>\n",
       "    </tr>\n",
       "  </thead>\n",
       "  <tbody>\n",
       "    <tr>\n",
       "      <th>0</th>\n",
       "      <td>10259</td>\n",
       "      <td>lettuce</td>\n",
       "    </tr>\n",
       "    <tr>\n",
       "      <th>1</th>\n",
       "      <td>10259</td>\n",
       "      <td>olives</td>\n",
       "    </tr>\n",
       "    <tr>\n",
       "      <th>2</th>\n",
       "      <td>10259</td>\n",
       "      <td>tomatoes</td>\n",
       "    </tr>\n",
       "    <tr>\n",
       "      <th>3</th>\n",
       "      <td>10259</td>\n",
       "      <td>garlic</td>\n",
       "    </tr>\n",
       "    <tr>\n",
       "      <th>4</th>\n",
       "      <td>10259</td>\n",
       "      <td>pepper</td>\n",
       "    </tr>\n",
       "  </tbody>\n",
       "</table>\n",
       "</div>"
      ],
      "text/plain": [
       "   ID_recipe ingredients\n",
       "0      10259     lettuce\n",
       "1      10259      olives\n",
       "2      10259    tomatoes\n",
       "3      10259      garlic\n",
       "4      10259      pepper"
      ]
     },
     "execution_count": 39,
     "metadata": {},
     "output_type": "execute_result"
    }
   ],
   "source": [
    "#choose data contained in df dataframe\n",
    "df_4 = df.drop(['cuisine'], axis=1)\n",
    "df_4.head()"
   ]
  },
  {
   "cell_type": "markdown",
   "id": "847feeec",
   "metadata": {
    "hidden": true
   },
   "source": [
    " "
   ]
  },
  {
   "cell_type": "markdown",
   "id": "39c23417",
   "metadata": {
    "hidden": true
   },
   "source": [
    "**Insert dummy variables for every ingredient**"
   ]
  },
  {
   "cell_type": "markdown",
   "id": "0c0c3e37",
   "metadata": {
    "hidden": true
   },
   "source": [
    " "
   ]
  },
  {
   "cell_type": "code",
   "execution_count": 40,
   "id": "e740ef7a",
   "metadata": {
    "hidden": true
   },
   "outputs": [],
   "source": [
    "ingr_dummies = pd.get_dummies(df_4.ingredients)\n",
    "df_4 = pd.concat([df_4, ingr_dummies], axis=1)"
   ]
  },
  {
   "cell_type": "markdown",
   "id": "0cc494d4",
   "metadata": {
    "hidden": true
   },
   "source": [
    " "
   ]
  },
  {
   "cell_type": "markdown",
   "id": "79724a19",
   "metadata": {
    "hidden": true
   },
   "source": [
    "As the ingredient column is not useful any longer, we drop it."
   ]
  },
  {
   "cell_type": "code",
   "execution_count": 41,
   "id": "f0af7a15",
   "metadata": {
    "hidden": true
   },
   "outputs": [
    {
     "name": "stdout",
     "output_type": "stream",
     "text": [
      "(395638, 2274)\n"
     ]
    },
    {
     "data": {
      "text/html": [
       "<div>\n",
       "<style scoped>\n",
       "    .dataframe tbody tr th:only-of-type {\n",
       "        vertical-align: middle;\n",
       "    }\n",
       "\n",
       "    .dataframe tbody tr th {\n",
       "        vertical-align: top;\n",
       "    }\n",
       "\n",
       "    .dataframe thead th {\n",
       "        text-align: right;\n",
       "    }\n",
       "</style>\n",
       "<table border=\"1\" class=\"dataframe\">\n",
       "  <thead>\n",
       "    <tr style=\"text-align: right;\">\n",
       "      <th></th>\n",
       "      <th>ID_recipe</th>\n",
       "      <th>7 Up</th>\n",
       "      <th>Accent Seasoning</th>\n",
       "      <th>Adobo All Purpose Seasoning</th>\n",
       "      <th>Alexia Waffle Fries</th>\n",
       "      <th>Amaretti Cookies</th>\n",
       "      <th>Anaheim chile</th>\n",
       "      <th>Angostura bitters</th>\n",
       "      <th>Argo Corn Starch</th>\n",
       "      <th>Azteca Flour Tortillas</th>\n",
       "      <th>...</th>\n",
       "      <th>yuca</th>\n",
       "      <th>yucca</th>\n",
       "      <th>yucca root</th>\n",
       "      <th>yukon gold</th>\n",
       "      <th>yuzu</th>\n",
       "      <th>za'atar</th>\n",
       "      <th>zest</th>\n",
       "      <th>zinfandel</th>\n",
       "      <th>ziti</th>\n",
       "      <th>zucchini</th>\n",
       "    </tr>\n",
       "  </thead>\n",
       "  <tbody>\n",
       "    <tr>\n",
       "      <th>0</th>\n",
       "      <td>10259</td>\n",
       "      <td>0</td>\n",
       "      <td>0</td>\n",
       "      <td>0</td>\n",
       "      <td>0</td>\n",
       "      <td>0</td>\n",
       "      <td>0</td>\n",
       "      <td>0</td>\n",
       "      <td>0</td>\n",
       "      <td>0</td>\n",
       "      <td>...</td>\n",
       "      <td>0</td>\n",
       "      <td>0</td>\n",
       "      <td>0</td>\n",
       "      <td>0</td>\n",
       "      <td>0</td>\n",
       "      <td>0</td>\n",
       "      <td>0</td>\n",
       "      <td>0</td>\n",
       "      <td>0</td>\n",
       "      <td>0</td>\n",
       "    </tr>\n",
       "    <tr>\n",
       "      <th>1</th>\n",
       "      <td>10259</td>\n",
       "      <td>0</td>\n",
       "      <td>0</td>\n",
       "      <td>0</td>\n",
       "      <td>0</td>\n",
       "      <td>0</td>\n",
       "      <td>0</td>\n",
       "      <td>0</td>\n",
       "      <td>0</td>\n",
       "      <td>0</td>\n",
       "      <td>...</td>\n",
       "      <td>0</td>\n",
       "      <td>0</td>\n",
       "      <td>0</td>\n",
       "      <td>0</td>\n",
       "      <td>0</td>\n",
       "      <td>0</td>\n",
       "      <td>0</td>\n",
       "      <td>0</td>\n",
       "      <td>0</td>\n",
       "      <td>0</td>\n",
       "    </tr>\n",
       "    <tr>\n",
       "      <th>2</th>\n",
       "      <td>10259</td>\n",
       "      <td>0</td>\n",
       "      <td>0</td>\n",
       "      <td>0</td>\n",
       "      <td>0</td>\n",
       "      <td>0</td>\n",
       "      <td>0</td>\n",
       "      <td>0</td>\n",
       "      <td>0</td>\n",
       "      <td>0</td>\n",
       "      <td>...</td>\n",
       "      <td>0</td>\n",
       "      <td>0</td>\n",
       "      <td>0</td>\n",
       "      <td>0</td>\n",
       "      <td>0</td>\n",
       "      <td>0</td>\n",
       "      <td>0</td>\n",
       "      <td>0</td>\n",
       "      <td>0</td>\n",
       "      <td>0</td>\n",
       "    </tr>\n",
       "    <tr>\n",
       "      <th>3</th>\n",
       "      <td>10259</td>\n",
       "      <td>0</td>\n",
       "      <td>0</td>\n",
       "      <td>0</td>\n",
       "      <td>0</td>\n",
       "      <td>0</td>\n",
       "      <td>0</td>\n",
       "      <td>0</td>\n",
       "      <td>0</td>\n",
       "      <td>0</td>\n",
       "      <td>...</td>\n",
       "      <td>0</td>\n",
       "      <td>0</td>\n",
       "      <td>0</td>\n",
       "      <td>0</td>\n",
       "      <td>0</td>\n",
       "      <td>0</td>\n",
       "      <td>0</td>\n",
       "      <td>0</td>\n",
       "      <td>0</td>\n",
       "      <td>0</td>\n",
       "    </tr>\n",
       "    <tr>\n",
       "      <th>4</th>\n",
       "      <td>10259</td>\n",
       "      <td>0</td>\n",
       "      <td>0</td>\n",
       "      <td>0</td>\n",
       "      <td>0</td>\n",
       "      <td>0</td>\n",
       "      <td>0</td>\n",
       "      <td>0</td>\n",
       "      <td>0</td>\n",
       "      <td>0</td>\n",
       "      <td>...</td>\n",
       "      <td>0</td>\n",
       "      <td>0</td>\n",
       "      <td>0</td>\n",
       "      <td>0</td>\n",
       "      <td>0</td>\n",
       "      <td>0</td>\n",
       "      <td>0</td>\n",
       "      <td>0</td>\n",
       "      <td>0</td>\n",
       "      <td>0</td>\n",
       "    </tr>\n",
       "  </tbody>\n",
       "</table>\n",
       "<p>5 rows × 2274 columns</p>\n",
       "</div>"
      ],
      "text/plain": [
       "   ID_recipe  7 Up  Accent Seasoning  Adobo All Purpose Seasoning  \\\n",
       "0      10259     0                 0                            0   \n",
       "1      10259     0                 0                            0   \n",
       "2      10259     0                 0                            0   \n",
       "3      10259     0                 0                            0   \n",
       "4      10259     0                 0                            0   \n",
       "\n",
       "   Alexia Waffle Fries  Amaretti Cookies  Anaheim chile  Angostura bitters  \\\n",
       "0                    0                 0              0                  0   \n",
       "1                    0                 0              0                  0   \n",
       "2                    0                 0              0                  0   \n",
       "3                    0                 0              0                  0   \n",
       "4                    0                 0              0                  0   \n",
       "\n",
       "   Argo Corn Starch  Azteca Flour Tortillas  ...  yuca  yucca  yucca root  \\\n",
       "0                 0                       0  ...     0      0           0   \n",
       "1                 0                       0  ...     0      0           0   \n",
       "2                 0                       0  ...     0      0           0   \n",
       "3                 0                       0  ...     0      0           0   \n",
       "4                 0                       0  ...     0      0           0   \n",
       "\n",
       "   yukon gold  yuzu  za'atar  zest  zinfandel  ziti  zucchini  \n",
       "0           0     0        0     0          0     0         0  \n",
       "1           0     0        0     0          0     0         0  \n",
       "2           0     0        0     0          0     0         0  \n",
       "3           0     0        0     0          0     0         0  \n",
       "4           0     0        0     0          0     0         0  \n",
       "\n",
       "[5 rows x 2274 columns]"
      ]
     },
     "execution_count": 41,
     "metadata": {},
     "output_type": "execute_result"
    }
   ],
   "source": [
    "df_4.drop(['ingredients'], axis=1, inplace=True)\n",
    "print(df_4.shape)\n",
    "df_4.head()"
   ]
  },
  {
   "cell_type": "markdown",
   "id": "7f01b577",
   "metadata": {
    "hidden": true
   },
   "source": [
    " "
   ]
  },
  {
   "cell_type": "markdown",
   "id": "1d5f920b",
   "metadata": {
    "hidden": true
   },
   "source": [
    "Now we group by the recipe ID, so that we show all ingredients in one row (so we get a vector with binary values later)."
   ]
  },
  {
   "cell_type": "code",
   "execution_count": 42,
   "id": "18c1d19f",
   "metadata": {
    "hidden": true
   },
   "outputs": [
    {
     "data": {
      "text/html": [
       "<div>\n",
       "<style scoped>\n",
       "    .dataframe tbody tr th:only-of-type {\n",
       "        vertical-align: middle;\n",
       "    }\n",
       "\n",
       "    .dataframe tbody tr th {\n",
       "        vertical-align: top;\n",
       "    }\n",
       "\n",
       "    .dataframe thead th {\n",
       "        text-align: right;\n",
       "    }\n",
       "</style>\n",
       "<table border=\"1\" class=\"dataframe\">\n",
       "  <thead>\n",
       "    <tr style=\"text-align: right;\">\n",
       "      <th></th>\n",
       "      <th>ID_recipe</th>\n",
       "      <th>7 Up</th>\n",
       "      <th>Accent Seasoning</th>\n",
       "      <th>Adobo All Purpose Seasoning</th>\n",
       "      <th>Alexia Waffle Fries</th>\n",
       "      <th>Amaretti Cookies</th>\n",
       "      <th>Anaheim chile</th>\n",
       "      <th>Angostura bitters</th>\n",
       "      <th>Argo Corn Starch</th>\n",
       "      <th>Azteca Flour Tortillas</th>\n",
       "      <th>...</th>\n",
       "      <th>yuca</th>\n",
       "      <th>yucca</th>\n",
       "      <th>yucca root</th>\n",
       "      <th>yukon gold</th>\n",
       "      <th>yuzu</th>\n",
       "      <th>za'atar</th>\n",
       "      <th>zest</th>\n",
       "      <th>zinfandel</th>\n",
       "      <th>ziti</th>\n",
       "      <th>zucchini</th>\n",
       "    </tr>\n",
       "  </thead>\n",
       "  <tbody>\n",
       "    <tr>\n",
       "      <th>0</th>\n",
       "      <td>0</td>\n",
       "      <td>0</td>\n",
       "      <td>0</td>\n",
       "      <td>0</td>\n",
       "      <td>0</td>\n",
       "      <td>0</td>\n",
       "      <td>0</td>\n",
       "      <td>0</td>\n",
       "      <td>0</td>\n",
       "      <td>0</td>\n",
       "      <td>...</td>\n",
       "      <td>0</td>\n",
       "      <td>0</td>\n",
       "      <td>0</td>\n",
       "      <td>0</td>\n",
       "      <td>0</td>\n",
       "      <td>0</td>\n",
       "      <td>0</td>\n",
       "      <td>0</td>\n",
       "      <td>0</td>\n",
       "      <td>0</td>\n",
       "    </tr>\n",
       "    <tr>\n",
       "      <th>1</th>\n",
       "      <td>15</td>\n",
       "      <td>0</td>\n",
       "      <td>0</td>\n",
       "      <td>0</td>\n",
       "      <td>0</td>\n",
       "      <td>0</td>\n",
       "      <td>0</td>\n",
       "      <td>0</td>\n",
       "      <td>0</td>\n",
       "      <td>0</td>\n",
       "      <td>...</td>\n",
       "      <td>0</td>\n",
       "      <td>0</td>\n",
       "      <td>0</td>\n",
       "      <td>0</td>\n",
       "      <td>0</td>\n",
       "      <td>0</td>\n",
       "      <td>0</td>\n",
       "      <td>0</td>\n",
       "      <td>0</td>\n",
       "      <td>0</td>\n",
       "    </tr>\n",
       "    <tr>\n",
       "      <th>2</th>\n",
       "      <td>36</td>\n",
       "      <td>0</td>\n",
       "      <td>0</td>\n",
       "      <td>0</td>\n",
       "      <td>0</td>\n",
       "      <td>0</td>\n",
       "      <td>0</td>\n",
       "      <td>0</td>\n",
       "      <td>0</td>\n",
       "      <td>0</td>\n",
       "      <td>...</td>\n",
       "      <td>0</td>\n",
       "      <td>0</td>\n",
       "      <td>0</td>\n",
       "      <td>0</td>\n",
       "      <td>0</td>\n",
       "      <td>0</td>\n",
       "      <td>0</td>\n",
       "      <td>0</td>\n",
       "      <td>0</td>\n",
       "      <td>0</td>\n",
       "    </tr>\n",
       "    <tr>\n",
       "      <th>3</th>\n",
       "      <td>30</td>\n",
       "      <td>0</td>\n",
       "      <td>0</td>\n",
       "      <td>0</td>\n",
       "      <td>0</td>\n",
       "      <td>0</td>\n",
       "      <td>0</td>\n",
       "      <td>0</td>\n",
       "      <td>0</td>\n",
       "      <td>0</td>\n",
       "      <td>...</td>\n",
       "      <td>0</td>\n",
       "      <td>0</td>\n",
       "      <td>0</td>\n",
       "      <td>0</td>\n",
       "      <td>0</td>\n",
       "      <td>0</td>\n",
       "      <td>0</td>\n",
       "      <td>0</td>\n",
       "      <td>0</td>\n",
       "      <td>0</td>\n",
       "    </tr>\n",
       "    <tr>\n",
       "      <th>4</th>\n",
       "      <td>16</td>\n",
       "      <td>0</td>\n",
       "      <td>0</td>\n",
       "      <td>0</td>\n",
       "      <td>0</td>\n",
       "      <td>0</td>\n",
       "      <td>0</td>\n",
       "      <td>0</td>\n",
       "      <td>0</td>\n",
       "      <td>0</td>\n",
       "      <td>...</td>\n",
       "      <td>0</td>\n",
       "      <td>0</td>\n",
       "      <td>0</td>\n",
       "      <td>0</td>\n",
       "      <td>0</td>\n",
       "      <td>0</td>\n",
       "      <td>0</td>\n",
       "      <td>0</td>\n",
       "      <td>0</td>\n",
       "      <td>0</td>\n",
       "    </tr>\n",
       "  </tbody>\n",
       "</table>\n",
       "<p>5 rows × 2274 columns</p>\n",
       "</div>"
      ],
      "text/plain": [
       "   ID_recipe  7 Up  Accent Seasoning  Adobo All Purpose Seasoning  \\\n",
       "0          0     0                 0                            0   \n",
       "1         15     0                 0                            0   \n",
       "2         36     0                 0                            0   \n",
       "3         30     0                 0                            0   \n",
       "4         16     0                 0                            0   \n",
       "\n",
       "   Alexia Waffle Fries  Amaretti Cookies  Anaheim chile  Angostura bitters  \\\n",
       "0                    0                 0              0                  0   \n",
       "1                    0                 0              0                  0   \n",
       "2                    0                 0              0                  0   \n",
       "3                    0                 0              0                  0   \n",
       "4                    0                 0              0                  0   \n",
       "\n",
       "   Argo Corn Starch  Azteca Flour Tortillas  ...  yuca  yucca  yucca root  \\\n",
       "0                 0                       0  ...     0      0           0   \n",
       "1                 0                       0  ...     0      0           0   \n",
       "2                 0                       0  ...     0      0           0   \n",
       "3                 0                       0  ...     0      0           0   \n",
       "4                 0                       0  ...     0      0           0   \n",
       "\n",
       "   yukon gold  yuzu  za'atar  zest  zinfandel  ziti  zucchini  \n",
       "0           0     0        0     0          0     0         0  \n",
       "1           0     0        0     0          0     0         0  \n",
       "2           0     0        0     0          0     0         0  \n",
       "3           0     0        0     0          0     0         0  \n",
       "4           0     0        0     0          0     0         0  \n",
       "\n",
       "[5 rows x 2274 columns]"
      ]
     },
     "execution_count": 42,
     "metadata": {},
     "output_type": "execute_result"
    }
   ],
   "source": [
    "df_5 = df_4.groupby('ID_recipe', as_index=False).apply(lambda grp: grp.sum())\n",
    "df_5.head()"
   ]
  },
  {
   "cell_type": "code",
   "execution_count": 43,
   "id": "1a142e1f",
   "metadata": {
    "hidden": true
   },
   "outputs": [
    {
     "data": {
      "text/plain": [
       "(39774, 2274)"
      ]
     },
     "execution_count": 43,
     "metadata": {},
     "output_type": "execute_result"
    }
   ],
   "source": [
    "df_5.shape"
   ]
  },
  {
   "cell_type": "markdown",
   "id": "17c98ab1",
   "metadata": {
    "hidden": true
   },
   "source": [
    " "
   ]
  },
  {
   "cell_type": "markdown",
   "id": "f30e52ea",
   "metadata": {
    "hidden": true
   },
   "source": [
    " "
   ]
  },
  {
   "cell_type": "markdown",
   "id": "22a8425f",
   "metadata": {
    "hidden": true
   },
   "source": [
    " "
   ]
  },
  {
   "cell_type": "markdown",
   "id": "c1fc3850",
   "metadata": {
    "hidden": true
   },
   "source": [
    "**Clustering**"
   ]
  },
  {
   "cell_type": "markdown",
   "id": "3256a208",
   "metadata": {
    "hidden": true
   },
   "source": [
    "We apply a clustering algorithm to cluster the recipes based on the ingredients contained therein. To do so, we use a k-modes algorithm."
   ]
  },
  {
   "cell_type": "markdown",
   "id": "1b5ef382",
   "metadata": {
    "hidden": true
   },
   "source": [
    "  "
   ]
  },
  {
   "cell_type": "markdown",
   "id": "1ac9143d",
   "metadata": {
    "hidden": true
   },
   "source": [
    "Transform data to numpy array:"
   ]
  },
  {
   "cell_type": "code",
   "execution_count": 44,
   "id": "1147d70c",
   "metadata": {
    "hidden": true,
    "scrolled": true
   },
   "outputs": [
    {
     "name": "stdout",
     "output_type": "stream",
     "text": [
      "[[0 0 0 ... 0 0 0]\n",
      " [0 0 0 ... 0 0 0]\n",
      " [0 0 0 ... 0 0 0]\n",
      " ...\n",
      " [0 0 0 ... 0 0 0]\n",
      " [0 0 0 ... 0 0 0]\n",
      " [0 0 0 ... 0 0 0]]\n",
      "(39774, 2273)\n"
     ]
    }
   ],
   "source": [
    "#df_5.drop(['cluster', 'cluster_dbscan'], axis=1, inplace=True)\n",
    "X = df_5.set_index('ID_recipe').to_numpy()\n",
    "print(X)\n",
    "print(X.shape)"
   ]
  },
  {
   "cell_type": "markdown",
   "id": "9aaeca43",
   "metadata": {
    "hidden": true
   },
   "source": [
    " "
   ]
  },
  {
   "cell_type": "markdown",
   "id": "5c389e83",
   "metadata": {
    "hidden": true
   },
   "source": [
    " "
   ]
  },
  {
   "cell_type": "markdown",
   "id": "04dad847",
   "metadata": {
    "hidden": true
   },
   "source": [
    "Load k-modes module and fit model to data.\n"
   ]
  },
  {
   "cell_type": "code",
   "execution_count": 45,
   "id": "7f52d101",
   "metadata": {
    "hidden": true
   },
   "outputs": [],
   "source": [
    "from kmodes.kmodes import KModes"
   ]
  },
  {
   "cell_type": "code",
   "execution_count": 46,
   "id": "c7ede757",
   "metadata": {
    "hidden": true
   },
   "outputs": [
    {
     "name": "stdout",
     "output_type": "stream",
     "text": [
      "Initialization method and algorithm are deterministic. Setting n_init to 1.\n",
      "Init: initializing centroids\n",
      "Init: initializing clusters\n",
      "Starting iterations...\n",
      "Run 1, iteration: 1/100, moves: 0, cost: 19277.0\n"
     ]
    },
    {
     "data": {
      "text/plain": [
       "KModes(n_clusters=3, n_init=1, verbose=1)"
      ]
     },
     "execution_count": 46,
     "metadata": {},
     "output_type": "execute_result"
    }
   ],
   "source": [
    "X_small = X[2000:4000,:] #choose sample data\n",
    "\n",
    "kmode_small = KModes(n_clusters=3, n_init=2, verbose=1)\n",
    "kmode_small.fit(X_small)"
   ]
  },
  {
   "cell_type": "markdown",
   "id": "30935315",
   "metadata": {
    "hidden": true
   },
   "source": [
    " "
   ]
  },
  {
   "cell_type": "markdown",
   "id": "d17c8dac",
   "metadata": {
    "hidden": true
   },
   "source": [
    " "
   ]
  },
  {
   "cell_type": "markdown",
   "id": "6422920b",
   "metadata": {
    "hidden": true
   },
   "source": [
    "Test results:"
   ]
  },
  {
   "cell_type": "code",
   "execution_count": 47,
   "id": "52dfea3b",
   "metadata": {
    "hidden": true
   },
   "outputs": [],
   "source": [
    "Y = 99+np.zeros(X.shape[0])\n",
    "Y[2000:4000] = kmode_small.predict(X[2000:4000,:])"
   ]
  },
  {
   "cell_type": "markdown",
   "id": "4f5aa219",
   "metadata": {
    "hidden": true
   },
   "source": [
    " "
   ]
  },
  {
   "cell_type": "markdown",
   "id": "028445dc",
   "metadata": {
    "hidden": true
   },
   "source": [
    " "
   ]
  },
  {
   "cell_type": "markdown",
   "id": "22b4fd7f",
   "metadata": {
    "hidden": true
   },
   "source": [
    "Consider results:"
   ]
  },
  {
   "cell_type": "code",
   "execution_count": 48,
   "id": "5fa7b537",
   "metadata": {
    "hidden": true
   },
   "outputs": [],
   "source": [
    "#insert cluster prediction to dataframe\n",
    "df_5['cluster'] = Y "
   ]
  },
  {
   "cell_type": "code",
   "execution_count": 49,
   "id": "b4ae9688",
   "metadata": {
    "hidden": true
   },
   "outputs": [
    {
     "name": "stdout",
     "output_type": "stream",
     "text": [
      "The number of recipes that are predicted to be in cluster 0 is 1998\n",
      "The number of recipes that are predicted to be in cluster 1 is 1\n",
      "The number of recipes that are predicted to be in cluster 2 is 1\n"
     ]
    }
   ],
   "source": [
    "print(f\"The number of recipes that are predicted to be in cluster 0 is {df_5[df_5['cluster'] == 0].shape[0]}\")\n",
    "print(f\"The number of recipes that are predicted to be in cluster 1 is {df_5[df_5['cluster'] == 1].shape[0]}\")\n",
    "print(f\"The number of recipes that are predicted to be in cluster 2 is {df_5[df_5['cluster'] == 2].shape[0]}\")\n",
    "\n",
    "#df_5[df_5['cluster'] == 0].shape"
   ]
  },
  {
   "cell_type": "code",
   "execution_count": 50,
   "id": "2ab6d34f",
   "metadata": {
    "hidden": true,
    "scrolled": true
   },
   "outputs": [
    {
     "data": {
      "text/plain": [
       "3161    37.0\n",
       "dtype: float64"
      ]
     },
     "execution_count": 50,
     "metadata": {},
     "output_type": "execute_result"
    }
   ],
   "source": [
    "#look up how many ingredients are in the recipe that is contained in cluster 1\n",
    "df_5[df_5['cluster'] == 1].iloc[:,2:].sum(axis=1) #Anzahl Zutaten"
   ]
  },
  {
   "cell_type": "code",
   "execution_count": 51,
   "id": "68ff3f2d",
   "metadata": {
    "hidden": true
   },
   "outputs": [
    {
     "data": {
      "text/plain": [
       "3812    31.0\n",
       "dtype: float64"
      ]
     },
     "execution_count": 51,
     "metadata": {},
     "output_type": "execute_result"
    }
   ],
   "source": [
    "#look up how many ingredients are in the recipe that is contained in cluster 2\n",
    "df_5[df_5['cluster'] == 2].shape\n",
    "df_5[df_5['cluster'] == 2].iloc[:,2:].sum(axis=1) #Anzahl Zutaten"
   ]
  },
  {
   "cell_type": "markdown",
   "id": "5aedc781",
   "metadata": {
    "hidden": true
   },
   "source": [
    " "
   ]
  },
  {
   "cell_type": "markdown",
   "id": "6e05ddaa",
   "metadata": {
    "hidden": true
   },
   "source": [
    "Score model based on silhouette coefficient"
   ]
  },
  {
   "cell_type": "code",
   "execution_count": 52,
   "id": "1288f27f",
   "metadata": {
    "hidden": true
   },
   "outputs": [
    {
     "data": {
      "text/plain": [
       "0.49180281374792123"
      ]
     },
     "execution_count": 52,
     "metadata": {},
     "output_type": "execute_result"
    }
   ],
   "source": [
    "from sklearn import metrics\n",
    "labels = kmode_small.labels_\n",
    "metrics.silhouette_score(X_small, labels, metric='hamming')"
   ]
  },
  {
   "cell_type": "markdown",
   "id": "c5e0df23",
   "metadata": {
    "hidden": true
   },
   "source": [
    "--> The silhouette coefficient indicates that the clusters are clearly separated."
   ]
  },
  {
   "cell_type": "markdown",
   "id": "60220fd0",
   "metadata": {
    "hidden": true
   },
   "source": [
    " "
   ]
  },
  {
   "cell_type": "markdown",
   "id": "3a03f035",
   "metadata": {
    "hidden": true
   },
   "source": [
    " "
   ]
  },
  {
   "cell_type": "markdown",
   "id": "6fd7a8f9",
   "metadata": {
    "hidden": true
   },
   "source": [
    " "
   ]
  },
  {
   "cell_type": "markdown",
   "id": "8ce0dee7",
   "metadata": {
    "hidden": true
   },
   "source": [
    "**DBSCAN - density based spatial clustering of applications with noise**\n",
    "\n",
    "Let's compare the results to those of another clustering algorithm. "
   ]
  },
  {
   "cell_type": "code",
   "execution_count": 53,
   "id": "e8d890cf",
   "metadata": {
    "hidden": true
   },
   "outputs": [],
   "source": [
    "from sklearn.cluster import DBSCAN\n",
    "dbscan_small = DBSCAN(eps=0.1, min_samples=3, metric='hamming').fit(X_small)"
   ]
  },
  {
   "cell_type": "code",
   "execution_count": 54,
   "id": "3db2c51c",
   "metadata": {
    "hidden": true
   },
   "outputs": [],
   "source": [
    "Ydbscan = 99+np.zeros(X.shape[0])\n",
    "Ydbscan[2000:4000] = dbscan_small.labels_"
   ]
  },
  {
   "cell_type": "code",
   "execution_count": 55,
   "id": "98df81f1",
   "metadata": {
    "hidden": true
   },
   "outputs": [
    {
     "data": {
      "text/plain": [
       "(2000, 2276)"
      ]
     },
     "execution_count": 55,
     "metadata": {},
     "output_type": "execute_result"
    }
   ],
   "source": [
    "df_5['cluster_dbscan'] = Ydbscan\n",
    "df_5[df_5['cluster_dbscan'] == 0].shape"
   ]
  },
  {
   "cell_type": "markdown",
   "id": "537e7f50",
   "metadata": {
    "hidden": true
   },
   "source": [
    "--> also here, all recipes are predicted to be in the same cluster. "
   ]
  },
  {
   "cell_type": "markdown",
   "id": "62df49f5",
   "metadata": {
    "hidden": true
   },
   "source": [
    " "
   ]
  },
  {
   "cell_type": "markdown",
   "id": "2c604b4d",
   "metadata": {
    "hidden": true
   },
   "source": [
    " "
   ]
  },
  {
   "cell_type": "markdown",
   "id": "0700b1f2",
   "metadata": {
    "hidden": true
   },
   "source": [
    " "
   ]
  },
  {
   "cell_type": "markdown",
   "id": "f0828bf3",
   "metadata": {
    "hidden": true
   },
   "source": [
    "**Learning impact**"
   ]
  },
  {
   "cell_type": "markdown",
   "id": "104bcf8b",
   "metadata": {
    "hidden": true
   },
   "source": [
    " "
   ]
  },
  {
   "cell_type": "markdown",
   "id": "008bd76b",
   "metadata": {
    "hidden": true
   },
   "source": [
    "We notice that the model does not cluster, and includes in the two one-element clusters recipes with a large number of ingredients. Therefore, the clustering can be done again with adjusted dataset. To do this:\n",
    "\n",
    "- Choose different number of clusters and passes and draw comparisons.\n",
    "- Use Elbow method to choose number of clusters\n",
    "- Overlapping of clusters could lead to problems\n",
    "- Set up a suitable initial guess\n",
    "- Ignore data outside the quartile box and suppress the influence of outliers\n",
    "- Problematic selection of test data\n",
    "\n",
    "and observe again what effect the procedure has. "
   ]
  },
  {
   "cell_type": "markdown",
   "id": "ea0ac43b",
   "metadata": {
    "hidden": true
   },
   "source": [
    "Therefore, let us check the quantile boarders of the data."
   ]
  },
  {
   "cell_type": "code",
   "execution_count": 56,
   "id": "2d45a94b",
   "metadata": {
    "hidden": true
   },
   "outputs": [
    {
     "name": "stdout",
     "output_type": "stream",
     "text": [
      "count    8.0\n",
      "Name: 0.25, dtype: float64\n",
      "count    13.0\n",
      "Name: 0.75, dtype: float64\n"
     ]
    },
    {
     "data": {
      "image/png": "[encoded data removed]",
      "text/plain": [
       "<Figure size 640x480 with 1 Axes>"
      ]
     },
     "metadata": {},
     "output_type": "display_data"
    }
   ],
   "source": [
    "sns.boxplot(x=number_of_ing['count'])\n",
    "print(number_of_ing.quantile(0.25))\n",
    "print(number_of_ing.quantile(0.75))"
   ]
  },
  {
   "cell_type": "markdown",
   "id": "cac8a089",
   "metadata": {
    "hidden": true
   },
   "source": [
    " "
   ]
  },
  {
   "cell_type": "markdown",
   "id": "6ee2fd3b",
   "metadata": {
    "hidden": true
   },
   "source": [
    " "
   ]
  },
  {
   "cell_type": "markdown",
   "id": "2d7b1066",
   "metadata": {
    "hidden": true
   },
   "source": [
    " "
   ]
  },
  {
   "cell_type": "markdown",
   "id": "65b91345",
   "metadata": {
    "heading_collapsed": true
   },
   "source": [
    "# 4: Classification - Country cuisine based on ingredients\n",
    "\n",
    "Now we classify the recipes by country cuisines. To do this, we perform the following steps:\n",
    " \n",
    " - Prepare the dataset, insert dummy variables.\n",
    " - Select feature data X and label data Y \n",
    " - Divide data into test and training set\n",
    " - Perform classification\n",
    " - Consider and evaluate the results and the goodness of the model.\n",
    " \n",
    " We use two different data sets that differ in the number of features and labels. \n",
    " \n",
    " We use logistic regression and a decision tree. \n"
   ]
  },
  {
   "cell_type": "markdown",
   "id": "c938e1ef",
   "metadata": {
    "heading_collapsed": true,
    "hidden": true
   },
   "source": [
    "## Logistic Regression"
   ]
  },
  {
   "cell_type": "markdown",
   "id": "e1cbcfde",
   "metadata": {
    "hidden": true
   },
   "source": [
    "**Preparation of data**"
   ]
  },
  {
   "cell_type": "markdown",
   "id": "e30ca326",
   "metadata": {
    "hidden": true
   },
   "source": [
    " "
   ]
  },
  {
   "cell_type": "code",
   "execution_count": 57,
   "id": "aa77b986",
   "metadata": {
    "hidden": true
   },
   "outputs": [
    {
     "data": {
      "text/html": [
       "<div>\n",
       "<style scoped>\n",
       "    .dataframe tbody tr th:only-of-type {\n",
       "        vertical-align: middle;\n",
       "    }\n",
       "\n",
       "    .dataframe tbody tr th {\n",
       "        vertical-align: top;\n",
       "    }\n",
       "\n",
       "    .dataframe thead th {\n",
       "        text-align: right;\n",
       "    }\n",
       "</style>\n",
       "<table border=\"1\" class=\"dataframe\">\n",
       "  <thead>\n",
       "    <tr style=\"text-align: right;\">\n",
       "      <th></th>\n",
       "      <th>ID_recipe</th>\n",
       "      <th>cuisine</th>\n",
       "      <th>ingredients</th>\n",
       "    </tr>\n",
       "  </thead>\n",
       "  <tbody>\n",
       "    <tr>\n",
       "      <th>0</th>\n",
       "      <td>10259</td>\n",
       "      <td>greek</td>\n",
       "      <td>lettuce</td>\n",
       "    </tr>\n",
       "    <tr>\n",
       "      <th>1</th>\n",
       "      <td>10259</td>\n",
       "      <td>greek</td>\n",
       "      <td>olives</td>\n",
       "    </tr>\n",
       "    <tr>\n",
       "      <th>2</th>\n",
       "      <td>10259</td>\n",
       "      <td>greek</td>\n",
       "      <td>tomatoes</td>\n",
       "    </tr>\n",
       "    <tr>\n",
       "      <th>3</th>\n",
       "      <td>10259</td>\n",
       "      <td>greek</td>\n",
       "      <td>garlic</td>\n",
       "    </tr>\n",
       "    <tr>\n",
       "      <th>4</th>\n",
       "      <td>10259</td>\n",
       "      <td>greek</td>\n",
       "      <td>pepper</td>\n",
       "    </tr>\n",
       "    <tr>\n",
       "      <th>...</th>\n",
       "      <td>...</td>\n",
       "      <td>...</td>\n",
       "      <td>...</td>\n",
       "    </tr>\n",
       "    <tr>\n",
       "      <th>428270</th>\n",
       "      <td>2362</td>\n",
       "      <td>mexican</td>\n",
       "      <td>garlic</td>\n",
       "    </tr>\n",
       "    <tr>\n",
       "      <th>428271</th>\n",
       "      <td>2362</td>\n",
       "      <td>mexican</td>\n",
       "      <td>sugar</td>\n",
       "    </tr>\n",
       "    <tr>\n",
       "      <th>428272</th>\n",
       "      <td>2362</td>\n",
       "      <td>mexican</td>\n",
       "      <td>tomatoes</td>\n",
       "    </tr>\n",
       "    <tr>\n",
       "      <th>428273</th>\n",
       "      <td>2362</td>\n",
       "      <td>mexican</td>\n",
       "      <td>celery</td>\n",
       "    </tr>\n",
       "    <tr>\n",
       "      <th>428274</th>\n",
       "      <td>2362</td>\n",
       "      <td>mexican</td>\n",
       "      <td>oregano</td>\n",
       "    </tr>\n",
       "  </tbody>\n",
       "</table>\n",
       "<p>395638 rows × 3 columns</p>\n",
       "</div>"
      ],
      "text/plain": [
       "        ID_recipe  cuisine ingredients\n",
       "0           10259    greek     lettuce\n",
       "1           10259    greek      olives\n",
       "2           10259    greek    tomatoes\n",
       "3           10259    greek      garlic\n",
       "4           10259    greek      pepper\n",
       "...           ...      ...         ...\n",
       "428270       2362  mexican      garlic\n",
       "428271       2362  mexican       sugar\n",
       "428272       2362  mexican    tomatoes\n",
       "428273       2362  mexican      celery\n",
       "428274       2362  mexican     oregano\n",
       "\n",
       "[395638 rows x 3 columns]"
      ]
     },
     "execution_count": 57,
     "metadata": {},
     "output_type": "execute_result"
    }
   ],
   "source": [
    "df"
   ]
  },
  {
   "cell_type": "markdown",
   "id": "abcf175d",
   "metadata": {
    "hidden": true
   },
   "source": [
    "For simplification, we first choose only three country cuisines, that is 'italian', 'mexican', and 'chinese'."
   ]
  },
  {
   "cell_type": "code",
   "execution_count": 58,
   "id": "97d53039",
   "metadata": {
    "hidden": true
   },
   "outputs": [],
   "source": [
    "Kdf_1 = df.loc[df['cuisine'].isin(['italian','mexican','chinese'])]"
   ]
  },
  {
   "cell_type": "code",
   "execution_count": 59,
   "id": "b195f089",
   "metadata": {
    "hidden": true
   },
   "outputs": [
    {
     "data": {
      "text/html": [
       "<div>\n",
       "<style scoped>\n",
       "    .dataframe tbody tr th:only-of-type {\n",
       "        vertical-align: middle;\n",
       "    }\n",
       "\n",
       "    .dataframe tbody tr th {\n",
       "        vertical-align: top;\n",
       "    }\n",
       "\n",
       "    .dataframe thead th {\n",
       "        text-align: right;\n",
       "    }\n",
       "</style>\n",
       "<table border=\"1\" class=\"dataframe\">\n",
       "  <thead>\n",
       "    <tr style=\"text-align: right;\">\n",
       "      <th></th>\n",
       "      <th>ID_recipe</th>\n",
       "      <th>cuisine</th>\n",
       "      <th>ingredients</th>\n",
       "    </tr>\n",
       "  </thead>\n",
       "  <tbody>\n",
       "    <tr>\n",
       "      <th>81</th>\n",
       "      <td>3735</td>\n",
       "      <td>italian</td>\n",
       "      <td>sugar</td>\n",
       "    </tr>\n",
       "    <tr>\n",
       "      <th>82</th>\n",
       "      <td>3735</td>\n",
       "      <td>italian</td>\n",
       "      <td>nuts</td>\n",
       "    </tr>\n",
       "    <tr>\n",
       "      <th>83</th>\n",
       "      <td>3735</td>\n",
       "      <td>italian</td>\n",
       "      <td>white almond bark</td>\n",
       "    </tr>\n",
       "    <tr>\n",
       "      <th>84</th>\n",
       "      <td>3735</td>\n",
       "      <td>italian</td>\n",
       "      <td>flour</td>\n",
       "    </tr>\n",
       "    <tr>\n",
       "      <th>85</th>\n",
       "      <td>3735</td>\n",
       "      <td>italian</td>\n",
       "      <td>vanilla</td>\n",
       "    </tr>\n",
       "    <tr>\n",
       "      <th>...</th>\n",
       "      <td>...</td>\n",
       "      <td>...</td>\n",
       "      <td>...</td>\n",
       "    </tr>\n",
       "    <tr>\n",
       "      <th>428270</th>\n",
       "      <td>2362</td>\n",
       "      <td>mexican</td>\n",
       "      <td>garlic</td>\n",
       "    </tr>\n",
       "    <tr>\n",
       "      <th>428271</th>\n",
       "      <td>2362</td>\n",
       "      <td>mexican</td>\n",
       "      <td>sugar</td>\n",
       "    </tr>\n",
       "    <tr>\n",
       "      <th>428272</th>\n",
       "      <td>2362</td>\n",
       "      <td>mexican</td>\n",
       "      <td>tomatoes</td>\n",
       "    </tr>\n",
       "    <tr>\n",
       "      <th>428273</th>\n",
       "      <td>2362</td>\n",
       "      <td>mexican</td>\n",
       "      <td>celery</td>\n",
       "    </tr>\n",
       "    <tr>\n",
       "      <th>428274</th>\n",
       "      <td>2362</td>\n",
       "      <td>mexican</td>\n",
       "      <td>oregano</td>\n",
       "    </tr>\n",
       "  </tbody>\n",
       "</table>\n",
       "<p>165333 rows × 3 columns</p>\n",
       "</div>"
      ],
      "text/plain": [
       "        ID_recipe  cuisine        ingredients\n",
       "81           3735  italian              sugar\n",
       "82           3735  italian               nuts\n",
       "83           3735  italian  white almond bark\n",
       "84           3735  italian              flour\n",
       "85           3735  italian            vanilla\n",
       "...           ...      ...                ...\n",
       "428270       2362  mexican             garlic\n",
       "428271       2362  mexican              sugar\n",
       "428272       2362  mexican           tomatoes\n",
       "428273       2362  mexican             celery\n",
       "428274       2362  mexican            oregano\n",
       "\n",
       "[165333 rows x 3 columns]"
      ]
     },
     "execution_count": 59,
     "metadata": {},
     "output_type": "execute_result"
    }
   ],
   "source": [
    "Kdf_1"
   ]
  },
  {
   "cell_type": "markdown",
   "id": "c7849d39",
   "metadata": {
    "hidden": true
   },
   "source": [
    " "
   ]
  },
  {
   "cell_type": "markdown",
   "id": "300dea72",
   "metadata": {
    "hidden": true
   },
   "source": [
    " "
   ]
  },
  {
   "cell_type": "markdown",
   "id": "500b3e9c",
   "metadata": {
    "hidden": true
   },
   "source": [
    " "
   ]
  },
  {
   "cell_type": "markdown",
   "id": "b6ccb63d",
   "metadata": {
    "hidden": true
   },
   "source": [
    "Again: insert dummy variables"
   ]
  },
  {
   "cell_type": "markdown",
   "id": "a1235e48",
   "metadata": {
    "hidden": true
   },
   "source": [
    " "
   ]
  },
  {
   "cell_type": "code",
   "execution_count": 60,
   "id": "5df5bf96",
   "metadata": {
    "hidden": true
   },
   "outputs": [],
   "source": [
    "K_ingr_dummies = pd.get_dummies(Kdf_1.ingredients)\n",
    "Kdf_1 = pd.concat([Kdf_1, K_ingr_dummies], axis=1)"
   ]
  },
  {
   "cell_type": "code",
   "execution_count": 61,
   "id": "f50cee18",
   "metadata": {
    "hidden": true,
    "scrolled": false
   },
   "outputs": [],
   "source": [
    "Kdf_1 = Kdf_1.drop(['ingredients'], axis=1)"
   ]
  },
  {
   "cell_type": "code",
   "execution_count": 62,
   "id": "82347f37",
   "metadata": {
    "hidden": true
   },
   "outputs": [],
   "source": [
    "Kdf_1 = Kdf_1.groupby('ID_recipe', as_index=False).apply(lambda grp: grp.sum())"
   ]
  },
  {
   "cell_type": "code",
   "execution_count": 63,
   "id": "de9d235b",
   "metadata": {
    "hidden": true
   },
   "outputs": [],
   "source": [
    "Kdf_2 = Kdf_1"
   ]
  },
  {
   "cell_type": "markdown",
   "id": "ae293047",
   "metadata": {
    "hidden": true
   },
   "source": [
    "Insert numerical indicators for the country cuisines."
   ]
  },
  {
   "cell_type": "code",
   "execution_count": 64,
   "id": "3d45bd47",
   "metadata": {
    "hidden": true
   },
   "outputs": [],
   "source": [
    "for abb in ['mex','it','chi']: \n",
    "    Kdf_2.loc[Kdf_2['cuisine'].str.contains(abb), 'cuisine'] = abb"
   ]
  },
  {
   "cell_type": "code",
   "execution_count": 65,
   "id": "55aef2d6",
   "metadata": {
    "hidden": true
   },
   "outputs": [],
   "source": [
    "for abb, val in [('mex', '0'),('it', '1'),('chi', '2')]: \n",
    "        Kdf_1.loc[Kdf_1['cuisine'].str.contains(abb), 'cuisine'] = val\n"
   ]
  },
  {
   "cell_type": "code",
   "execution_count": 66,
   "id": "d2bed4bd",
   "metadata": {
    "hidden": true
   },
   "outputs": [
    {
     "data": {
      "text/html": [
       "<div>\n",
       "<style scoped>\n",
       "    .dataframe tbody tr th:only-of-type {\n",
       "        vertical-align: middle;\n",
       "    }\n",
       "\n",
       "    .dataframe tbody tr th {\n",
       "        vertical-align: top;\n",
       "    }\n",
       "\n",
       "    .dataframe thead th {\n",
       "        text-align: right;\n",
       "    }\n",
       "</style>\n",
       "<table border=\"1\" class=\"dataframe\">\n",
       "  <thead>\n",
       "    <tr style=\"text-align: right;\">\n",
       "      <th></th>\n",
       "      <th>ID_recipe</th>\n",
       "      <th>cuisine</th>\n",
       "      <th>7 Up</th>\n",
       "      <th>Adobo All Purpose Seasoning</th>\n",
       "      <th>Amaretti Cookies</th>\n",
       "      <th>Anaheim chile</th>\n",
       "      <th>Angostura bitters</th>\n",
       "      <th>Argo Corn Starch</th>\n",
       "      <th>Azteca Flour Tortillas</th>\n",
       "      <th>BREAKSTONE'S Sour Cream</th>\n",
       "      <th>...</th>\n",
       "      <th>yoghurt</th>\n",
       "      <th>yolk</th>\n",
       "      <th>yu choy</th>\n",
       "      <th>yuca</th>\n",
       "      <th>yukon gold</th>\n",
       "      <th>za'atar</th>\n",
       "      <th>zest</th>\n",
       "      <th>zinfandel</th>\n",
       "      <th>ziti</th>\n",
       "      <th>zucchini</th>\n",
       "    </tr>\n",
       "  </thead>\n",
       "  <tbody>\n",
       "    <tr>\n",
       "      <th>0</th>\n",
       "      <td>15</td>\n",
       "      <td>0</td>\n",
       "      <td>0</td>\n",
       "      <td>0</td>\n",
       "      <td>0</td>\n",
       "      <td>0</td>\n",
       "      <td>0</td>\n",
       "      <td>0</td>\n",
       "      <td>0</td>\n",
       "      <td>0</td>\n",
       "      <td>...</td>\n",
       "      <td>0</td>\n",
       "      <td>0</td>\n",
       "      <td>0</td>\n",
       "      <td>0</td>\n",
       "      <td>0</td>\n",
       "      <td>0</td>\n",
       "      <td>0</td>\n",
       "      <td>0</td>\n",
       "      <td>0</td>\n",
       "      <td>0</td>\n",
       "    </tr>\n",
       "    <tr>\n",
       "      <th>1</th>\n",
       "      <td>30</td>\n",
       "      <td>2</td>\n",
       "      <td>0</td>\n",
       "      <td>0</td>\n",
       "      <td>0</td>\n",
       "      <td>0</td>\n",
       "      <td>0</td>\n",
       "      <td>0</td>\n",
       "      <td>0</td>\n",
       "      <td>0</td>\n",
       "      <td>...</td>\n",
       "      <td>0</td>\n",
       "      <td>0</td>\n",
       "      <td>0</td>\n",
       "      <td>0</td>\n",
       "      <td>0</td>\n",
       "      <td>0</td>\n",
       "      <td>0</td>\n",
       "      <td>0</td>\n",
       "      <td>0</td>\n",
       "      <td>0</td>\n",
       "    </tr>\n",
       "    <tr>\n",
       "      <th>2</th>\n",
       "      <td>16</td>\n",
       "      <td>1</td>\n",
       "      <td>0</td>\n",
       "      <td>0</td>\n",
       "      <td>0</td>\n",
       "      <td>0</td>\n",
       "      <td>0</td>\n",
       "      <td>0</td>\n",
       "      <td>0</td>\n",
       "      <td>0</td>\n",
       "      <td>...</td>\n",
       "      <td>0</td>\n",
       "      <td>0</td>\n",
       "      <td>0</td>\n",
       "      <td>0</td>\n",
       "      <td>0</td>\n",
       "      <td>0</td>\n",
       "      <td>0</td>\n",
       "      <td>0</td>\n",
       "      <td>0</td>\n",
       "      <td>0</td>\n",
       "    </tr>\n",
       "    <tr>\n",
       "      <th>3</th>\n",
       "      <td>18</td>\n",
       "      <td>2</td>\n",
       "      <td>0</td>\n",
       "      <td>0</td>\n",
       "      <td>0</td>\n",
       "      <td>0</td>\n",
       "      <td>0</td>\n",
       "      <td>0</td>\n",
       "      <td>0</td>\n",
       "      <td>0</td>\n",
       "      <td>...</td>\n",
       "      <td>0</td>\n",
       "      <td>0</td>\n",
       "      <td>0</td>\n",
       "      <td>0</td>\n",
       "      <td>0</td>\n",
       "      <td>0</td>\n",
       "      <td>0</td>\n",
       "      <td>0</td>\n",
       "      <td>0</td>\n",
       "      <td>0</td>\n",
       "    </tr>\n",
       "    <tr>\n",
       "      <th>4</th>\n",
       "      <td>80</td>\n",
       "      <td>2</td>\n",
       "      <td>0</td>\n",
       "      <td>0</td>\n",
       "      <td>0</td>\n",
       "      <td>0</td>\n",
       "      <td>0</td>\n",
       "      <td>0</td>\n",
       "      <td>0</td>\n",
       "      <td>0</td>\n",
       "      <td>...</td>\n",
       "      <td>0</td>\n",
       "      <td>0</td>\n",
       "      <td>0</td>\n",
       "      <td>0</td>\n",
       "      <td>0</td>\n",
       "      <td>0</td>\n",
       "      <td>0</td>\n",
       "      <td>0</td>\n",
       "      <td>0</td>\n",
       "      <td>0</td>\n",
       "    </tr>\n",
       "    <tr>\n",
       "      <th>...</th>\n",
       "      <td>...</td>\n",
       "      <td>...</td>\n",
       "      <td>...</td>\n",
       "      <td>...</td>\n",
       "      <td>...</td>\n",
       "      <td>...</td>\n",
       "      <td>...</td>\n",
       "      <td>...</td>\n",
       "      <td>...</td>\n",
       "      <td>...</td>\n",
       "      <td>...</td>\n",
       "      <td>...</td>\n",
       "      <td>...</td>\n",
       "      <td>...</td>\n",
       "      <td>...</td>\n",
       "      <td>...</td>\n",
       "      <td>...</td>\n",
       "      <td>...</td>\n",
       "      <td>...</td>\n",
       "      <td>...</td>\n",
       "      <td>...</td>\n",
       "    </tr>\n",
       "    <tr>\n",
       "      <th>16944</th>\n",
       "      <td>447273</td>\n",
       "      <td>1</td>\n",
       "      <td>0</td>\n",
       "      <td>0</td>\n",
       "      <td>0</td>\n",
       "      <td>0</td>\n",
       "      <td>0</td>\n",
       "      <td>0</td>\n",
       "      <td>0</td>\n",
       "      <td>0</td>\n",
       "      <td>...</td>\n",
       "      <td>0</td>\n",
       "      <td>0</td>\n",
       "      <td>0</td>\n",
       "      <td>0</td>\n",
       "      <td>0</td>\n",
       "      <td>0</td>\n",
       "      <td>0</td>\n",
       "      <td>0</td>\n",
       "      <td>0</td>\n",
       "      <td>0</td>\n",
       "    </tr>\n",
       "    <tr>\n",
       "      <th>16945</th>\n",
       "      <td>447363</td>\n",
       "      <td>0</td>\n",
       "      <td>0</td>\n",
       "      <td>0</td>\n",
       "      <td>0</td>\n",
       "      <td>0</td>\n",
       "      <td>0</td>\n",
       "      <td>0</td>\n",
       "      <td>0</td>\n",
       "      <td>0</td>\n",
       "      <td>...</td>\n",
       "      <td>0</td>\n",
       "      <td>0</td>\n",
       "      <td>0</td>\n",
       "      <td>0</td>\n",
       "      <td>0</td>\n",
       "      <td>0</td>\n",
       "      <td>0</td>\n",
       "      <td>0</td>\n",
       "      <td>0</td>\n",
       "      <td>0</td>\n",
       "    </tr>\n",
       "    <tr>\n",
       "      <th>16946</th>\n",
       "      <td>347956</td>\n",
       "      <td>1</td>\n",
       "      <td>0</td>\n",
       "      <td>0</td>\n",
       "      <td>0</td>\n",
       "      <td>0</td>\n",
       "      <td>0</td>\n",
       "      <td>0</td>\n",
       "      <td>0</td>\n",
       "      <td>0</td>\n",
       "      <td>...</td>\n",
       "      <td>0</td>\n",
       "      <td>0</td>\n",
       "      <td>0</td>\n",
       "      <td>0</td>\n",
       "      <td>0</td>\n",
       "      <td>0</td>\n",
       "      <td>0</td>\n",
       "      <td>0</td>\n",
       "      <td>0</td>\n",
       "      <td>0</td>\n",
       "    </tr>\n",
       "    <tr>\n",
       "      <th>16947</th>\n",
       "      <td>347963</td>\n",
       "      <td>0</td>\n",
       "      <td>0</td>\n",
       "      <td>0</td>\n",
       "      <td>0</td>\n",
       "      <td>0</td>\n",
       "      <td>0</td>\n",
       "      <td>0</td>\n",
       "      <td>0</td>\n",
       "      <td>0</td>\n",
       "      <td>...</td>\n",
       "      <td>0</td>\n",
       "      <td>0</td>\n",
       "      <td>0</td>\n",
       "      <td>0</td>\n",
       "      <td>0</td>\n",
       "      <td>0</td>\n",
       "      <td>0</td>\n",
       "      <td>0</td>\n",
       "      <td>0</td>\n",
       "      <td>0</td>\n",
       "    </tr>\n",
       "    <tr>\n",
       "      <th>16948</th>\n",
       "      <td>994340</td>\n",
       "      <td>0</td>\n",
       "      <td>0</td>\n",
       "      <td>0</td>\n",
       "      <td>0</td>\n",
       "      <td>0</td>\n",
       "      <td>0</td>\n",
       "      <td>0</td>\n",
       "      <td>0</td>\n",
       "      <td>0</td>\n",
       "      <td>...</td>\n",
       "      <td>0</td>\n",
       "      <td>0</td>\n",
       "      <td>0</td>\n",
       "      <td>0</td>\n",
       "      <td>0</td>\n",
       "      <td>0</td>\n",
       "      <td>0</td>\n",
       "      <td>0</td>\n",
       "      <td>0</td>\n",
       "      <td>0</td>\n",
       "    </tr>\n",
       "  </tbody>\n",
       "</table>\n",
       "<p>16949 rows × 1408 columns</p>\n",
       "</div>"
      ],
      "text/plain": [
       "       ID_recipe cuisine  7 Up  Adobo All Purpose Seasoning  Amaretti Cookies  \\\n",
       "0             15       0     0                            0                 0   \n",
       "1             30       2     0                            0                 0   \n",
       "2             16       1     0                            0                 0   \n",
       "3             18       2     0                            0                 0   \n",
       "4             80       2     0                            0                 0   \n",
       "...          ...     ...   ...                          ...               ...   \n",
       "16944     447273       1     0                            0                 0   \n",
       "16945     447363       0     0                            0                 0   \n",
       "16946     347956       1     0                            0                 0   \n",
       "16947     347963       0     0                            0                 0   \n",
       "16948     994340       0     0                            0                 0   \n",
       "\n",
       "       Anaheim chile  Angostura bitters  Argo Corn Starch  \\\n",
       "0                  0                  0                 0   \n",
       "1                  0                  0                 0   \n",
       "2                  0                  0                 0   \n",
       "3                  0                  0                 0   \n",
       "4                  0                  0                 0   \n",
       "...              ...                ...               ...   \n",
       "16944              0                  0                 0   \n",
       "16945              0                  0                 0   \n",
       "16946              0                  0                 0   \n",
       "16947              0                  0                 0   \n",
       "16948              0                  0                 0   \n",
       "\n",
       "       Azteca Flour Tortillas  BREAKSTONE'S Sour Cream  ...  yoghurt  yolk  \\\n",
       "0                           0                        0  ...        0     0   \n",
       "1                           0                        0  ...        0     0   \n",
       "2                           0                        0  ...        0     0   \n",
       "3                           0                        0  ...        0     0   \n",
       "4                           0                        0  ...        0     0   \n",
       "...                       ...                      ...  ...      ...   ...   \n",
       "16944                       0                        0  ...        0     0   \n",
       "16945                       0                        0  ...        0     0   \n",
       "16946                       0                        0  ...        0     0   \n",
       "16947                       0                        0  ...        0     0   \n",
       "16948                       0                        0  ...        0     0   \n",
       "\n",
       "       yu choy  yuca  yukon gold  za'atar  zest  zinfandel  ziti  zucchini  \n",
       "0            0     0           0        0     0          0     0         0  \n",
       "1            0     0           0        0     0          0     0         0  \n",
       "2            0     0           0        0     0          0     0         0  \n",
       "3            0     0           0        0     0          0     0         0  \n",
       "4            0     0           0        0     0          0     0         0  \n",
       "...        ...   ...         ...      ...   ...        ...   ...       ...  \n",
       "16944        0     0           0        0     0          0     0         0  \n",
       "16945        0     0           0        0     0          0     0         0  \n",
       "16946        0     0           0        0     0          0     0         0  \n",
       "16947        0     0           0        0     0          0     0         0  \n",
       "16948        0     0           0        0     0          0     0         0  \n",
       "\n",
       "[16949 rows x 1408 columns]"
      ]
     },
     "execution_count": 66,
     "metadata": {},
     "output_type": "execute_result"
    }
   ],
   "source": [
    "Kdf_1"
   ]
  },
  {
   "cell_type": "code",
   "execution_count": 67,
   "id": "a7c25d0f",
   "metadata": {
    "hidden": true,
    "scrolled": true
   },
   "outputs": [
    {
     "data": {
      "text/plain": [
       "ID_recipe                      int64\n",
       "cuisine                        int64\n",
       "7 Up                           int64\n",
       "Adobo All Purpose Seasoning    int64\n",
       "Amaretti Cookies               int64\n",
       "                               ...  \n",
       "za'atar                        int64\n",
       "zest                           int64\n",
       "zinfandel                      int64\n",
       "ziti                           int64\n",
       "zucchini                       int64\n",
       "Length: 1408, dtype: object"
      ]
     },
     "execution_count": 67,
     "metadata": {},
     "output_type": "execute_result"
    }
   ],
   "source": [
    "Kdf_1.astype({'cuisine': 'int64'}).dtypes"
   ]
  },
  {
   "cell_type": "markdown",
   "id": "3cb3af60",
   "metadata": {
    "hidden": true
   },
   "source": [
    " "
   ]
  },
  {
   "cell_type": "markdown",
   "id": "2633aa37",
   "metadata": {
    "hidden": true
   },
   "source": [
    " "
   ]
  },
  {
   "cell_type": "markdown",
   "id": "c70e0c3b",
   "metadata": {
    "hidden": true
   },
   "source": [
    " "
   ]
  },
  {
   "cell_type": "markdown",
   "id": "f9f91334",
   "metadata": {
    "hidden": true
   },
   "source": [
    "**Choose appropriate parameters (features and labels)**"
   ]
  },
  {
   "cell_type": "markdown",
   "id": "2ccb87eb",
   "metadata": {
    "hidden": true
   },
   "source": [
    "We study the most common ingredients per country cuisine (it,mex,chi) to start the classification based on them.\n",
    "\n",
    "\n",
    "*Parameter for country cuisine italian*\n"
   ]
  },
  {
   "cell_type": "code",
   "execution_count": 68,
   "id": "a6c623ce",
   "metadata": {
    "hidden": true
   },
   "outputs": [],
   "source": [
    "Kdf_4 = df.loc[df['cuisine'].isin(['italian'])]"
   ]
  },
  {
   "cell_type": "code",
   "execution_count": 69,
   "id": "517727b5",
   "metadata": {
    "hidden": true,
    "scrolled": false
   },
   "outputs": [
    {
     "data": {
      "text/html": [
       "<div>\n",
       "<style scoped>\n",
       "    .dataframe tbody tr th:only-of-type {\n",
       "        vertical-align: middle;\n",
       "    }\n",
       "\n",
       "    .dataframe tbody tr th {\n",
       "        vertical-align: top;\n",
       "    }\n",
       "\n",
       "    .dataframe thead th {\n",
       "        text-align: right;\n",
       "    }\n",
       "</style>\n",
       "<table border=\"1\" class=\"dataframe\">\n",
       "  <thead>\n",
       "    <tr style=\"text-align: right;\">\n",
       "      <th></th>\n",
       "      <th>ID_recipe</th>\n",
       "      <th>cuisine</th>\n",
       "      <th>ingredients</th>\n",
       "    </tr>\n",
       "  </thead>\n",
       "  <tbody>\n",
       "    <tr>\n",
       "      <th>81</th>\n",
       "      <td>3735</td>\n",
       "      <td>italian</td>\n",
       "      <td>sugar</td>\n",
       "    </tr>\n",
       "    <tr>\n",
       "      <th>82</th>\n",
       "      <td>3735</td>\n",
       "      <td>italian</td>\n",
       "      <td>nuts</td>\n",
       "    </tr>\n",
       "    <tr>\n",
       "      <th>83</th>\n",
       "      <td>3735</td>\n",
       "      <td>italian</td>\n",
       "      <td>white almond bark</td>\n",
       "    </tr>\n",
       "    <tr>\n",
       "      <th>84</th>\n",
       "      <td>3735</td>\n",
       "      <td>italian</td>\n",
       "      <td>flour</td>\n",
       "    </tr>\n",
       "    <tr>\n",
       "      <th>85</th>\n",
       "      <td>3735</td>\n",
       "      <td>italian</td>\n",
       "      <td>vanilla</td>\n",
       "    </tr>\n",
       "    <tr>\n",
       "      <th>...</th>\n",
       "      <td>...</td>\n",
       "      <td>...</td>\n",
       "      <td>...</td>\n",
       "    </tr>\n",
       "    <tr>\n",
       "      <th>428225</th>\n",
       "      <td>11462</td>\n",
       "      <td>italian</td>\n",
       "      <td>broccoli</td>\n",
       "    </tr>\n",
       "    <tr>\n",
       "      <th>428226</th>\n",
       "      <td>11462</td>\n",
       "      <td>italian</td>\n",
       "      <td>rotini</td>\n",
       "    </tr>\n",
       "    <tr>\n",
       "      <th>428227</th>\n",
       "      <td>11462</td>\n",
       "      <td>italian</td>\n",
       "      <td>olives</td>\n",
       "    </tr>\n",
       "    <tr>\n",
       "      <th>428228</th>\n",
       "      <td>11462</td>\n",
       "      <td>italian</td>\n",
       "      <td>Kraft Grated Parmesan Cheese</td>\n",
       "    </tr>\n",
       "    <tr>\n",
       "      <th>428229</th>\n",
       "      <td>11462</td>\n",
       "      <td>italian</td>\n",
       "      <td>pepper</td>\n",
       "    </tr>\n",
       "  </tbody>\n",
       "</table>\n",
       "<p>72091 rows × 3 columns</p>\n",
       "</div>"
      ],
      "text/plain": [
       "        ID_recipe  cuisine                   ingredients\n",
       "81           3735  italian                         sugar\n",
       "82           3735  italian                          nuts\n",
       "83           3735  italian             white almond bark\n",
       "84           3735  italian                         flour\n",
       "85           3735  italian                       vanilla\n",
       "...           ...      ...                           ...\n",
       "428225      11462  italian                      broccoli\n",
       "428226      11462  italian                        rotini\n",
       "428227      11462  italian                        olives\n",
       "428228      11462  italian  Kraft Grated Parmesan Cheese\n",
       "428229      11462  italian                        pepper\n",
       "\n",
       "[72091 rows x 3 columns]"
      ]
     },
     "execution_count": 69,
     "metadata": {},
     "output_type": "execute_result"
    }
   ],
   "source": [
    "Kdf_4"
   ]
  },
  {
   "cell_type": "code",
   "execution_count": 70,
   "id": "7b082b53",
   "metadata": {
    "hidden": true
   },
   "outputs": [
    {
     "data": {
      "text/html": [
       "<div>\n",
       "<style scoped>\n",
       "    .dataframe tbody tr th:only-of-type {\n",
       "        vertical-align: middle;\n",
       "    }\n",
       "\n",
       "    .dataframe tbody tr th {\n",
       "        vertical-align: top;\n",
       "    }\n",
       "\n",
       "    .dataframe thead th {\n",
       "        text-align: right;\n",
       "    }\n",
       "</style>\n",
       "<table border=\"1\" class=\"dataframe\">\n",
       "  <thead>\n",
       "    <tr style=\"text-align: right;\">\n",
       "      <th></th>\n",
       "      <th>count</th>\n",
       "    </tr>\n",
       "    <tr>\n",
       "      <th>ingredients</th>\n",
       "      <th></th>\n",
       "    </tr>\n",
       "  </thead>\n",
       "  <tbody>\n",
       "    <tr>\n",
       "      <th>salt</th>\n",
       "      <td>4906</td>\n",
       "    </tr>\n",
       "    <tr>\n",
       "      <th>oil</th>\n",
       "      <td>4849</td>\n",
       "    </tr>\n",
       "    <tr>\n",
       "      <th>pepper</th>\n",
       "      <td>4563</td>\n",
       "    </tr>\n",
       "    <tr>\n",
       "      <th>cheese</th>\n",
       "      <td>4143</td>\n",
       "    </tr>\n",
       "    <tr>\n",
       "      <th>garlic</th>\n",
       "      <td>3997</td>\n",
       "    </tr>\n",
       "    <tr>\n",
       "      <th>tomatoes</th>\n",
       "      <td>2362</td>\n",
       "    </tr>\n",
       "    <tr>\n",
       "      <th>basil</th>\n",
       "      <td>1864</td>\n",
       "    </tr>\n",
       "    <tr>\n",
       "      <th>parsley</th>\n",
       "      <td>1704</td>\n",
       "    </tr>\n",
       "    <tr>\n",
       "      <th>onions</th>\n",
       "      <td>1479</td>\n",
       "    </tr>\n",
       "    <tr>\n",
       "      <th>water</th>\n",
       "      <td>1452</td>\n",
       "    </tr>\n",
       "    <tr>\n",
       "      <th>chicken</th>\n",
       "      <td>1448</td>\n",
       "    </tr>\n",
       "    <tr>\n",
       "      <th>flour</th>\n",
       "      <td>1286</td>\n",
       "    </tr>\n",
       "    <tr>\n",
       "      <th>eggs</th>\n",
       "      <td>1259</td>\n",
       "    </tr>\n",
       "    <tr>\n",
       "      <th>wine</th>\n",
       "      <td>1257</td>\n",
       "    </tr>\n",
       "    <tr>\n",
       "      <th>sauce</th>\n",
       "      <td>1226</td>\n",
       "    </tr>\n",
       "    <tr>\n",
       "      <th>sugar</th>\n",
       "      <td>1221</td>\n",
       "    </tr>\n",
       "    <tr>\n",
       "      <th>lemon</th>\n",
       "      <td>1164</td>\n",
       "    </tr>\n",
       "    <tr>\n",
       "      <th>butter</th>\n",
       "      <td>1162</td>\n",
       "    </tr>\n",
       "    <tr>\n",
       "      <th>oregano</th>\n",
       "      <td>966</td>\n",
       "    </tr>\n",
       "    <tr>\n",
       "      <th>bread</th>\n",
       "      <td>871</td>\n",
       "    </tr>\n",
       "  </tbody>\n",
       "</table>\n",
       "</div>"
      ],
      "text/plain": [
       "             count\n",
       "ingredients       \n",
       "salt          4906\n",
       "oil           4849\n",
       "pepper        4563\n",
       "cheese        4143\n",
       "garlic        3997\n",
       "tomatoes      2362\n",
       "basil         1864\n",
       "parsley       1704\n",
       "onions        1479\n",
       "water         1452\n",
       "chicken       1448\n",
       "flour         1286\n",
       "eggs          1259\n",
       "wine          1257\n",
       "sauce         1226\n",
       "sugar         1221\n",
       "lemon         1164\n",
       "butter        1162\n",
       "oregano        966\n",
       "bread          871"
      ]
     },
     "execution_count": 70,
     "metadata": {},
     "output_type": "execute_result"
    }
   ],
   "source": [
    "#print most common ingredients in the recipes for country cuisine italian.\n",
    "quantities_ingredients_Kdf_4 = Kdf_4.groupby('ingredients').agg(count=('ingredients', len)) # Häufigkeiten der einzelnen Zutaten\n",
    "quantities_ingredients_Kdf_4.sort_values(by=['count'], inplace=True, ascending=False) # use inplace to prevent copying whole dataset\n",
    "quantities_ingredients_Kdf_4.head(20)"
   ]
  },
  {
   "cell_type": "markdown",
   "id": "ba3f7452",
   "metadata": {
    "hidden": true
   },
   "source": [
    "--> choose \"tomatoes\", \"basil\" and \"parsley\" as features for classification"
   ]
  },
  {
   "cell_type": "markdown",
   "id": "8ea241c1",
   "metadata": {
    "hidden": true
   },
   "source": [
    " "
   ]
  },
  {
   "cell_type": "markdown",
   "id": "e8b3f431",
   "metadata": {
    "hidden": true
   },
   "source": [
    "*Parameter for country cuisine mexican*"
   ]
  },
  {
   "cell_type": "code",
   "execution_count": 71,
   "id": "c09c5263",
   "metadata": {
    "hidden": true
   },
   "outputs": [],
   "source": [
    "Kdf_5 = df.loc[df['cuisine'].isin(['mexican'])]\n",
    "quantities_ingredients_Kdf_5 = Kdf_5.groupby('ingredients').agg(count=('ingredients', len)) # Häufigkeiten der einzelnen Zutaten\n",
    "quantities_ingredients_Kdf_5.sort_values(by=['count'], inplace=True, ascending=False) # use inplace to prevent copying whole dataset\n",
    "#print(quantities_ingredients_Kdf_5.head(20))"
   ]
  },
  {
   "cell_type": "markdown",
   "id": "c7fde7bf",
   "metadata": {
    "hidden": true
   },
   "source": [
    "--> choose \"cilantro\", \"chili\", and \"corn\" for classification"
   ]
  },
  {
   "cell_type": "markdown",
   "id": "104ed694",
   "metadata": {
    "hidden": true
   },
   "source": [
    " "
   ]
  },
  {
   "cell_type": "markdown",
   "id": "aa192f90",
   "metadata": {
    "hidden": true
   },
   "source": [
    "*Parameter for country cuisine chinese*"
   ]
  },
  {
   "cell_type": "code",
   "execution_count": 72,
   "id": "d4fddb81",
   "metadata": {
    "hidden": true
   },
   "outputs": [],
   "source": [
    "Kdf_6 = df.loc[df['cuisine'].isin(['chinese'])]\n",
    "quantities_ingredients_Kdf_6 = Kdf_6.groupby('ingredients').agg(count=('ingredients', len)) # Häufigkeiten der einzelnen Zutaten\n",
    "quantities_ingredients_Kdf_6.sort_values(by=['count'], inplace=True, ascending=False) # use inplace to prevent copying whole dataset\n",
    "#print(quantities_ingredients_Kdf_6.head(20))"
   ]
  },
  {
   "cell_type": "markdown",
   "id": "4d2d78ab",
   "metadata": {
    "hidden": true
   },
   "source": [
    "--> choose \"ice\", \"sauce\" and \"scallions\" for classification"
   ]
  },
  {
   "cell_type": "code",
   "execution_count": 73,
   "id": "cc560cf6",
   "metadata": {
    "hidden": true
   },
   "outputs": [],
   "source": [
    "Kdf_3 = Kdf_1[['ID_recipe','cuisine','tomatoes','basil','parsley','wine','cilantro','chili','corn','ice','sauce','scallions']]"
   ]
  },
  {
   "cell_type": "code",
   "execution_count": 74,
   "id": "6866d1e6",
   "metadata": {
    "hidden": true,
    "scrolled": false
   },
   "outputs": [
    {
     "data": {
      "text/html": [
       "<div>\n",
       "<style scoped>\n",
       "    .dataframe tbody tr th:only-of-type {\n",
       "        vertical-align: middle;\n",
       "    }\n",
       "\n",
       "    .dataframe tbody tr th {\n",
       "        vertical-align: top;\n",
       "    }\n",
       "\n",
       "    .dataframe thead th {\n",
       "        text-align: right;\n",
       "    }\n",
       "</style>\n",
       "<table border=\"1\" class=\"dataframe\">\n",
       "  <thead>\n",
       "    <tr style=\"text-align: right;\">\n",
       "      <th></th>\n",
       "      <th>ID_recipe</th>\n",
       "      <th>cuisine</th>\n",
       "      <th>tomatoes</th>\n",
       "      <th>basil</th>\n",
       "      <th>parsley</th>\n",
       "      <th>wine</th>\n",
       "      <th>cilantro</th>\n",
       "      <th>chili</th>\n",
       "      <th>corn</th>\n",
       "      <th>ice</th>\n",
       "      <th>sauce</th>\n",
       "      <th>scallions</th>\n",
       "    </tr>\n",
       "  </thead>\n",
       "  <tbody>\n",
       "    <tr>\n",
       "      <th>0</th>\n",
       "      <td>15</td>\n",
       "      <td>0</td>\n",
       "      <td>1</td>\n",
       "      <td>0</td>\n",
       "      <td>0</td>\n",
       "      <td>0</td>\n",
       "      <td>1</td>\n",
       "      <td>1</td>\n",
       "      <td>1</td>\n",
       "      <td>0</td>\n",
       "      <td>0</td>\n",
       "      <td>0</td>\n",
       "    </tr>\n",
       "    <tr>\n",
       "      <th>1</th>\n",
       "      <td>30</td>\n",
       "      <td>2</td>\n",
       "      <td>0</td>\n",
       "      <td>0</td>\n",
       "      <td>0</td>\n",
       "      <td>0</td>\n",
       "      <td>0</td>\n",
       "      <td>0</td>\n",
       "      <td>0</td>\n",
       "      <td>1</td>\n",
       "      <td>1</td>\n",
       "      <td>0</td>\n",
       "    </tr>\n",
       "    <tr>\n",
       "      <th>2</th>\n",
       "      <td>16</td>\n",
       "      <td>1</td>\n",
       "      <td>0</td>\n",
       "      <td>0</td>\n",
       "      <td>0</td>\n",
       "      <td>0</td>\n",
       "      <td>0</td>\n",
       "      <td>0</td>\n",
       "      <td>0</td>\n",
       "      <td>0</td>\n",
       "      <td>0</td>\n",
       "      <td>0</td>\n",
       "    </tr>\n",
       "    <tr>\n",
       "      <th>3</th>\n",
       "      <td>18</td>\n",
       "      <td>2</td>\n",
       "      <td>0</td>\n",
       "      <td>0</td>\n",
       "      <td>0</td>\n",
       "      <td>0</td>\n",
       "      <td>0</td>\n",
       "      <td>0</td>\n",
       "      <td>0</td>\n",
       "      <td>0</td>\n",
       "      <td>1</td>\n",
       "      <td>0</td>\n",
       "    </tr>\n",
       "    <tr>\n",
       "      <th>4</th>\n",
       "      <td>80</td>\n",
       "      <td>2</td>\n",
       "      <td>0</td>\n",
       "      <td>0</td>\n",
       "      <td>0</td>\n",
       "      <td>0</td>\n",
       "      <td>0</td>\n",
       "      <td>0</td>\n",
       "      <td>1</td>\n",
       "      <td>1</td>\n",
       "      <td>1</td>\n",
       "      <td>0</td>\n",
       "    </tr>\n",
       "    <tr>\n",
       "      <th>...</th>\n",
       "      <td>...</td>\n",
       "      <td>...</td>\n",
       "      <td>...</td>\n",
       "      <td>...</td>\n",
       "      <td>...</td>\n",
       "      <td>...</td>\n",
       "      <td>...</td>\n",
       "      <td>...</td>\n",
       "      <td>...</td>\n",
       "      <td>...</td>\n",
       "      <td>...</td>\n",
       "      <td>...</td>\n",
       "    </tr>\n",
       "    <tr>\n",
       "      <th>16944</th>\n",
       "      <td>447273</td>\n",
       "      <td>1</td>\n",
       "      <td>0</td>\n",
       "      <td>0</td>\n",
       "      <td>0</td>\n",
       "      <td>0</td>\n",
       "      <td>0</td>\n",
       "      <td>0</td>\n",
       "      <td>0</td>\n",
       "      <td>0</td>\n",
       "      <td>0</td>\n",
       "      <td>0</td>\n",
       "    </tr>\n",
       "    <tr>\n",
       "      <th>16945</th>\n",
       "      <td>447363</td>\n",
       "      <td>0</td>\n",
       "      <td>0</td>\n",
       "      <td>0</td>\n",
       "      <td>0</td>\n",
       "      <td>0</td>\n",
       "      <td>0</td>\n",
       "      <td>0</td>\n",
       "      <td>0</td>\n",
       "      <td>0</td>\n",
       "      <td>0</td>\n",
       "      <td>0</td>\n",
       "    </tr>\n",
       "    <tr>\n",
       "      <th>16946</th>\n",
       "      <td>347956</td>\n",
       "      <td>1</td>\n",
       "      <td>0</td>\n",
       "      <td>0</td>\n",
       "      <td>0</td>\n",
       "      <td>0</td>\n",
       "      <td>0</td>\n",
       "      <td>0</td>\n",
       "      <td>0</td>\n",
       "      <td>0</td>\n",
       "      <td>0</td>\n",
       "      <td>0</td>\n",
       "    </tr>\n",
       "    <tr>\n",
       "      <th>16947</th>\n",
       "      <td>347963</td>\n",
       "      <td>0</td>\n",
       "      <td>1</td>\n",
       "      <td>1</td>\n",
       "      <td>0</td>\n",
       "      <td>0</td>\n",
       "      <td>0</td>\n",
       "      <td>0</td>\n",
       "      <td>0</td>\n",
       "      <td>0</td>\n",
       "      <td>0</td>\n",
       "      <td>0</td>\n",
       "    </tr>\n",
       "    <tr>\n",
       "      <th>16948</th>\n",
       "      <td>994340</td>\n",
       "      <td>0</td>\n",
       "      <td>1</td>\n",
       "      <td>0</td>\n",
       "      <td>0</td>\n",
       "      <td>0</td>\n",
       "      <td>1</td>\n",
       "      <td>1</td>\n",
       "      <td>0</td>\n",
       "      <td>0</td>\n",
       "      <td>1</td>\n",
       "      <td>0</td>\n",
       "    </tr>\n",
       "  </tbody>\n",
       "</table>\n",
       "<p>16949 rows × 12 columns</p>\n",
       "</div>"
      ],
      "text/plain": [
       "       ID_recipe cuisine  tomatoes  basil  parsley  wine  cilantro  chili  \\\n",
       "0             15       0         1      0        0     0         1      1   \n",
       "1             30       2         0      0        0     0         0      0   \n",
       "2             16       1         0      0        0     0         0      0   \n",
       "3             18       2         0      0        0     0         0      0   \n",
       "4             80       2         0      0        0     0         0      0   \n",
       "...          ...     ...       ...    ...      ...   ...       ...    ...   \n",
       "16944     447273       1         0      0        0     0         0      0   \n",
       "16945     447363       0         0      0        0     0         0      0   \n",
       "16946     347956       1         0      0        0     0         0      0   \n",
       "16947     347963       0         1      1        0     0         0      0   \n",
       "16948     994340       0         1      0        0     0         1      1   \n",
       "\n",
       "       corn  ice  sauce  scallions  \n",
       "0         1    0      0          0  \n",
       "1         0    1      1          0  \n",
       "2         0    0      0          0  \n",
       "3         0    0      1          0  \n",
       "4         1    1      1          0  \n",
       "...     ...  ...    ...        ...  \n",
       "16944     0    0      0          0  \n",
       "16945     0    0      0          0  \n",
       "16946     0    0      0          0  \n",
       "16947     0    0      0          0  \n",
       "16948     0    0      1          0  \n",
       "\n",
       "[16949 rows x 12 columns]"
      ]
     },
     "execution_count": 74,
     "metadata": {},
     "output_type": "execute_result"
    }
   ],
   "source": [
    "Kdf_3"
   ]
  },
  {
   "cell_type": "markdown",
   "id": "5af4d1cc",
   "metadata": {
    "hidden": true
   },
   "source": [
    " "
   ]
  },
  {
   "cell_type": "markdown",
   "id": "77432345",
   "metadata": {
    "hidden": true
   },
   "source": [
    " "
   ]
  },
  {
   "cell_type": "markdown",
   "id": "eae3837f",
   "metadata": {
    "hidden": true
   },
   "source": [
    "**Run Classification**"
   ]
  },
  {
   "cell_type": "markdown",
   "id": "0dd20951",
   "metadata": {
    "hidden": true
   },
   "source": [
    "**Logistic Regression**"
   ]
  },
  {
   "cell_type": "code",
   "execution_count": 75,
   "id": "99a41dc7",
   "metadata": {
    "hidden": true
   },
   "outputs": [],
   "source": [
    "from sklearn.linear_model import LogisticRegression\n",
    "from sklearn.model_selection import train_test_split"
   ]
  },
  {
   "cell_type": "code",
   "execution_count": 76,
   "id": "cdfb13c9",
   "metadata": {
    "hidden": true
   },
   "outputs": [],
   "source": [
    "Xs = Kdf_3[['tomatoes','basil','parsley','wine','cilantro','chili','corn','ice','sauce','scallions']]"
   ]
  },
  {
   "cell_type": "code",
   "execution_count": 77,
   "id": "3e72a770",
   "metadata": {
    "hidden": true
   },
   "outputs": [],
   "source": [
    "y = Kdf_3['cuisine']"
   ]
  },
  {
   "cell_type": "code",
   "execution_count": 78,
   "id": "f8e4c267",
   "metadata": {
    "hidden": true
   },
   "outputs": [],
   "source": [
    "X_train, X_test, y_train, y_test = train_test_split(Xs, y, train_size=0.75) "
   ]
  },
  {
   "cell_type": "markdown",
   "id": "e2fe7258",
   "metadata": {
    "hidden": true
   },
   "source": [
    " "
   ]
  },
  {
   "cell_type": "markdown",
   "id": "16bfa128",
   "metadata": {
    "hidden": true
   },
   "source": [
    "*Start Regression*"
   ]
  },
  {
   "cell_type": "code",
   "execution_count": 79,
   "id": "11a91cff",
   "metadata": {
    "hidden": true
   },
   "outputs": [
    {
     "data": {
      "text/plain": [
       "LogisticRegression()"
      ]
     },
     "execution_count": 79,
     "metadata": {},
     "output_type": "execute_result"
    }
   ],
   "source": [
    "model = LogisticRegression()\n",
    "model.fit(X_train, y_train)"
   ]
  },
  {
   "cell_type": "code",
   "execution_count": 80,
   "id": "dda48370",
   "metadata": {
    "hidden": true
   },
   "outputs": [],
   "source": [
    "y3 = model.predict(X_test)"
   ]
  },
  {
   "cell_type": "code",
   "execution_count": 81,
   "id": "5d5c7587",
   "metadata": {
    "hidden": true
   },
   "outputs": [
    {
     "data": {
      "text/plain": [
       "array(['0', '2', '0', ..., '1', '2', '0'], dtype=object)"
      ]
     },
     "execution_count": 81,
     "metadata": {},
     "output_type": "execute_result"
    }
   ],
   "source": [
    "y3 "
   ]
  },
  {
   "cell_type": "code",
   "execution_count": 82,
   "id": "2c585bea",
   "metadata": {
    "hidden": true
   },
   "outputs": [
    {
     "data": {
      "text/plain": [
       "15351    0\n",
       "4293     0\n",
       "16738    0\n",
       "14898    1\n",
       "4384     1\n",
       "        ..\n",
       "4999     1\n",
       "7558     2\n",
       "5642     1\n",
       "13730    0\n",
       "952      0\n",
       "Name: cuisine, Length: 4238, dtype: object"
      ]
     },
     "execution_count": 82,
     "metadata": {},
     "output_type": "execute_result"
    }
   ],
   "source": [
    "y_test"
   ]
  },
  {
   "cell_type": "code",
   "execution_count": 83,
   "id": "479661a9",
   "metadata": {
    "hidden": true
   },
   "outputs": [
    {
     "name": "stdout",
     "output_type": "stream",
     "text": [
      "0.8003775365738556\n",
      "\n",
      "The model score of our regression model is 80.04.\n"
     ]
    }
   ],
   "source": [
    "print(model.score(X_test, y_test)) #überprüfe Modellgüte; mache für jeden Test-DF vorhersage und überprüfe Outcome\n",
    "print(f'\\nThe model score of our regression model is {(model.score(X_test,y_test)*100).round(2)}.')"
   ]
  },
  {
   "cell_type": "markdown",
   "id": "edd532c4",
   "metadata": {
    "hidden": true
   },
   "source": [
    " "
   ]
  },
  {
   "cell_type": "markdown",
   "id": "ff095361",
   "metadata": {
    "hidden": true
   },
   "source": [
    " "
   ]
  },
  {
   "cell_type": "markdown",
   "id": "9a89b028",
   "metadata": {
    "hidden": true
   },
   "source": [
    " "
   ]
  },
  {
   "cell_type": "markdown",
   "id": "29d202ca",
   "metadata": {
    "hidden": true
   },
   "source": [
    "*Look at probabilities for classification*"
   ]
  },
  {
   "cell_type": "code",
   "execution_count": 84,
   "id": "eea6c160",
   "metadata": {
    "hidden": true
   },
   "outputs": [
    {
     "name": "stdout",
     "output_type": "stream",
     "text": [
      "['0' '1' '2']\n"
     ]
    },
    {
     "data": {
      "text/plain": [
       "array([[9.9908e-01, 8.0000e-04, 1.2000e-04],\n",
       "       [1.8856e-01, 3.9765e-01, 4.1379e-01],\n",
       "       [9.6590e-01, 3.2900e-02, 1.2000e-03],\n",
       "       ...,\n",
       "       [2.2640e-02, 9.7705e-01, 3.1000e-04],\n",
       "       [2.7560e-01, 8.0850e-02, 6.4355e-01],\n",
       "       [6.8306e-01, 2.2915e-01, 8.7800e-02]])"
      ]
     },
     "execution_count": 84,
     "metadata": {},
     "output_type": "execute_result"
    }
   ],
   "source": [
    "print(model.classes_) #classes\n",
    "model.predict_proba(X_test).round(5) #probability for classification into respective classes"
   ]
  },
  {
   "cell_type": "markdown",
   "id": "f6b1b908",
   "metadata": {
    "hidden": true
   },
   "source": [
    " \n"
   ]
  },
  {
   "cell_type": "markdown",
   "id": "dd632906",
   "metadata": {
    "hidden": true
   },
   "source": [
    " "
   ]
  },
  {
   "cell_type": "markdown",
   "id": "b96e97db",
   "metadata": {
    "hidden": true
   },
   "source": [
    " "
   ]
  },
  {
   "cell_type": "markdown",
   "id": "96cdc939",
   "metadata": {
    "hidden": true
   },
   "source": [
    "*Set up test recipe*"
   ]
  },
  {
   "cell_type": "code",
   "execution_count": 85,
   "id": "e66efc20",
   "metadata": {
    "hidden": true
   },
   "outputs": [
    {
     "data": {
      "text/html": [
       "<div>\n",
       "<style scoped>\n",
       "    .dataframe tbody tr th:only-of-type {\n",
       "        vertical-align: middle;\n",
       "    }\n",
       "\n",
       "    .dataframe tbody tr th {\n",
       "        vertical-align: top;\n",
       "    }\n",
       "\n",
       "    .dataframe thead th {\n",
       "        text-align: right;\n",
       "    }\n",
       "</style>\n",
       "<table border=\"1\" class=\"dataframe\">\n",
       "  <thead>\n",
       "    <tr style=\"text-align: right;\">\n",
       "      <th></th>\n",
       "      <th>tomatoes</th>\n",
       "      <th>basil</th>\n",
       "      <th>parsley</th>\n",
       "      <th>wine</th>\n",
       "      <th>cilantro</th>\n",
       "      <th>chili</th>\n",
       "      <th>corn</th>\n",
       "      <th>ice</th>\n",
       "      <th>sauce</th>\n",
       "      <th>scallions</th>\n",
       "    </tr>\n",
       "  </thead>\n",
       "  <tbody>\n",
       "    <tr>\n",
       "      <th>0</th>\n",
       "      <td>1</td>\n",
       "      <td>0</td>\n",
       "      <td>0</td>\n",
       "      <td>0</td>\n",
       "      <td>0</td>\n",
       "      <td>0</td>\n",
       "      <td>0</td>\n",
       "      <td>0</td>\n",
       "      <td>0</td>\n",
       "      <td>0</td>\n",
       "    </tr>\n",
       "  </tbody>\n",
       "</table>\n",
       "</div>"
      ],
      "text/plain": [
       "   tomatoes  basil  parsley  wine  cilantro  chili  corn  ice  sauce  \\\n",
       "0         1      0        0     0         0      0     0    0      0   \n",
       "\n",
       "   scallions  \n",
       "0          0  "
      ]
     },
     "execution_count": 85,
     "metadata": {},
     "output_type": "execute_result"
    }
   ],
   "source": [
    "X_pred = pd.DataFrame([[1, 0, 0, 0, 0, 0, 0, 0, 0, 0]], columns = ['tomatoes','basil','parsley','wine','cilantro','chili','corn','ice','sauce','scallions'])\n",
    "X_pred"
   ]
  },
  {
   "cell_type": "code",
   "execution_count": 86,
   "id": "df77b28f",
   "metadata": {
    "hidden": true,
    "scrolled": true
   },
   "outputs": [
    {
     "name": "stdout",
     "output_type": "stream",
     "text": [
      "['1']\n",
      "[[0.3694  0.62813 0.00247]]\n"
     ]
    }
   ],
   "source": [
    "print(model.predict(X_pred))\n",
    "print(model.predict_proba(X_pred).round(5))"
   ]
  },
  {
   "cell_type": "markdown",
   "id": "6df2b8b0",
   "metadata": {
    "hidden": true
   },
   "source": [
    " "
   ]
  },
  {
   "cell_type": "markdown",
   "id": "b762b481",
   "metadata": {
    "hidden": true
   },
   "source": [
    " "
   ]
  },
  {
   "cell_type": "markdown",
   "id": "9455d6e6",
   "metadata": {
    "hidden": true
   },
   "source": [
    " "
   ]
  },
  {
   "cell_type": "markdown",
   "id": "5453bc04",
   "metadata": {
    "hidden": true
   },
   "source": [
    "**Run regression for all country cuisines**"
   ]
  },
  {
   "cell_type": "markdown",
   "id": "ac661ea8",
   "metadata": {
    "hidden": true
   },
   "source": [
    " "
   ]
  },
  {
   "cell_type": "code",
   "execution_count": 87,
   "id": "c440ba5a",
   "metadata": {
    "hidden": true
   },
   "outputs": [],
   "source": [
    "Kdf_11 = df\n",
    "K1_ingr_dummies = pd.get_dummies(Kdf_11.ingredients)\n",
    "Kdf_11 = pd.concat([Kdf_11, K1_ingr_dummies], axis=1)"
   ]
  },
  {
   "cell_type": "code",
   "execution_count": 88,
   "id": "7f956df6",
   "metadata": {
    "hidden": true
   },
   "outputs": [],
   "source": [
    "Kdf_11.drop(['ingredients'], axis=1, inplace=True)\n"
   ]
  },
  {
   "cell_type": "code",
   "execution_count": 89,
   "id": "e3e4c760",
   "metadata": {
    "hidden": true
   },
   "outputs": [],
   "source": [
    "Kdf_11 = Kdf_11.groupby('ID_recipe', as_index=False).apply(lambda grp: grp.sum())"
   ]
  },
  {
   "cell_type": "code",
   "execution_count": 90,
   "id": "2a5aa8af",
   "metadata": {
    "hidden": true
   },
   "outputs": [],
   "source": [
    "countries = df[\"cuisine\"].unique()"
   ]
  },
  {
   "cell_type": "code",
   "execution_count": 91,
   "id": "8fb6d958",
   "metadata": {
    "hidden": true
   },
   "outputs": [
    {
     "data": {
      "text/plain": [
       "array(['greek', 'southern_us', 'filipino', 'indian', 'jamaican',\n",
       "       'spanish', 'italian', 'mexican', 'chinese', 'british', 'thai',\n",
       "       'vietnamese', 'cajun_creole', 'brazilian', 'french', 'japanese',\n",
       "       'irish', 'korean', 'moroccan', 'russian'], dtype=object)"
      ]
     },
     "execution_count": 91,
     "metadata": {},
     "output_type": "execute_result"
    }
   ],
   "source": [
    "countries"
   ]
  },
  {
   "cell_type": "code",
   "execution_count": 92,
   "id": "58205866",
   "metadata": {
    "hidden": true
   },
   "outputs": [
    {
     "data": {
      "text/plain": [
       "(39774, 2275)"
      ]
     },
     "execution_count": 92,
     "metadata": {},
     "output_type": "execute_result"
    }
   ],
   "source": [
    "Kdf_11.shape"
   ]
  },
  {
   "cell_type": "code",
   "execution_count": 93,
   "id": "9d1c0ba8",
   "metadata": {
    "hidden": true
   },
   "outputs": [],
   "source": [
    "for idx, name in enumerate(countries):\n",
    "     Kdf_11.loc[Kdf_11['cuisine'].str.contains(name), 'cuisine'] = str(idx)"
   ]
  },
  {
   "cell_type": "code",
   "execution_count": 94,
   "id": "be847414",
   "metadata": {
    "hidden": true
   },
   "outputs": [
    {
     "data": {
      "text/html": [
       "<div>\n",
       "<style scoped>\n",
       "    .dataframe tbody tr th:only-of-type {\n",
       "        vertical-align: middle;\n",
       "    }\n",
       "\n",
       "    .dataframe tbody tr th {\n",
       "        vertical-align: top;\n",
       "    }\n",
       "\n",
       "    .dataframe thead th {\n",
       "        text-align: right;\n",
       "    }\n",
       "</style>\n",
       "<table border=\"1\" class=\"dataframe\">\n",
       "  <thead>\n",
       "    <tr style=\"text-align: right;\">\n",
       "      <th></th>\n",
       "      <th>ID_recipe</th>\n",
       "      <th>cuisine</th>\n",
       "      <th>7 Up</th>\n",
       "      <th>Accent Seasoning</th>\n",
       "      <th>Adobo All Purpose Seasoning</th>\n",
       "      <th>Alexia Waffle Fries</th>\n",
       "      <th>Amaretti Cookies</th>\n",
       "      <th>Anaheim chile</th>\n",
       "      <th>Angostura bitters</th>\n",
       "      <th>Argo Corn Starch</th>\n",
       "      <th>...</th>\n",
       "      <th>yuca</th>\n",
       "      <th>yucca</th>\n",
       "      <th>yucca root</th>\n",
       "      <th>yukon gold</th>\n",
       "      <th>yuzu</th>\n",
       "      <th>za'atar</th>\n",
       "      <th>zest</th>\n",
       "      <th>zinfandel</th>\n",
       "      <th>ziti</th>\n",
       "      <th>zucchini</th>\n",
       "    </tr>\n",
       "  </thead>\n",
       "  <tbody>\n",
       "    <tr>\n",
       "      <th>0</th>\n",
       "      <td>0</td>\n",
       "      <td>5</td>\n",
       "      <td>0</td>\n",
       "      <td>0</td>\n",
       "      <td>0</td>\n",
       "      <td>0</td>\n",
       "      <td>0</td>\n",
       "      <td>0</td>\n",
       "      <td>0</td>\n",
       "      <td>0</td>\n",
       "      <td>...</td>\n",
       "      <td>0</td>\n",
       "      <td>0</td>\n",
       "      <td>0</td>\n",
       "      <td>0</td>\n",
       "      <td>0</td>\n",
       "      <td>0</td>\n",
       "      <td>0</td>\n",
       "      <td>0</td>\n",
       "      <td>0</td>\n",
       "      <td>0</td>\n",
       "    </tr>\n",
       "    <tr>\n",
       "      <th>1</th>\n",
       "      <td>15</td>\n",
       "      <td>7</td>\n",
       "      <td>0</td>\n",
       "      <td>0</td>\n",
       "      <td>0</td>\n",
       "      <td>0</td>\n",
       "      <td>0</td>\n",
       "      <td>0</td>\n",
       "      <td>0</td>\n",
       "      <td>0</td>\n",
       "      <td>...</td>\n",
       "      <td>0</td>\n",
       "      <td>0</td>\n",
       "      <td>0</td>\n",
       "      <td>0</td>\n",
       "      <td>0</td>\n",
       "      <td>0</td>\n",
       "      <td>0</td>\n",
       "      <td>0</td>\n",
       "      <td>0</td>\n",
       "      <td>0</td>\n",
       "    </tr>\n",
       "    <tr>\n",
       "      <th>2</th>\n",
       "      <td>36</td>\n",
       "      <td>14</td>\n",
       "      <td>0</td>\n",
       "      <td>0</td>\n",
       "      <td>0</td>\n",
       "      <td>0</td>\n",
       "      <td>0</td>\n",
       "      <td>0</td>\n",
       "      <td>0</td>\n",
       "      <td>0</td>\n",
       "      <td>...</td>\n",
       "      <td>0</td>\n",
       "      <td>0</td>\n",
       "      <td>0</td>\n",
       "      <td>0</td>\n",
       "      <td>0</td>\n",
       "      <td>0</td>\n",
       "      <td>0</td>\n",
       "      <td>0</td>\n",
       "      <td>0</td>\n",
       "      <td>0</td>\n",
       "    </tr>\n",
       "    <tr>\n",
       "      <th>3</th>\n",
       "      <td>30</td>\n",
       "      <td>8</td>\n",
       "      <td>0</td>\n",
       "      <td>0</td>\n",
       "      <td>0</td>\n",
       "      <td>0</td>\n",
       "      <td>0</td>\n",
       "      <td>0</td>\n",
       "      <td>0</td>\n",
       "      <td>0</td>\n",
       "      <td>...</td>\n",
       "      <td>0</td>\n",
       "      <td>0</td>\n",
       "      <td>0</td>\n",
       "      <td>0</td>\n",
       "      <td>0</td>\n",
       "      <td>0</td>\n",
       "      <td>0</td>\n",
       "      <td>0</td>\n",
       "      <td>0</td>\n",
       "      <td>0</td>\n",
       "    </tr>\n",
       "    <tr>\n",
       "      <th>4</th>\n",
       "      <td>16</td>\n",
       "      <td>6</td>\n",
       "      <td>0</td>\n",
       "      <td>0</td>\n",
       "      <td>0</td>\n",
       "      <td>0</td>\n",
       "      <td>0</td>\n",
       "      <td>0</td>\n",
       "      <td>0</td>\n",
       "      <td>0</td>\n",
       "      <td>...</td>\n",
       "      <td>0</td>\n",
       "      <td>0</td>\n",
       "      <td>0</td>\n",
       "      <td>0</td>\n",
       "      <td>0</td>\n",
       "      <td>0</td>\n",
       "      <td>0</td>\n",
       "      <td>0</td>\n",
       "      <td>0</td>\n",
       "      <td>0</td>\n",
       "    </tr>\n",
       "    <tr>\n",
       "      <th>...</th>\n",
       "      <td>...</td>\n",
       "      <td>...</td>\n",
       "      <td>...</td>\n",
       "      <td>...</td>\n",
       "      <td>...</td>\n",
       "      <td>...</td>\n",
       "      <td>...</td>\n",
       "      <td>...</td>\n",
       "      <td>...</td>\n",
       "      <td>...</td>\n",
       "      <td>...</td>\n",
       "      <td>...</td>\n",
       "      <td>...</td>\n",
       "      <td>...</td>\n",
       "      <td>...</td>\n",
       "      <td>...</td>\n",
       "      <td>...</td>\n",
       "      <td>...</td>\n",
       "      <td>...</td>\n",
       "      <td>...</td>\n",
       "      <td>...</td>\n",
       "    </tr>\n",
       "    <tr>\n",
       "      <th>39769</th>\n",
       "      <td>497120</td>\n",
       "      <td>3</td>\n",
       "      <td>0</td>\n",
       "      <td>0</td>\n",
       "      <td>0</td>\n",
       "      <td>0</td>\n",
       "      <td>0</td>\n",
       "      <td>0</td>\n",
       "      <td>0</td>\n",
       "      <td>0</td>\n",
       "      <td>...</td>\n",
       "      <td>0</td>\n",
       "      <td>0</td>\n",
       "      <td>0</td>\n",
       "      <td>0</td>\n",
       "      <td>0</td>\n",
       "      <td>0</td>\n",
       "      <td>0</td>\n",
       "      <td>0</td>\n",
       "      <td>0</td>\n",
       "      <td>0</td>\n",
       "    </tr>\n",
       "    <tr>\n",
       "      <th>39770</th>\n",
       "      <td>596556</td>\n",
       "      <td>1</td>\n",
       "      <td>0</td>\n",
       "      <td>0</td>\n",
       "      <td>0</td>\n",
       "      <td>0</td>\n",
       "      <td>0</td>\n",
       "      <td>0</td>\n",
       "      <td>0</td>\n",
       "      <td>0</td>\n",
       "      <td>...</td>\n",
       "      <td>0</td>\n",
       "      <td>0</td>\n",
       "      <td>0</td>\n",
       "      <td>0</td>\n",
       "      <td>0</td>\n",
       "      <td>0</td>\n",
       "      <td>0</td>\n",
       "      <td>0</td>\n",
       "      <td>0</td>\n",
       "      <td>0</td>\n",
       "    </tr>\n",
       "    <tr>\n",
       "      <th>39771</th>\n",
       "      <td>646282</td>\n",
       "      <td>16</td>\n",
       "      <td>0</td>\n",
       "      <td>0</td>\n",
       "      <td>0</td>\n",
       "      <td>0</td>\n",
       "      <td>0</td>\n",
       "      <td>0</td>\n",
       "      <td>0</td>\n",
       "      <td>0</td>\n",
       "      <td>...</td>\n",
       "      <td>0</td>\n",
       "      <td>0</td>\n",
       "      <td>0</td>\n",
       "      <td>0</td>\n",
       "      <td>0</td>\n",
       "      <td>0</td>\n",
       "      <td>0</td>\n",
       "      <td>0</td>\n",
       "      <td>0</td>\n",
       "      <td>0</td>\n",
       "    </tr>\n",
       "    <tr>\n",
       "      <th>39772</th>\n",
       "      <td>1044036</td>\n",
       "      <td>3</td>\n",
       "      <td>0</td>\n",
       "      <td>0</td>\n",
       "      <td>0</td>\n",
       "      <td>0</td>\n",
       "      <td>0</td>\n",
       "      <td>0</td>\n",
       "      <td>0</td>\n",
       "      <td>0</td>\n",
       "      <td>...</td>\n",
       "      <td>0</td>\n",
       "      <td>0</td>\n",
       "      <td>0</td>\n",
       "      <td>0</td>\n",
       "      <td>0</td>\n",
       "      <td>0</td>\n",
       "      <td>0</td>\n",
       "      <td>0</td>\n",
       "      <td>0</td>\n",
       "      <td>0</td>\n",
       "    </tr>\n",
       "    <tr>\n",
       "      <th>39773</th>\n",
       "      <td>994340</td>\n",
       "      <td>7</td>\n",
       "      <td>0</td>\n",
       "      <td>0</td>\n",
       "      <td>0</td>\n",
       "      <td>0</td>\n",
       "      <td>0</td>\n",
       "      <td>0</td>\n",
       "      <td>0</td>\n",
       "      <td>0</td>\n",
       "      <td>...</td>\n",
       "      <td>0</td>\n",
       "      <td>0</td>\n",
       "      <td>0</td>\n",
       "      <td>0</td>\n",
       "      <td>0</td>\n",
       "      <td>0</td>\n",
       "      <td>0</td>\n",
       "      <td>0</td>\n",
       "      <td>0</td>\n",
       "      <td>0</td>\n",
       "    </tr>\n",
       "  </tbody>\n",
       "</table>\n",
       "<p>39774 rows × 2275 columns</p>\n",
       "</div>"
      ],
      "text/plain": [
       "       ID_recipe cuisine  7 Up  Accent Seasoning  Adobo All Purpose Seasoning  \\\n",
       "0              0       5     0                 0                            0   \n",
       "1             15       7     0                 0                            0   \n",
       "2             36      14     0                 0                            0   \n",
       "3             30       8     0                 0                            0   \n",
       "4             16       6     0                 0                            0   \n",
       "...          ...     ...   ...               ...                          ...   \n",
       "39769     497120       3     0                 0                            0   \n",
       "39770     596556       1     0                 0                            0   \n",
       "39771     646282      16     0                 0                            0   \n",
       "39772    1044036       3     0                 0                            0   \n",
       "39773     994340       7     0                 0                            0   \n",
       "\n",
       "       Alexia Waffle Fries  Amaretti Cookies  Anaheim chile  \\\n",
       "0                        0                 0              0   \n",
       "1                        0                 0              0   \n",
       "2                        0                 0              0   \n",
       "3                        0                 0              0   \n",
       "4                        0                 0              0   \n",
       "...                    ...               ...            ...   \n",
       "39769                    0                 0              0   \n",
       "39770                    0                 0              0   \n",
       "39771                    0                 0              0   \n",
       "39772                    0                 0              0   \n",
       "39773                    0                 0              0   \n",
       "\n",
       "       Angostura bitters  Argo Corn Starch  ...  yuca  yucca  yucca root  \\\n",
       "0                      0                 0  ...     0      0           0   \n",
       "1                      0                 0  ...     0      0           0   \n",
       "2                      0                 0  ...     0      0           0   \n",
       "3                      0                 0  ...     0      0           0   \n",
       "4                      0                 0  ...     0      0           0   \n",
       "...                  ...               ...  ...   ...    ...         ...   \n",
       "39769                  0                 0  ...     0      0           0   \n",
       "39770                  0                 0  ...     0      0           0   \n",
       "39771                  0                 0  ...     0      0           0   \n",
       "39772                  0                 0  ...     0      0           0   \n",
       "39773                  0                 0  ...     0      0           0   \n",
       "\n",
       "       yukon gold  yuzu  za'atar  zest  zinfandel  ziti  zucchini  \n",
       "0               0     0        0     0          0     0         0  \n",
       "1               0     0        0     0          0     0         0  \n",
       "2               0     0        0     0          0     0         0  \n",
       "3               0     0        0     0          0     0         0  \n",
       "4               0     0        0     0          0     0         0  \n",
       "...           ...   ...      ...   ...        ...   ...       ...  \n",
       "39769           0     0        0     0          0     0         0  \n",
       "39770           0     0        0     0          0     0         0  \n",
       "39771           0     0        0     0          0     0         0  \n",
       "39772           0     0        0     0          0     0         0  \n",
       "39773           0     0        0     0          0     0         0  \n",
       "\n",
       "[39774 rows x 2275 columns]"
      ]
     },
     "execution_count": 94,
     "metadata": {},
     "output_type": "execute_result"
    }
   ],
   "source": [
    "Kdf_11"
   ]
  },
  {
   "cell_type": "code",
   "execution_count": 95,
   "id": "6e3779ef",
   "metadata": {
    "hidden": true
   },
   "outputs": [
    {
     "data": {
      "text/plain": [
       "array(['5', '7', '14', '8', '6', '1', '3', '10', '12', '4', '15', '0',\n",
       "       '19', '16', '18', '17', '2', '11', '9', '13'], dtype=object)"
      ]
     },
     "execution_count": 95,
     "metadata": {},
     "output_type": "execute_result"
    }
   ],
   "source": [
    "Kdf_11['cuisine'].unique()"
   ]
  },
  {
   "cell_type": "code",
   "execution_count": 96,
   "id": "0c92ee6e",
   "metadata": {
    "hidden": true
   },
   "outputs": [
    {
     "data": {
      "text/html": [
       "<div>\n",
       "<style scoped>\n",
       "    .dataframe tbody tr th:only-of-type {\n",
       "        vertical-align: middle;\n",
       "    }\n",
       "\n",
       "    .dataframe tbody tr th {\n",
       "        vertical-align: top;\n",
       "    }\n",
       "\n",
       "    .dataframe thead th {\n",
       "        text-align: right;\n",
       "    }\n",
       "</style>\n",
       "<table border=\"1\" class=\"dataframe\">\n",
       "  <thead>\n",
       "    <tr style=\"text-align: right;\">\n",
       "      <th></th>\n",
       "      <th>ID_recipe</th>\n",
       "      <th>cuisine</th>\n",
       "      <th>7 Up</th>\n",
       "      <th>Accent Seasoning</th>\n",
       "      <th>Adobo All Purpose Seasoning</th>\n",
       "      <th>Alexia Waffle Fries</th>\n",
       "      <th>Amaretti Cookies</th>\n",
       "      <th>Anaheim chile</th>\n",
       "      <th>Angostura bitters</th>\n",
       "      <th>Argo Corn Starch</th>\n",
       "      <th>...</th>\n",
       "      <th>yuca</th>\n",
       "      <th>yucca</th>\n",
       "      <th>yucca root</th>\n",
       "      <th>yukon gold</th>\n",
       "      <th>yuzu</th>\n",
       "      <th>za'atar</th>\n",
       "      <th>zest</th>\n",
       "      <th>zinfandel</th>\n",
       "      <th>ziti</th>\n",
       "      <th>zucchini</th>\n",
       "    </tr>\n",
       "  </thead>\n",
       "  <tbody>\n",
       "    <tr>\n",
       "      <th>0</th>\n",
       "      <td>0</td>\n",
       "      <td>5</td>\n",
       "      <td>0</td>\n",
       "      <td>0</td>\n",
       "      <td>0</td>\n",
       "      <td>0</td>\n",
       "      <td>0</td>\n",
       "      <td>0</td>\n",
       "      <td>0</td>\n",
       "      <td>0</td>\n",
       "      <td>...</td>\n",
       "      <td>0</td>\n",
       "      <td>0</td>\n",
       "      <td>0</td>\n",
       "      <td>0</td>\n",
       "      <td>0</td>\n",
       "      <td>0</td>\n",
       "      <td>0</td>\n",
       "      <td>0</td>\n",
       "      <td>0</td>\n",
       "      <td>0</td>\n",
       "    </tr>\n",
       "    <tr>\n",
       "      <th>1</th>\n",
       "      <td>15</td>\n",
       "      <td>7</td>\n",
       "      <td>0</td>\n",
       "      <td>0</td>\n",
       "      <td>0</td>\n",
       "      <td>0</td>\n",
       "      <td>0</td>\n",
       "      <td>0</td>\n",
       "      <td>0</td>\n",
       "      <td>0</td>\n",
       "      <td>...</td>\n",
       "      <td>0</td>\n",
       "      <td>0</td>\n",
       "      <td>0</td>\n",
       "      <td>0</td>\n",
       "      <td>0</td>\n",
       "      <td>0</td>\n",
       "      <td>0</td>\n",
       "      <td>0</td>\n",
       "      <td>0</td>\n",
       "      <td>0</td>\n",
       "    </tr>\n",
       "    <tr>\n",
       "      <th>2</th>\n",
       "      <td>36</td>\n",
       "      <td>14</td>\n",
       "      <td>0</td>\n",
       "      <td>0</td>\n",
       "      <td>0</td>\n",
       "      <td>0</td>\n",
       "      <td>0</td>\n",
       "      <td>0</td>\n",
       "      <td>0</td>\n",
       "      <td>0</td>\n",
       "      <td>...</td>\n",
       "      <td>0</td>\n",
       "      <td>0</td>\n",
       "      <td>0</td>\n",
       "      <td>0</td>\n",
       "      <td>0</td>\n",
       "      <td>0</td>\n",
       "      <td>0</td>\n",
       "      <td>0</td>\n",
       "      <td>0</td>\n",
       "      <td>0</td>\n",
       "    </tr>\n",
       "    <tr>\n",
       "      <th>3</th>\n",
       "      <td>30</td>\n",
       "      <td>8</td>\n",
       "      <td>0</td>\n",
       "      <td>0</td>\n",
       "      <td>0</td>\n",
       "      <td>0</td>\n",
       "      <td>0</td>\n",
       "      <td>0</td>\n",
       "      <td>0</td>\n",
       "      <td>0</td>\n",
       "      <td>...</td>\n",
       "      <td>0</td>\n",
       "      <td>0</td>\n",
       "      <td>0</td>\n",
       "      <td>0</td>\n",
       "      <td>0</td>\n",
       "      <td>0</td>\n",
       "      <td>0</td>\n",
       "      <td>0</td>\n",
       "      <td>0</td>\n",
       "      <td>0</td>\n",
       "    </tr>\n",
       "    <tr>\n",
       "      <th>4</th>\n",
       "      <td>16</td>\n",
       "      <td>6</td>\n",
       "      <td>0</td>\n",
       "      <td>0</td>\n",
       "      <td>0</td>\n",
       "      <td>0</td>\n",
       "      <td>0</td>\n",
       "      <td>0</td>\n",
       "      <td>0</td>\n",
       "      <td>0</td>\n",
       "      <td>...</td>\n",
       "      <td>0</td>\n",
       "      <td>0</td>\n",
       "      <td>0</td>\n",
       "      <td>0</td>\n",
       "      <td>0</td>\n",
       "      <td>0</td>\n",
       "      <td>0</td>\n",
       "      <td>0</td>\n",
       "      <td>0</td>\n",
       "      <td>0</td>\n",
       "    </tr>\n",
       "    <tr>\n",
       "      <th>...</th>\n",
       "      <td>...</td>\n",
       "      <td>...</td>\n",
       "      <td>...</td>\n",
       "      <td>...</td>\n",
       "      <td>...</td>\n",
       "      <td>...</td>\n",
       "      <td>...</td>\n",
       "      <td>...</td>\n",
       "      <td>...</td>\n",
       "      <td>...</td>\n",
       "      <td>...</td>\n",
       "      <td>...</td>\n",
       "      <td>...</td>\n",
       "      <td>...</td>\n",
       "      <td>...</td>\n",
       "      <td>...</td>\n",
       "      <td>...</td>\n",
       "      <td>...</td>\n",
       "      <td>...</td>\n",
       "      <td>...</td>\n",
       "      <td>...</td>\n",
       "    </tr>\n",
       "    <tr>\n",
       "      <th>39769</th>\n",
       "      <td>497120</td>\n",
       "      <td>3</td>\n",
       "      <td>0</td>\n",
       "      <td>0</td>\n",
       "      <td>0</td>\n",
       "      <td>0</td>\n",
       "      <td>0</td>\n",
       "      <td>0</td>\n",
       "      <td>0</td>\n",
       "      <td>0</td>\n",
       "      <td>...</td>\n",
       "      <td>0</td>\n",
       "      <td>0</td>\n",
       "      <td>0</td>\n",
       "      <td>0</td>\n",
       "      <td>0</td>\n",
       "      <td>0</td>\n",
       "      <td>0</td>\n",
       "      <td>0</td>\n",
       "      <td>0</td>\n",
       "      <td>0</td>\n",
       "    </tr>\n",
       "    <tr>\n",
       "      <th>39770</th>\n",
       "      <td>596556</td>\n",
       "      <td>1</td>\n",
       "      <td>0</td>\n",
       "      <td>0</td>\n",
       "      <td>0</td>\n",
       "      <td>0</td>\n",
       "      <td>0</td>\n",
       "      <td>0</td>\n",
       "      <td>0</td>\n",
       "      <td>0</td>\n",
       "      <td>...</td>\n",
       "      <td>0</td>\n",
       "      <td>0</td>\n",
       "      <td>0</td>\n",
       "      <td>0</td>\n",
       "      <td>0</td>\n",
       "      <td>0</td>\n",
       "      <td>0</td>\n",
       "      <td>0</td>\n",
       "      <td>0</td>\n",
       "      <td>0</td>\n",
       "    </tr>\n",
       "    <tr>\n",
       "      <th>39771</th>\n",
       "      <td>646282</td>\n",
       "      <td>16</td>\n",
       "      <td>0</td>\n",
       "      <td>0</td>\n",
       "      <td>0</td>\n",
       "      <td>0</td>\n",
       "      <td>0</td>\n",
       "      <td>0</td>\n",
       "      <td>0</td>\n",
       "      <td>0</td>\n",
       "      <td>...</td>\n",
       "      <td>0</td>\n",
       "      <td>0</td>\n",
       "      <td>0</td>\n",
       "      <td>0</td>\n",
       "      <td>0</td>\n",
       "      <td>0</td>\n",
       "      <td>0</td>\n",
       "      <td>0</td>\n",
       "      <td>0</td>\n",
       "      <td>0</td>\n",
       "    </tr>\n",
       "    <tr>\n",
       "      <th>39772</th>\n",
       "      <td>1044036</td>\n",
       "      <td>3</td>\n",
       "      <td>0</td>\n",
       "      <td>0</td>\n",
       "      <td>0</td>\n",
       "      <td>0</td>\n",
       "      <td>0</td>\n",
       "      <td>0</td>\n",
       "      <td>0</td>\n",
       "      <td>0</td>\n",
       "      <td>...</td>\n",
       "      <td>0</td>\n",
       "      <td>0</td>\n",
       "      <td>0</td>\n",
       "      <td>0</td>\n",
       "      <td>0</td>\n",
       "      <td>0</td>\n",
       "      <td>0</td>\n",
       "      <td>0</td>\n",
       "      <td>0</td>\n",
       "      <td>0</td>\n",
       "    </tr>\n",
       "    <tr>\n",
       "      <th>39773</th>\n",
       "      <td>994340</td>\n",
       "      <td>7</td>\n",
       "      <td>0</td>\n",
       "      <td>0</td>\n",
       "      <td>0</td>\n",
       "      <td>0</td>\n",
       "      <td>0</td>\n",
       "      <td>0</td>\n",
       "      <td>0</td>\n",
       "      <td>0</td>\n",
       "      <td>...</td>\n",
       "      <td>0</td>\n",
       "      <td>0</td>\n",
       "      <td>0</td>\n",
       "      <td>0</td>\n",
       "      <td>0</td>\n",
       "      <td>0</td>\n",
       "      <td>0</td>\n",
       "      <td>0</td>\n",
       "      <td>0</td>\n",
       "      <td>0</td>\n",
       "    </tr>\n",
       "  </tbody>\n",
       "</table>\n",
       "<p>39774 rows × 2275 columns</p>\n",
       "</div>"
      ],
      "text/plain": [
       "       ID_recipe  cuisine  7 Up  Accent Seasoning  \\\n",
       "0              0        5     0                 0   \n",
       "1             15        7     0                 0   \n",
       "2             36       14     0                 0   \n",
       "3             30        8     0                 0   \n",
       "4             16        6     0                 0   \n",
       "...          ...      ...   ...               ...   \n",
       "39769     497120        3     0                 0   \n",
       "39770     596556        1     0                 0   \n",
       "39771     646282       16     0                 0   \n",
       "39772    1044036        3     0                 0   \n",
       "39773     994340        7     0                 0   \n",
       "\n",
       "       Adobo All Purpose Seasoning  Alexia Waffle Fries  Amaretti Cookies  \\\n",
       "0                                0                    0                 0   \n",
       "1                                0                    0                 0   \n",
       "2                                0                    0                 0   \n",
       "3                                0                    0                 0   \n",
       "4                                0                    0                 0   \n",
       "...                            ...                  ...               ...   \n",
       "39769                            0                    0                 0   \n",
       "39770                            0                    0                 0   \n",
       "39771                            0                    0                 0   \n",
       "39772                            0                    0                 0   \n",
       "39773                            0                    0                 0   \n",
       "\n",
       "       Anaheim chile  Angostura bitters  Argo Corn Starch  ...  yuca  yucca  \\\n",
       "0                  0                  0                 0  ...     0      0   \n",
       "1                  0                  0                 0  ...     0      0   \n",
       "2                  0                  0                 0  ...     0      0   \n",
       "3                  0                  0                 0  ...     0      0   \n",
       "4                  0                  0                 0  ...     0      0   \n",
       "...              ...                ...               ...  ...   ...    ...   \n",
       "39769              0                  0                 0  ...     0      0   \n",
       "39770              0                  0                 0  ...     0      0   \n",
       "39771              0                  0                 0  ...     0      0   \n",
       "39772              0                  0                 0  ...     0      0   \n",
       "39773              0                  0                 0  ...     0      0   \n",
       "\n",
       "       yucca root  yukon gold  yuzu  za'atar  zest  zinfandel  ziti  zucchini  \n",
       "0               0           0     0        0     0          0     0         0  \n",
       "1               0           0     0        0     0          0     0         0  \n",
       "2               0           0     0        0     0          0     0         0  \n",
       "3               0           0     0        0     0          0     0         0  \n",
       "4               0           0     0        0     0          0     0         0  \n",
       "...           ...         ...   ...      ...   ...        ...   ...       ...  \n",
       "39769           0           0     0        0     0          0     0         0  \n",
       "39770           0           0     0        0     0          0     0         0  \n",
       "39771           0           0     0        0     0          0     0         0  \n",
       "39772           0           0     0        0     0          0     0         0  \n",
       "39773           0           0     0        0     0          0     0         0  \n",
       "\n",
       "[39774 rows x 2275 columns]"
      ]
     },
     "execution_count": 96,
     "metadata": {},
     "output_type": "execute_result"
    }
   ],
   "source": [
    "Kdf_11.astype({'cuisine': 'int64'})"
   ]
  },
  {
   "cell_type": "markdown",
   "id": "f1684c58",
   "metadata": {
    "hidden": true
   },
   "source": [
    " "
   ]
  },
  {
   "cell_type": "markdown",
   "id": "6edcb6d8",
   "metadata": {
    "hidden": true
   },
   "source": [
    " "
   ]
  },
  {
   "cell_type": "markdown",
   "id": "a71112b6",
   "metadata": {
    "hidden": true
   },
   "source": [
    "Set record as np.array to pass it to model"
   ]
  },
  {
   "cell_type": "code",
   "execution_count": 97,
   "id": "4a21734e",
   "metadata": {
    "hidden": true
   },
   "outputs": [],
   "source": [
    "Xa = Kdf_11.iloc[:,2:Kdf_11.shape[1]]"
   ]
  },
  {
   "cell_type": "code",
   "execution_count": 98,
   "id": "87376563",
   "metadata": {
    "hidden": true
   },
   "outputs": [],
   "source": [
    "ya = Kdf_11['cuisine']"
   ]
  },
  {
   "cell_type": "code",
   "execution_count": 99,
   "id": "b733507b",
   "metadata": {
    "hidden": true
   },
   "outputs": [],
   "source": [
    "Xa_train, Xa_test, ya_train, ya_test = train_test_split(Xa, ya, train_size=0.75) "
   ]
  },
  {
   "cell_type": "markdown",
   "id": "702f9c27",
   "metadata": {
    "hidden": true
   },
   "source": [
    " "
   ]
  },
  {
   "cell_type": "markdown",
   "id": "05c8df11",
   "metadata": {
    "hidden": true
   },
   "source": [
    " "
   ]
  },
  {
   "cell_type": "markdown",
   "id": "ab50b092",
   "metadata": {
    "hidden": true
   },
   "source": [
    "Run regression"
   ]
  },
  {
   "cell_type": "code",
   "execution_count": 100,
   "id": "6137ac84",
   "metadata": {
    "hidden": true
   },
   "outputs": [
    {
     "data": {
      "text/plain": [
       "LogisticRegression(solver='sag')"
      ]
     },
     "execution_count": 100,
     "metadata": {},
     "output_type": "execute_result"
    }
   ],
   "source": [
    "model = LogisticRegression(solver=\"sag\") \n",
    "model.fit(Xa_train, ya_train)"
   ]
  },
  {
   "cell_type": "code",
   "execution_count": 101,
   "id": "5adef74b",
   "metadata": {
    "hidden": true
   },
   "outputs": [],
   "source": [
    "y3a = model.predict(Xa_test)"
   ]
  },
  {
   "cell_type": "code",
   "execution_count": 102,
   "id": "e7538f9e",
   "metadata": {
    "hidden": true
   },
   "outputs": [
    {
     "name": "stdout",
     "output_type": "stream",
     "text": [
      "0.7223451327433629\n",
      "\n",
      "The score for our model is 72.23.\n"
     ]
    }
   ],
   "source": [
    "print(model.score(Xa_test, ya_test)) #überprüfe Modellgüte; mache für jeden Test-DF vorhersage und überprüfe Outcome\n",
    "print(f'\\nThe score for our model is {(model.score(Xa_test,ya_test)*100).round(2)}.')"
   ]
  },
  {
   "cell_type": "markdown",
   "id": "44109584",
   "metadata": {
    "hidden": true
   },
   "source": [
    " "
   ]
  },
  {
   "cell_type": "markdown",
   "id": "3786ecb7",
   "metadata": {
    "hidden": true
   },
   "source": [
    " "
   ]
  },
  {
   "cell_type": "markdown",
   "id": "12866599",
   "metadata": {
    "hidden": true
   },
   "source": [
    " "
   ]
  },
  {
   "cell_type": "markdown",
   "id": "dafe8a21",
   "metadata": {
    "hidden": true
   },
   "source": [
    " "
   ]
  },
  {
   "cell_type": "markdown",
   "id": "929da6db",
   "metadata": {
    "hidden": true
   },
   "source": [
    " "
   ]
  },
  {
   "cell_type": "markdown",
   "id": "2ee26cff",
   "metadata": {
    "heading_collapsed": true,
    "hidden": true
   },
   "source": [
    "## Decision Tree"
   ]
  },
  {
   "cell_type": "markdown",
   "id": "1020fc6e",
   "metadata": {
    "hidden": true
   },
   "source": [
    "Advantages of using a decision tree model: \n",
    "- Well suited for high-dimensional data\n",
    "- Comprehensible classification"
   ]
  },
  {
   "cell_type": "code",
   "execution_count": 103,
   "id": "060cd841",
   "metadata": {
    "hidden": true
   },
   "outputs": [
    {
     "data": {
      "text/plain": [
       "DecisionTreeClassifier(max_depth=2)"
      ]
     },
     "execution_count": 103,
     "metadata": {},
     "output_type": "execute_result"
    }
   ],
   "source": [
    "from sklearn.tree import DecisionTreeClassifier\n",
    "from sklearn.model_selection import train_test_split\n",
    "\n",
    "model = DecisionTreeClassifier(max_depth = 2) #höhere Werte führen in unserem Bsp zu besserem Fitting\n",
    "model.fit(X_train,y_train)"
   ]
  },
  {
   "cell_type": "markdown",
   "id": "b8df98da",
   "metadata": {
    "hidden": true
   },
   "source": [
    " "
   ]
  },
  {
   "cell_type": "markdown",
   "id": "eff91df4",
   "metadata": {
    "hidden": true
   },
   "source": [
    "Evaluate the fit of the model with respect to overfitting / underfitting:"
   ]
  },
  {
   "cell_type": "code",
   "execution_count": 104,
   "id": "a01e87bd",
   "metadata": {
    "hidden": true
   },
   "outputs": [
    {
     "name": "stdout",
     "output_type": "stream",
     "text": [
      "0.667531854648419\n",
      "0.6621036897175675\n"
     ]
    }
   ],
   "source": [
    "print(model.score(X_test, y_test)) #Genauigkeit bei Anwendung auf Testdaten\n",
    "print(model.score(X_train, y_train))"
   ]
  },
  {
   "cell_type": "code",
   "execution_count": 105,
   "id": "973e4a7a",
   "metadata": {
    "hidden": true
   },
   "outputs": [
    {
     "data": {
      "image/png": "[encoded data removed]",
      "text/plain": [
       "<Figure size 1200x1200 with 1 Axes>"
      ]
     },
     "metadata": {},
     "output_type": "display_data"
    }
   ],
   "source": [
    "#plot details\n",
    "\n",
    "from sklearn.tree import plot_tree\n",
    "import matplotlib.pyplot as plt\n",
    "plt.figure(figsize=(12,12))\n",
    "plot_tree(model, fontsize=12, filled=True, class_names=[\"mex\",\"it\",\"chin\"], feature_names = ['ID_recipe','cuisine','tomatoes','basil','parsley','wine','cilantro','chili','corn','ice','sauce','scallions'])\n",
    "plt.show()\n",
    "#the darker the color background, the higher the probabilty for the respective classification."
   ]
  },
  {
   "cell_type": "markdown",
   "id": "d75bb9d6",
   "metadata": {
    "hidden": true
   },
   "source": [
    " "
   ]
  },
  {
   "cell_type": "markdown",
   "id": "e2179294",
   "metadata": {
    "hidden": true
   },
   "source": [
    " "
   ]
  },
  {
   "cell_type": "markdown",
   "id": "980db718",
   "metadata": {
    "heading_collapsed": true
   },
   "source": [
    "# 5: Ideas on similarities of country cuisines\n",
    "\n",
    "Clustering approach. This again requires a suitable preparation of the data. \n",
    "\n",
    "Question: On what basis is the similarity made out? \n",
    "\n",
    "Ideas:\n",
    "- Specify per ingredient, in what percentage of the recipes the ingredient is contained --> get value in [0,1].\n",
    "- Give the same value in absolute sum, gives then still over the quantity of the recipes information"
   ]
  }
 ],
 "metadata": {
  "kernelspec": {
   "display_name": "Python 3 (ipykernel)",
   "language": "python",
   "name": "python3"
  },
  "language_info": {
   "codemirror_mode": {
    "name": "ipython",
    "version": 3
   },
   "file_extension": ".py",
   "mimetype": "text/x-python",
   "name": "python",
   "nbconvert_exporter": "python",
   "pygments_lexer": "ipython3",
   "version": "3.9.13"
  }
 },
 "nbformat": 4,
 "nbformat_minor": 5
}
